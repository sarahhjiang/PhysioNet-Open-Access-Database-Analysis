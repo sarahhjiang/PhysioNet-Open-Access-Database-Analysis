{
 "cells": [
  {
   "cell_type": "code",
   "execution_count": 17,
   "metadata": {},
   "outputs": [],
   "source": [
    "import seaborn as sns\n",
    "import pandas as pd\n",
    "import matplotlib.pyplot as plt\n",
    "import numpy as np\n",
    "from matplotlib.ticker import PercentFormatter\n",
    "from scipy import stats\n"
   ]
  },
  {
   "cell_type": "code",
   "execution_count": 18,
   "metadata": {},
   "outputs": [
    {
     "name": "stdout",
     "output_type": "stream",
     "text": [
      "(175, 25)\n"
     ]
    },
    {
     "data": {
      "text/html": [
       "<div>\n",
       "<style scoped>\n",
       "    .dataframe tbody tr th:only-of-type {\n",
       "        vertical-align: middle;\n",
       "    }\n",
       "\n",
       "    .dataframe tbody tr th {\n",
       "        vertical-align: top;\n",
       "    }\n",
       "\n",
       "    .dataframe thead th {\n",
       "        text-align: right;\n",
       "    }\n",
       "</style>\n",
       "<table border=\"1\" class=\"dataframe\">\n",
       "  <thead>\n",
       "    <tr style=\"text-align: right;\">\n",
       "      <th></th>\n",
       "      <th>Study Name/Number</th>\n",
       "      <th>Race</th>\n",
       "      <th>Race Present</th>\n",
       "      <th>Ethnicity</th>\n",
       "      <th>Ethnicity Present</th>\n",
       "      <th>Study sample size</th>\n",
       "      <th>Sex Present</th>\n",
       "      <th>Male</th>\n",
       "      <th>Female</th>\n",
       "      <th>Unknown / Not Reported</th>\n",
       "      <th>...</th>\n",
       "      <th>Max Age</th>\n",
       "      <th>Country/Region</th>\n",
       "      <th>Location</th>\n",
       "      <th>Pre-existing conditions and/or Symptoms</th>\n",
       "      <th>Instruments used</th>\n",
       "      <th>Socioeconomic Status</th>\n",
       "      <th>Data Collected (differnent levels of)</th>\n",
       "      <th>Date Study was Conducted/Published</th>\n",
       "      <th>Date Study Posted on PhysioNet</th>\n",
       "      <th>Field</th>\n",
       "    </tr>\n",
       "  </thead>\n",
       "  <tbody>\n",
       "    <tr>\n",
       "      <th>0</th>\n",
       "      <td>A large scale 12-lead electrocardiogram databa...</td>\n",
       "      <td>X</td>\n",
       "      <td>0</td>\n",
       "      <td>X</td>\n",
       "      <td>0</td>\n",
       "      <td>45, 152 patients</td>\n",
       "      <td>1</td>\n",
       "      <td>X</td>\n",
       "      <td>X</td>\n",
       "      <td>NaN</td>\n",
       "      <td>...</td>\n",
       "      <td>NaN</td>\n",
       "      <td>China</td>\n",
       "      <td>Chapman University, Shaoxing People's Hospital...</td>\n",
       "      <td>Includes information about pre-existing condit...</td>\n",
       "      <td>GE MUSE ECG System</td>\n",
       "      <td>X</td>\n",
       "      <td>NaN</td>\n",
       "      <td>NaN</td>\n",
       "      <td>NaN</td>\n",
       "      <td>cardiac_electrophysiology</td>\n",
       "    </tr>\n",
       "    <tr>\n",
       "      <th>1</th>\n",
       "      <td>A multi-camera and multimodal dataset for post...</td>\n",
       "      <td>X</td>\n",
       "      <td>0</td>\n",
       "      <td>X</td>\n",
       "      <td>0</td>\n",
       "      <td>14</td>\n",
       "      <td>1</td>\n",
       "      <td>10</td>\n",
       "      <td>4</td>\n",
       "      <td>NaN</td>\n",
       "      <td>...</td>\n",
       "      <td>30.00</td>\n",
       "      <td>Portugal</td>\n",
       "      <td>Portugal (University of Minho)</td>\n",
       "      <td>No clinical history of any abnormalities</td>\n",
       "      <td>MVN BIOMECH</td>\n",
       "      <td>X</td>\n",
       "      <td>walking straight in a corridor, turning right ...</td>\n",
       "      <td>NaN</td>\n",
       "      <td>NaN</td>\n",
       "      <td>gait/balance/motion</td>\n",
       "    </tr>\n",
       "    <tr>\n",
       "      <th>2</th>\n",
       "      <td>A Pressure Map Dataset for In-bed Posture Clas...</td>\n",
       "      <td>X</td>\n",
       "      <td>0</td>\n",
       "      <td>X</td>\n",
       "      <td>0</td>\n",
       "      <td>Experiment 1: 13 participants               Ex...</td>\n",
       "      <td>0</td>\n",
       "      <td>X</td>\n",
       "      <td>X</td>\n",
       "      <td>NaN</td>\n",
       "      <td>...</td>\n",
       "      <td>34.00</td>\n",
       "      <td>USA</td>\n",
       "      <td>Texas (University of Texas at Dallas)</td>\n",
       "      <td>X</td>\n",
       "      <td>Experiment 1: Vista Medical FSA SoftFlex 2048 ...</td>\n",
       "      <td>X</td>\n",
       "      <td>in-bed posture pressure data</td>\n",
       "      <td>NaN</td>\n",
       "      <td>NaN</td>\n",
       "      <td>other</td>\n",
       "    </tr>\n",
       "    <tr>\n",
       "      <th>3</th>\n",
       "      <td>A Wearable Exam Stress Dataset for Predicting ...</td>\n",
       "      <td>X</td>\n",
       "      <td>0</td>\n",
       "      <td>X</td>\n",
       "      <td>0</td>\n",
       "      <td>10</td>\n",
       "      <td>0</td>\n",
       "      <td>X</td>\n",
       "      <td>X</td>\n",
       "      <td>NaN</td>\n",
       "      <td>...</td>\n",
       "      <td>NaN</td>\n",
       "      <td>USA</td>\n",
       "      <td>Texas (University of Houston</td>\n",
       "      <td>X</td>\n",
       "      <td>Empatica E4 wristband</td>\n",
       "      <td>NaN</td>\n",
       "      <td>electrodermal activity, heart rate, blood vol...</td>\n",
       "      <td>NaN</td>\n",
       "      <td>NaN</td>\n",
       "      <td>multi_parameter</td>\n",
       "    </tr>\n",
       "    <tr>\n",
       "      <th>4</th>\n",
       "      <td>Abdominal and Direct Fetal ECG Database: Multi...</td>\n",
       "      <td>X</td>\n",
       "      <td>0</td>\n",
       "      <td>X</td>\n",
       "      <td>0</td>\n",
       "      <td>5 women in labor were analyzed</td>\n",
       "      <td>0</td>\n",
       "      <td>X</td>\n",
       "      <td>X</td>\n",
       "      <td>NaN</td>\n",
       "      <td>...</td>\n",
       "      <td>0.79</td>\n",
       "      <td>Poland</td>\n",
       "      <td>Department of Obstetrics at the Medical Univer...</td>\n",
       "      <td>Women in labor</td>\n",
       "      <td>KOMPOREL System (ITAM Institute, Zabrze, Polan...</td>\n",
       "      <td>X</td>\n",
       "      <td>NaN</td>\n",
       "      <td>NaN</td>\n",
       "      <td>NaN</td>\n",
       "      <td>cardiac_electrophysiology</td>\n",
       "    </tr>\n",
       "  </tbody>\n",
       "</table>\n",
       "<p>5 rows × 25 columns</p>\n",
       "</div>"
      ],
      "text/plain": [
       "                                   Study Name/Number Race  Race Present  \\\n",
       "0  A large scale 12-lead electrocardiogram databa...    X             0   \n",
       "1  A multi-camera and multimodal dataset for post...    X             0   \n",
       "2  A Pressure Map Dataset for In-bed Posture Clas...    X             0   \n",
       "3  A Wearable Exam Stress Dataset for Predicting ...    X             0   \n",
       "4  Abdominal and Direct Fetal ECG Database: Multi...    X             0   \n",
       "\n",
       "  Ethnicity  Ethnicity Present  \\\n",
       "0         X                  0   \n",
       "1         X                  0   \n",
       "2         X                  0   \n",
       "3         X                  0   \n",
       "4         X                  0   \n",
       "\n",
       "                                   Study sample size  Sex Present Male Female  \\\n",
       "0                                   45, 152 patients            1    X      X   \n",
       "1                                                 14            1   10      4   \n",
       "2  Experiment 1: 13 participants               Ex...            0    X      X   \n",
       "3                                                 10            0    X      X   \n",
       "4                     5 women in labor were analyzed            0    X      X   \n",
       "\n",
       "  Unknown / Not Reported  ... Max Age Country/Region  \\\n",
       "0                    NaN  ...     NaN          China   \n",
       "1                    NaN  ...   30.00       Portugal   \n",
       "2                    NaN  ...   34.00            USA   \n",
       "3                    NaN  ...     NaN            USA   \n",
       "4                    NaN  ...    0.79         Poland   \n",
       "\n",
       "                                           Location   \\\n",
       "0  Chapman University, Shaoxing People's Hospital...   \n",
       "1                     Portugal (University of Minho)   \n",
       "2            Texas (University of Texas at Dallas)     \n",
       "3                       Texas (University of Houston   \n",
       "4  Department of Obstetrics at the Medical Univer...   \n",
       "\n",
       "             Pre-existing conditions and/or Symptoms  \\\n",
       "0  Includes information about pre-existing condit...   \n",
       "1           No clinical history of any abnormalities   \n",
       "2                                                  X   \n",
       "3                                                  X   \n",
       "4                                     Women in labor   \n",
       "\n",
       "                                    Instruments used  Socioeconomic Status  \\\n",
       "0                                 GE MUSE ECG System                     X   \n",
       "1                                        MVN BIOMECH                     X   \n",
       "2  Experiment 1: Vista Medical FSA SoftFlex 2048 ...                     X   \n",
       "3                              Empatica E4 wristband                   NaN   \n",
       "4  KOMPOREL System (ITAM Institute, Zabrze, Polan...                     X   \n",
       "\n",
       "               Data Collected (differnent levels of)  \\\n",
       "0                                                NaN   \n",
       "1  walking straight in a corridor, turning right ...   \n",
       "2                       in-bed posture pressure data   \n",
       "3   electrodermal activity, heart rate, blood vol...   \n",
       "4                                                NaN   \n",
       "\n",
       "  Date Study was Conducted/Published Date Study Posted on PhysioNet  \\\n",
       "0                                NaN                            NaN   \n",
       "1                                NaN                            NaN   \n",
       "2                                NaN                            NaN   \n",
       "3                                NaN                            NaN   \n",
       "4                                NaN                            NaN   \n",
       "\n",
       "                       Field  \n",
       "0  cardiac_electrophysiology  \n",
       "1        gait/balance/motion  \n",
       "2                      other  \n",
       "3            multi_parameter  \n",
       "4  cardiac_electrophysiology  \n",
       "\n",
       "[5 rows x 25 columns]"
      ]
     },
     "execution_count": 18,
     "metadata": {},
     "output_type": "execute_result"
    }
   ],
   "source": [
    "participant_data = pd.read_csv(\"Demographics Information - Human Participants.csv\")\n",
    "print(participant_data.shape)\n",
    "participant_data.head()"
   ]
  },
  {
   "cell_type": "code",
   "execution_count": 19,
   "metadata": {},
   "outputs": [
    {
     "name": "stdout",
     "output_type": "stream",
     "text": [
      "Race       10\n",
      "Ethn.       6\n",
      "Gender    131\n",
      "Age       126\n",
      "dtype: int64\n"
     ]
    }
   ],
   "source": [
    "data = participant_data[['Race Present', 'Ethnicity Present', 'Sex Present', 'Age Present']]\n",
    "data = data.rename(columns={\"Race Present\": \"Race\", \"Ethnicity Present\": \"Ethn.\", \"Age Present\": \"Age\", \"Sex Present\": \"Gender\"})\n",
    "data.head()\n",
    "sums = data.sum()\n",
    "print(sums)\n"
   ]
  },
  {
   "cell_type": "code",
   "execution_count": 20,
   "metadata": {},
   "outputs": [
    {
     "data": {
      "image/png": "[encoded data removed]",
      "text/plain": [
       "<Figure size 640x480 with 1 Axes>"
      ]
     },
     "metadata": {},
     "output_type": "display_data"
    }
   ],
   "source": [
    "def addlabels(x, y, c):\n",
    "    for i in range(len(x)):\n",
    "        plt.text(i, y[i]+2, c[i], ha='center', color='darkred')  # choose a color so the number above the bar is not confused with the y-axis labels\n",
    "\n",
    "simple = {'Gender': sums[2] / 1.75, 'Age': sums[3] / 1.75, 'Race': sums[0] / 1.75, 'Ethn.': sums[1] / 1.75}\n",
    "\n",
    "vars = list(simple.keys())\n",
    "values = list(simple.values())\n",
    "\n",
    "fig, ax = plt.subplots()\n",
    "plt.bar(vars, values, color='grey', edgecolor='black')\n",
    "plt.title('Demographic Variable Presence in Physionet Datasets\\n(n = 175)')\n",
    "plt.ylabel(\"Percentage of Studies Reporting\")\n",
    "plt.xlabel(\"Variable\")\n",
    "plt.ylim(0, 100)\n",
    "\n",
    "counts = [sums[2], sums[3], sums[0], sums[1]]\n",
    "addlabels(vars, values, counts)\n",
    "\n",
    "plt.annotate('*', xy=(.5, 87), ha='center', color='black', fontsize=12, weight='bold')\n",
    "plt.annotate(\"\", xy=(0, 85), xytext=(1, 85), arrowprops=dict(arrowstyle='|-|, widthB=1.0', lw=1.0, color='black'))\n",
    "\n",
    "plt.annotate('*', xy=(2.5, 19), ha='center', color='black', fontsize=12, weight='bold')\n",
    "plt.annotate(\"\", xy=(2, 17), xytext=(3, 17), arrowprops=dict(arrowstyle='|-|, widthB=1.0', lw=1.0, color='black'))\n",
    "\n",
    "plt.show()\n"
   ]
  },
  {
   "cell_type": "code",
   "execution_count": 21,
   "metadata": {},
   "outputs": [
    {
     "data": {
      "image/png": "[encoded data removed]",
      "text/plain": [
       "<Figure size 800x600 with 2 Axes>"
      ]
     },
     "metadata": {},
     "output_type": "display_data"
    }
   ],
   "source": [
    "p_values = [\n",
    "    [None, 9.4164e-13, 0.17625, 0.13602],\n",
    "    [9.4164e-13, None, 0.40433, 0.34369],\n",
    "    [0.17625, 0.40433, None, 3.4516e-16],\n",
    "    [0.13602, 0.34369, 3.4516e-16, None]\n",
    "]\n",
    "variable_names = ['Race', 'Ethnicity', 'Gender', 'Age']\n",
    "\n",
    "p_values_df = pd.DataFrame(p_values, index=variable_names, columns=variable_names)\n",
    "\n",
    "plt.figure(figsize=(8, 6))\n",
    "\n",
    "cmap = sns.color_palette(\"light:b_r\", as_cmap=True)\n",
    "\n",
    "\n",
    "def format_annotation(val):\n",
    "    if val is not None:\n",
    "        if val < 0.0083:\n",
    "            return f'{val:.2g}*'\n",
    "        else:\n",
    "            return f'{val:.2g}'\n",
    "    return ''\n",
    "\n",
    "annot_df = p_values_df.applymap(format_annotation)\n",
    "\n",
    "sns.heatmap(p_values_df, annot=annot_df, cmap=cmap, fmt='', cbar=True, annot_kws={'fontsize': 10})\n",
    "\n",
    "for i, label in enumerate(p_values_df.columns):\n",
    "    plt.text(i + 0.5, i + 0.5, 'X', ha='center', va='center', fontsize=10)\n",
    "\n",
    "plt.title('Chi-squared Test P-values Heatmap')\n",
    "plt.show()\n"
   ]
  },
  {
   "cell_type": "code",
   "execution_count": 22,
   "metadata": {},
   "outputs": [
    {
     "name": "stdout",
     "output_type": "stream",
     "text": [
      "(175, 5)\n"
     ]
    },
    {
     "data": {
      "text/html": [
       "<div>\n",
       "<style scoped>\n",
       "    .dataframe tbody tr th:only-of-type {\n",
       "        vertical-align: middle;\n",
       "    }\n",
       "\n",
       "    .dataframe tbody tr th {\n",
       "        vertical-align: top;\n",
       "    }\n",
       "\n",
       "    .dataframe thead th {\n",
       "        text-align: right;\n",
       "    }\n",
       "</style>\n",
       "<table border=\"1\" class=\"dataframe\">\n",
       "  <thead>\n",
       "    <tr style=\"text-align: right;\">\n",
       "      <th></th>\n",
       "      <th>Age Present</th>\n",
       "      <th>Average Age</th>\n",
       "      <th>Min Age</th>\n",
       "      <th>Max Age</th>\n",
       "      <th>Field</th>\n",
       "    </tr>\n",
       "  </thead>\n",
       "  <tbody>\n",
       "    <tr>\n",
       "      <th>0</th>\n",
       "      <td>1</td>\n",
       "      <td>NaN</td>\n",
       "      <td>NaN</td>\n",
       "      <td>NaN</td>\n",
       "      <td>cardiac_electrophysiology</td>\n",
       "    </tr>\n",
       "    <tr>\n",
       "      <th>1</th>\n",
       "      <td>1</td>\n",
       "      <td>25.4</td>\n",
       "      <td>18.00</td>\n",
       "      <td>30.00</td>\n",
       "      <td>gait/balance/motion</td>\n",
       "    </tr>\n",
       "    <tr>\n",
       "      <th>2</th>\n",
       "      <td>1</td>\n",
       "      <td>26.9</td>\n",
       "      <td>19.00</td>\n",
       "      <td>34.00</td>\n",
       "      <td>other</td>\n",
       "    </tr>\n",
       "    <tr>\n",
       "      <th>3</th>\n",
       "      <td>0</td>\n",
       "      <td>NaN</td>\n",
       "      <td>NaN</td>\n",
       "      <td>NaN</td>\n",
       "      <td>multi_parameter</td>\n",
       "    </tr>\n",
       "    <tr>\n",
       "      <th>4</th>\n",
       "      <td>1</td>\n",
       "      <td>NaN</td>\n",
       "      <td>0.69</td>\n",
       "      <td>0.79</td>\n",
       "      <td>cardiac_electrophysiology</td>\n",
       "    </tr>\n",
       "  </tbody>\n",
       "</table>\n",
       "</div>"
      ],
      "text/plain": [
       "   Age Present  Average Age  Min Age  Max Age                      Field\n",
       "0            1          NaN      NaN      NaN  cardiac_electrophysiology\n",
       "1            1         25.4    18.00    30.00        gait/balance/motion\n",
       "2            1         26.9    19.00    34.00                      other\n",
       "3            0          NaN      NaN      NaN            multi_parameter\n",
       "4            1          NaN     0.69     0.79  cardiac_electrophysiology"
      ]
     },
     "execution_count": 22,
     "metadata": {},
     "output_type": "execute_result"
    }
   ],
   "source": [
    "# age_data = pd.read_csv(\"Demographics Information - Age.csv\")\n",
    "age_data = participant_data[['Age Present', 'Average Age', 'Min Age', 'Max Age', 'Field']]\n",
    "print(age_data.shape)\n",
    "age_data.head()\n",
    "\n"
   ]
  },
  {
   "cell_type": "code",
   "execution_count": 23,
   "metadata": {},
   "outputs": [
    {
     "name": "stdout",
     "output_type": "stream",
     "text": [
      "68\n"
     ]
    }
   ],
   "source": [
    "no_outlier = age_data.drop(age_data.index[123])\n",
    "avg_age = age_data[\"Average Age\"].dropna()\n",
    "avg_age.head()\n",
    "print(avg_age.size)\n",
    "# print(avg_age.mean())"
   ]
  },
  {
   "cell_type": "code",
   "execution_count": 24,
   "metadata": {},
   "outputs": [
    {
     "name": "stdout",
     "output_type": "stream",
     "text": [
      "23.949589743584617\n"
     ]
    }
   ],
   "source": [
    "cleaned = age_data\n",
    "## .dropna(subset=['Ma Age', 'Total N'])\n",
    "min_age = cleaned[\"Min Age\"].dropna()\n",
    "min_age.head()\n",
    "# print(min_age.size)\n",
    "print(min_age.mean())"
   ]
  },
  {
   "cell_type": "code",
   "execution_count": 25,
   "metadata": {},
   "outputs": [
    {
     "name": "stdout",
     "output_type": "stream",
     "text": [
      "78.36 6.1 72.26\n",
      "38.25492647058824\n",
      "30.4\n"
     ]
    }
   ],
   "source": [
    "## change 'Average Age' to 'Min Age' or 'Max Age' for min/max age histograms and density plots\n",
    "\n",
    "maxAvg = cleaned.max(axis=0)['Average Age']\n",
    "minAvg = cleaned.min(axis=0)['Average Age']\n",
    "avgBins = (maxAvg-minAvg)\n",
    "print(maxAvg, minAvg, avgBins)\n",
    "print(cleaned['Average Age'].mean())\n",
    "print(cleaned['Average Age'].median())"
   ]
  },
  {
   "cell_type": "code",
   "execution_count": 26,
   "metadata": {},
   "outputs": [
    {
     "name": "stdout",
     "output_type": "stream",
     "text": [
      "99.1 0.79 98.30999999999999\n",
      "54.69005291\n",
      "53.0\n"
     ]
    }
   ],
   "source": [
    "maxMax = cleaned.max(axis=0)['Max Age']\n",
    "minMax = cleaned.min(axis=0)['Max Age']\n",
    "maxBins = (maxMax-minMax)\n",
    "print(maxMax, minMax, maxBins)\n",
    "print(cleaned['Max Age'].mean())\n",
    "print(cleaned['Max Age'].median())"
   ]
  },
  {
   "cell_type": "code",
   "execution_count": 27,
   "metadata": {},
   "outputs": [
    {
     "data": {
      "image/png": "[encoded data removed]",
      "text/plain": [
       "<Figure size 640x480 with 2 Axes>"
      ]
     },
     "metadata": {},
     "output_type": "display_data"
    }
   ],
   "source": [
    "fig, ax = plt.subplots()\n",
    "plt.xlabel(\"Average Age of Participants \\n (Total N = 68)\")\n",
    "plt.ylabel(\"Density\")\n",
    "ax2 = ax.twinx()\n",
    "sns.histplot(avg_age, kde=True, ax=ax2, bins = 73, color = 'navy')\n",
    "plt.hist(avg_age, color = 'grey', bins = 73, edgecolor = 'black', linewidth = .4)\n",
    "plt.ylabel(\"Number of Studies\")\n",
    "plt.tight_layout()\n",
    "plt.show()\n"
   ]
  },
  {
   "cell_type": "code",
   "execution_count": 28,
   "metadata": {},
   "outputs": [
    {
     "name": "stdout",
     "output_type": "stream",
     "text": [
      "(38.12903941789601, 38.38081352328048)\n"
     ]
    }
   ],
   "source": [
    "ci_avg = stats.t.interval(confidence=0.05, df=len(avg_age) - 1, loc=np.mean(avg_age), scale=stats.sem(avg_age))\n",
    "print(ci_avg)"
   ]
  },
  {
   "cell_type": "code",
   "execution_count": 32,
   "metadata": {},
   "outputs": [
    {
     "name": "stdout",
     "output_type": "stream",
     "text": [
      "Bootstrap 95% CI for the mean: (34.3592169117647, 42.23756874999999)\n"
     ]
    }
   ],
   "source": [
    "import numpy as np\n",
    "from scipy import stats\n",
    "\n",
    "samples = 10000  \n",
    "\n",
    "def bootstrap_mean(data):\n",
    "    resample = np.random.choice(data, size=len(data), replace=True)\n",
    "    return np.mean(resample)\n",
    "\n",
    "bootstrap_means = [bootstrap_mean(avg_age) for _ in range(num_bootstrap_samples)]\n",
    "\n",
    "lower_percentile = .025\n",
    "upper_percentile = 1 - lower_percentile\n",
    "\n",
    "mean_lci = np.percentile(bootstrap_means, lower_percentile * 100)\n",
    "mean_uci = np.percentile(bootstrap_means, upper_percentile * 100)\n",
    "\n",
    "print(\"Bootstrap 95% CI for the mean:\", (mean_lci, mean_uci))\n"
   ]
  },
  {
   "cell_type": "code",
   "execution_count": 30,
   "metadata": {},
   "outputs": [
    {
     "name": "stdout",
     "output_type": "stream",
     "text": [
      "(30.274112947307763, 30.525887052692234)\n"
     ]
    }
   ],
   "source": [
    "ci_med = stats.t.interval(confidence=0.05, df=len(avg_age) - 1, loc=np.median(avg_age), scale=stats.sem(avg_age))\n",
    "print(ci_med)"
   ]
  },
  {
   "cell_type": "code",
   "execution_count": 33,
   "metadata": {},
   "outputs": [
    {
     "name": "stdout",
     "output_type": "stream",
     "text": [
      "Bootstrap 95% CI for the median: (27.35, 40.4)\n"
     ]
    }
   ],
   "source": [
    "def bootstrap_median(data):\n",
    "    resample = np.random.choice(data, size=len(data), replace=True)\n",
    "    return np.median(resample)\n",
    "\n",
    "bootstrap_medians = [bootstrap_median(avg_age) for _ in range(samples)]\n",
    "\n",
    "lower_percentile = (1 - 0.95) / 2\n",
    "upper_percentile = 1 - lower_percentile\n",
    "\n",
    "med_lci = np.percentile(bootstrap_medians, lower_percentile * 100)\n",
    "med_uci = np.percentile(bootstrap_medians, upper_percentile * 100)\n",
    "\n",
    "print(\"Bootstrap 95% CI for the median:\", (med_lci, med_uci))\n"
   ]
  }
 ],
 "metadata": {
  "kernelspec": {
   "display_name": "Python 3.9.12 ('base')",
   "language": "python",
   "name": "python3"
  },
  "language_info": {
   "codemirror_mode": {
    "name": "ipython",
    "version": 3
   },
   "file_extension": ".py",
   "mimetype": "text/x-python",
   "name": "python",
   "nbconvert_exporter": "python",
   "pygments_lexer": "ipython3",
   "version": "3.11.4"
  },
  "orig_nbformat": 4,
  "vscode": {
   "interpreter": {
    "hash": "f18071a42d92fbc88da9d46af891f6e9c0bbd8c91192c840e7f2450baaf7f4b6"
   }
  }
 },
 "nbformat": 4,
 "nbformat_minor": 2
}
