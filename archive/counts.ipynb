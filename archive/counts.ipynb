{
 "cells": [
  {
   "cell_type": "markdown",
   "metadata": {},
   "source": [
    "Use to get summary counts for gender of subjects + mean age of participants for nested demographics info"
   ]
  },
  {
   "cell_type": "code",
   "execution_count": 2,
   "metadata": {},
   "outputs": [
    {
     "ename": "FileNotFoundError",
     "evalue": "[Errno 2] No such file or directory: 'QT DB age_gender_data.csv'",
     "output_type": "error",
     "traceback": [
      "\u001b[0;31m---------------------------------------------------------------------------\u001b[0m",
      "\u001b[0;31mFileNotFoundError\u001b[0m                         Traceback (most recent call last)",
      "Cell \u001b[0;32mIn[2], line 3\u001b[0m\n\u001b[1;32m      1\u001b[0m \u001b[39mimport\u001b[39;00m \u001b[39mpandas\u001b[39;00m \u001b[39mas\u001b[39;00m \u001b[39mpd\u001b[39;00m\n\u001b[0;32m----> 3\u001b[0m df \u001b[39m=\u001b[39m pd\u001b[39m.\u001b[39;49mread_csv(\u001b[39m\"\u001b[39;49m\u001b[39mQT DB age_gender_data.csv\u001b[39;49m\u001b[39m\"\u001b[39;49m)\n\u001b[1;32m      4\u001b[0m \u001b[39mprint\u001b[39m(df\u001b[39m.\u001b[39mshape)\n\u001b[1;32m      5\u001b[0m df\u001b[39m.\u001b[39mhead()\n",
      "File \u001b[0;32m/Library/Frameworks/Python.framework/Versions/3.11/lib/python3.11/site-packages/pandas/io/parsers/readers.py:912\u001b[0m, in \u001b[0;36mread_csv\u001b[0;34m(filepath_or_buffer, sep, delimiter, header, names, index_col, usecols, dtype, engine, converters, true_values, false_values, skipinitialspace, skiprows, skipfooter, nrows, na_values, keep_default_na, na_filter, verbose, skip_blank_lines, parse_dates, infer_datetime_format, keep_date_col, date_parser, date_format, dayfirst, cache_dates, iterator, chunksize, compression, thousands, decimal, lineterminator, quotechar, quoting, doublequote, escapechar, comment, encoding, encoding_errors, dialect, on_bad_lines, delim_whitespace, low_memory, memory_map, float_precision, storage_options, dtype_backend)\u001b[0m\n\u001b[1;32m    899\u001b[0m kwds_defaults \u001b[39m=\u001b[39m _refine_defaults_read(\n\u001b[1;32m    900\u001b[0m     dialect,\n\u001b[1;32m    901\u001b[0m     delimiter,\n\u001b[0;32m   (...)\u001b[0m\n\u001b[1;32m    908\u001b[0m     dtype_backend\u001b[39m=\u001b[39mdtype_backend,\n\u001b[1;32m    909\u001b[0m )\n\u001b[1;32m    910\u001b[0m kwds\u001b[39m.\u001b[39mupdate(kwds_defaults)\n\u001b[0;32m--> 912\u001b[0m \u001b[39mreturn\u001b[39;00m _read(filepath_or_buffer, kwds)\n",
      "File \u001b[0;32m/Library/Frameworks/Python.framework/Versions/3.11/lib/python3.11/site-packages/pandas/io/parsers/readers.py:577\u001b[0m, in \u001b[0;36m_read\u001b[0;34m(filepath_or_buffer, kwds)\u001b[0m\n\u001b[1;32m    574\u001b[0m _validate_names(kwds\u001b[39m.\u001b[39mget(\u001b[39m\"\u001b[39m\u001b[39mnames\u001b[39m\u001b[39m\"\u001b[39m, \u001b[39mNone\u001b[39;00m))\n\u001b[1;32m    576\u001b[0m \u001b[39m# Create the parser.\u001b[39;00m\n\u001b[0;32m--> 577\u001b[0m parser \u001b[39m=\u001b[39m TextFileReader(filepath_or_buffer, \u001b[39m*\u001b[39;49m\u001b[39m*\u001b[39;49mkwds)\n\u001b[1;32m    579\u001b[0m \u001b[39mif\u001b[39;00m chunksize \u001b[39mor\u001b[39;00m iterator:\n\u001b[1;32m    580\u001b[0m     \u001b[39mreturn\u001b[39;00m parser\n",
      "File \u001b[0;32m/Library/Frameworks/Python.framework/Versions/3.11/lib/python3.11/site-packages/pandas/io/parsers/readers.py:1407\u001b[0m, in \u001b[0;36mTextFileReader.__init__\u001b[0;34m(self, f, engine, **kwds)\u001b[0m\n\u001b[1;32m   1404\u001b[0m     \u001b[39mself\u001b[39m\u001b[39m.\u001b[39moptions[\u001b[39m\"\u001b[39m\u001b[39mhas_index_names\u001b[39m\u001b[39m\"\u001b[39m] \u001b[39m=\u001b[39m kwds[\u001b[39m\"\u001b[39m\u001b[39mhas_index_names\u001b[39m\u001b[39m\"\u001b[39m]\n\u001b[1;32m   1406\u001b[0m \u001b[39mself\u001b[39m\u001b[39m.\u001b[39mhandles: IOHandles \u001b[39m|\u001b[39m \u001b[39mNone\u001b[39;00m \u001b[39m=\u001b[39m \u001b[39mNone\u001b[39;00m\n\u001b[0;32m-> 1407\u001b[0m \u001b[39mself\u001b[39m\u001b[39m.\u001b[39m_engine \u001b[39m=\u001b[39m \u001b[39mself\u001b[39;49m\u001b[39m.\u001b[39;49m_make_engine(f, \u001b[39mself\u001b[39;49m\u001b[39m.\u001b[39;49mengine)\n",
      "File \u001b[0;32m/Library/Frameworks/Python.framework/Versions/3.11/lib/python3.11/site-packages/pandas/io/parsers/readers.py:1661\u001b[0m, in \u001b[0;36mTextFileReader._make_engine\u001b[0;34m(self, f, engine)\u001b[0m\n\u001b[1;32m   1659\u001b[0m     \u001b[39mif\u001b[39;00m \u001b[39m\"\u001b[39m\u001b[39mb\u001b[39m\u001b[39m\"\u001b[39m \u001b[39mnot\u001b[39;00m \u001b[39min\u001b[39;00m mode:\n\u001b[1;32m   1660\u001b[0m         mode \u001b[39m+\u001b[39m\u001b[39m=\u001b[39m \u001b[39m\"\u001b[39m\u001b[39mb\u001b[39m\u001b[39m\"\u001b[39m\n\u001b[0;32m-> 1661\u001b[0m \u001b[39mself\u001b[39m\u001b[39m.\u001b[39mhandles \u001b[39m=\u001b[39m get_handle(\n\u001b[1;32m   1662\u001b[0m     f,\n\u001b[1;32m   1663\u001b[0m     mode,\n\u001b[1;32m   1664\u001b[0m     encoding\u001b[39m=\u001b[39;49m\u001b[39mself\u001b[39;49m\u001b[39m.\u001b[39;49moptions\u001b[39m.\u001b[39;49mget(\u001b[39m\"\u001b[39;49m\u001b[39mencoding\u001b[39;49m\u001b[39m\"\u001b[39;49m, \u001b[39mNone\u001b[39;49;00m),\n\u001b[1;32m   1665\u001b[0m     compression\u001b[39m=\u001b[39;49m\u001b[39mself\u001b[39;49m\u001b[39m.\u001b[39;49moptions\u001b[39m.\u001b[39;49mget(\u001b[39m\"\u001b[39;49m\u001b[39mcompression\u001b[39;49m\u001b[39m\"\u001b[39;49m, \u001b[39mNone\u001b[39;49;00m),\n\u001b[1;32m   1666\u001b[0m     memory_map\u001b[39m=\u001b[39;49m\u001b[39mself\u001b[39;49m\u001b[39m.\u001b[39;49moptions\u001b[39m.\u001b[39;49mget(\u001b[39m\"\u001b[39;49m\u001b[39mmemory_map\u001b[39;49m\u001b[39m\"\u001b[39;49m, \u001b[39mFalse\u001b[39;49;00m),\n\u001b[1;32m   1667\u001b[0m     is_text\u001b[39m=\u001b[39;49mis_text,\n\u001b[1;32m   1668\u001b[0m     errors\u001b[39m=\u001b[39;49m\u001b[39mself\u001b[39;49m\u001b[39m.\u001b[39;49moptions\u001b[39m.\u001b[39;49mget(\u001b[39m\"\u001b[39;49m\u001b[39mencoding_errors\u001b[39;49m\u001b[39m\"\u001b[39;49m, \u001b[39m\"\u001b[39;49m\u001b[39mstrict\u001b[39;49m\u001b[39m\"\u001b[39;49m),\n\u001b[1;32m   1669\u001b[0m     storage_options\u001b[39m=\u001b[39;49m\u001b[39mself\u001b[39;49m\u001b[39m.\u001b[39;49moptions\u001b[39m.\u001b[39;49mget(\u001b[39m\"\u001b[39;49m\u001b[39mstorage_options\u001b[39;49m\u001b[39m\"\u001b[39;49m, \u001b[39mNone\u001b[39;49;00m),\n\u001b[1;32m   1670\u001b[0m )\n\u001b[1;32m   1671\u001b[0m \u001b[39massert\u001b[39;00m \u001b[39mself\u001b[39m\u001b[39m.\u001b[39mhandles \u001b[39mis\u001b[39;00m \u001b[39mnot\u001b[39;00m \u001b[39mNone\u001b[39;00m\n\u001b[1;32m   1672\u001b[0m f \u001b[39m=\u001b[39m \u001b[39mself\u001b[39m\u001b[39m.\u001b[39mhandles\u001b[39m.\u001b[39mhandle\n",
      "File \u001b[0;32m/Library/Frameworks/Python.framework/Versions/3.11/lib/python3.11/site-packages/pandas/io/common.py:859\u001b[0m, in \u001b[0;36mget_handle\u001b[0;34m(path_or_buf, mode, encoding, compression, memory_map, is_text, errors, storage_options)\u001b[0m\n\u001b[1;32m    854\u001b[0m \u001b[39melif\u001b[39;00m \u001b[39misinstance\u001b[39m(handle, \u001b[39mstr\u001b[39m):\n\u001b[1;32m    855\u001b[0m     \u001b[39m# Check whether the filename is to be opened in binary mode.\u001b[39;00m\n\u001b[1;32m    856\u001b[0m     \u001b[39m# Binary mode does not support 'encoding' and 'newline'.\u001b[39;00m\n\u001b[1;32m    857\u001b[0m     \u001b[39mif\u001b[39;00m ioargs\u001b[39m.\u001b[39mencoding \u001b[39mand\u001b[39;00m \u001b[39m\"\u001b[39m\u001b[39mb\u001b[39m\u001b[39m\"\u001b[39m \u001b[39mnot\u001b[39;00m \u001b[39min\u001b[39;00m ioargs\u001b[39m.\u001b[39mmode:\n\u001b[1;32m    858\u001b[0m         \u001b[39m# Encoding\u001b[39;00m\n\u001b[0;32m--> 859\u001b[0m         handle \u001b[39m=\u001b[39m \u001b[39mopen\u001b[39;49m(\n\u001b[1;32m    860\u001b[0m             handle,\n\u001b[1;32m    861\u001b[0m             ioargs\u001b[39m.\u001b[39;49mmode,\n\u001b[1;32m    862\u001b[0m             encoding\u001b[39m=\u001b[39;49mioargs\u001b[39m.\u001b[39;49mencoding,\n\u001b[1;32m    863\u001b[0m             errors\u001b[39m=\u001b[39;49merrors,\n\u001b[1;32m    864\u001b[0m             newline\u001b[39m=\u001b[39;49m\u001b[39m\"\u001b[39;49m\u001b[39m\"\u001b[39;49m,\n\u001b[1;32m    865\u001b[0m         )\n\u001b[1;32m    866\u001b[0m     \u001b[39melse\u001b[39;00m:\n\u001b[1;32m    867\u001b[0m         \u001b[39m# Binary mode\u001b[39;00m\n\u001b[1;32m    868\u001b[0m         handle \u001b[39m=\u001b[39m \u001b[39mopen\u001b[39m(handle, ioargs\u001b[39m.\u001b[39mmode)\n",
      "\u001b[0;31mFileNotFoundError\u001b[0m: [Errno 2] No such file or directory: 'QT DB age_gender_data.csv'"
     ]
    }
   ],
   "source": [
    "import pandas as pd\n",
    "\n",
    "df = pd.read_csv(\"QT DB age_gender_data.csv\")\n",
    "print(df.shape)\n",
    "df.head()"
   ]
  },
  {
   "cell_type": "code",
   "execution_count": 4,
   "metadata": {},
   "outputs": [
    {
     "data": {
      "text/plain": [
       "Gender\n",
       "F    6\n",
       "M    8\n",
       "Name: Gender, dtype: int64"
      ]
     },
     "execution_count": 4,
     "metadata": {},
     "output_type": "execute_result"
    }
   ],
   "source": [
    "df.groupby(['Gender'])['Gender'].count()"
   ]
  },
  {
   "cell_type": "code",
   "execution_count": 5,
   "metadata": {},
   "outputs": [
    {
     "data": {
      "text/plain": [
       "67.5"
      ]
     },
     "execution_count": 5,
     "metadata": {},
     "output_type": "execute_result"
    }
   ],
   "source": [
    "df['Age'].mean()"
   ]
  },
  {
   "cell_type": "code",
   "execution_count": 6,
   "metadata": {},
   "outputs": [],
   "source": [
    "phys = pd.read_csv(\"phys.csv\")\n",
    "mvf = pd.read_csv(\"mvf.csv\")\n",
    "mvt = pd.read_csv(\"mvt.csv\")\n",
    "mrvf = pd.read_csv(\"mrvf.csv\")"
   ]
  },
  {
   "cell_type": "code",
   "execution_count": 7,
   "metadata": {},
   "outputs": [
    {
     "name": "stdout",
     "output_type": "stream",
     "text": [
      "(79, 71)\n"
     ]
    },
    {
     "data": {
      "text/html": [
       "<div>\n",
       "<style scoped>\n",
       "    .dataframe tbody tr th:only-of-type {\n",
       "        vertical-align: middle;\n",
       "    }\n",
       "\n",
       "    .dataframe tbody tr th {\n",
       "        vertical-align: top;\n",
       "    }\n",
       "\n",
       "    .dataframe thead th {\n",
       "        text-align: right;\n",
       "    }\n",
       "</style>\n",
       "<table border=\"1\" class=\"dataframe\">\n",
       "  <thead>\n",
       "    <tr style=\"text-align: right;\">\n",
       "      <th></th>\n",
       "      <th>Unnamed: 0</th>\n",
       "      <th>Patient No</th>\n",
       "      <th>MR VT File Name</th>\n",
       "      <th>MR File Name</th>\n",
       "      <th>Device Class</th>\n",
       "      <th>Episode date</th>\n",
       "      <th>Episode time</th>\n",
       "      <th>S&amp;D Class</th>\n",
       "      <th>EGM prior</th>\n",
       "      <th>EGM source</th>\n",
       "      <th>...</th>\n",
       "      <th>Current Antiarrhythmic Meds .4</th>\n",
       "      <th>Current Antiarrhythmic Meds .5</th>\n",
       "      <th>Current Antiarrhythmic Meds .6</th>\n",
       "      <th>Current Antiarrhythmic Meds .7</th>\n",
       "      <th>Current Antiarrhythmic Meds .8</th>\n",
       "      <th>Current Antiarrhythmic Meds .9</th>\n",
       "      <th>VF Count</th>\n",
       "      <th>VF File Name</th>\n",
       "      <th>S &amp; D Class</th>\n",
       "      <th>File Name</th>\n",
       "    </tr>\n",
       "  </thead>\n",
       "  <tbody>\n",
       "    <tr>\n",
       "      <th>0</th>\n",
       "      <td>1.0</td>\n",
       "      <td>1350003.0</td>\n",
       "      <td>0003.vt5</td>\n",
       "      <td>0003.mr5</td>\n",
       "      <td>vt</td>\n",
       "      <td>3/28/96</td>\n",
       "      <td>3:27:28</td>\n",
       "      <td>vt</td>\n",
       "      <td>N</td>\n",
       "      <td>HVA - HVB</td>\n",
       "      <td>...</td>\n",
       "      <td>A</td>\n",
       "      <td>A</td>\n",
       "      <td>A</td>\n",
       "      <td>A</td>\n",
       "      <td>A</td>\n",
       "      <td>A</td>\n",
       "      <td>NaN</td>\n",
       "      <td>NaN</td>\n",
       "      <td>NaN</td>\n",
       "      <td>NaN</td>\n",
       "    </tr>\n",
       "    <tr>\n",
       "      <th>1</th>\n",
       "      <td>2.0</td>\n",
       "      <td>1350008.0</td>\n",
       "      <td>0008.vt1</td>\n",
       "      <td>0008.mr1</td>\n",
       "      <td>vf</td>\n",
       "      <td>1/9/96</td>\n",
       "      <td>21:34:42</td>\n",
       "      <td>vt</td>\n",
       "      <td>Y</td>\n",
       "      <td>HVA - HVB</td>\n",
       "      <td>...</td>\n",
       "      <td>A</td>\n",
       "      <td>A</td>\n",
       "      <td>A</td>\n",
       "      <td>A</td>\n",
       "      <td>A</td>\n",
       "      <td>A</td>\n",
       "      <td>NaN</td>\n",
       "      <td>NaN</td>\n",
       "      <td>NaN</td>\n",
       "      <td>NaN</td>\n",
       "    </tr>\n",
       "    <tr>\n",
       "      <th>2</th>\n",
       "      <td>3.0</td>\n",
       "      <td>1350013.0</td>\n",
       "      <td>0013.vt3</td>\n",
       "      <td>0013.mr3</td>\n",
       "      <td>vt</td>\n",
       "      <td>1/12/96</td>\n",
       "      <td>16:05:44</td>\n",
       "      <td>vt</td>\n",
       "      <td>N</td>\n",
       "      <td>HVA - HVB</td>\n",
       "      <td>...</td>\n",
       "      <td>A</td>\n",
       "      <td>A</td>\n",
       "      <td>A</td>\n",
       "      <td>A</td>\n",
       "      <td>A</td>\n",
       "      <td>A</td>\n",
       "      <td>NaN</td>\n",
       "      <td>NaN</td>\n",
       "      <td>NaN</td>\n",
       "      <td>NaN</td>\n",
       "    </tr>\n",
       "    <tr>\n",
       "      <th>3</th>\n",
       "      <td>4.0</td>\n",
       "      <td>1350015.0</td>\n",
       "      <td>0015.vt1</td>\n",
       "      <td>0015.mr1</td>\n",
       "      <td>vf</td>\n",
       "      <td>12/9/95</td>\n",
       "      <td>23:29:02</td>\n",
       "      <td>vt</td>\n",
       "      <td>N</td>\n",
       "      <td>HVA - HVB</td>\n",
       "      <td>...</td>\n",
       "      <td>A</td>\n",
       "      <td>A</td>\n",
       "      <td>A</td>\n",
       "      <td>A</td>\n",
       "      <td>A</td>\n",
       "      <td>A</td>\n",
       "      <td>NaN</td>\n",
       "      <td>NaN</td>\n",
       "      <td>NaN</td>\n",
       "      <td>NaN</td>\n",
       "    </tr>\n",
       "    <tr>\n",
       "      <th>4</th>\n",
       "      <td>5.0</td>\n",
       "      <td>1350026.0</td>\n",
       "      <td>0026.vt2</td>\n",
       "      <td>0026.mr2</td>\n",
       "      <td>vt</td>\n",
       "      <td>3/1/96</td>\n",
       "      <td>20:59:33</td>\n",
       "      <td>vt</td>\n",
       "      <td>N</td>\n",
       "      <td>HVA - HVB</td>\n",
       "      <td>...</td>\n",
       "      <td>A</td>\n",
       "      <td>A</td>\n",
       "      <td>A</td>\n",
       "      <td>A</td>\n",
       "      <td>A</td>\n",
       "      <td>A</td>\n",
       "      <td>NaN</td>\n",
       "      <td>NaN</td>\n",
       "      <td>NaN</td>\n",
       "      <td>NaN</td>\n",
       "    </tr>\n",
       "  </tbody>\n",
       "</table>\n",
       "<p>5 rows × 71 columns</p>\n",
       "</div>"
      ],
      "text/plain": [
       "   Unnamed: 0  Patient No MR VT File Name MR File Name Device Class  \\\n",
       "0         1.0   1350003.0        0003.vt5     0003.mr5           vt   \n",
       "1         2.0   1350008.0        0008.vt1     0008.mr1           vf   \n",
       "2         3.0   1350013.0        0013.vt3     0013.mr3           vt   \n",
       "3         4.0   1350015.0        0015.vt1     0015.mr1           vf   \n",
       "4         5.0   1350026.0        0026.vt2     0026.mr2           vt   \n",
       "\n",
       "  Episode date Episode time S&D Class EGM prior EGM source  ...  \\\n",
       "0      3/28/96      3:27:28        vt         N  HVA - HVB  ...   \n",
       "1       1/9/96     21:34:42        vt         Y  HVA - HVB  ...   \n",
       "2      1/12/96     16:05:44        vt         N  HVA - HVB  ...   \n",
       "3      12/9/95     23:29:02        vt         N  HVA - HVB  ...   \n",
       "4       3/1/96     20:59:33        vt         N  HVA - HVB  ...   \n",
       "\n",
       "  Current Antiarrhythmic Meds .4 Current Antiarrhythmic Meds .5  \\\n",
       "0                              A                              A   \n",
       "1                              A                              A   \n",
       "2                              A                              A   \n",
       "3                              A                              A   \n",
       "4                              A                              A   \n",
       "\n",
       "  Current Antiarrhythmic Meds .6 Current Antiarrhythmic Meds .7  \\\n",
       "0                              A                              A   \n",
       "1                              A                              A   \n",
       "2                              A                              A   \n",
       "3                              A                              A   \n",
       "4                              A                              A   \n",
       "\n",
       "   Current Antiarrhythmic Meds .8 Current Antiarrhythmic Meds .9  VF Count  \\\n",
       "0                               A                              A       NaN   \n",
       "1                               A                              A       NaN   \n",
       "2                               A                              A       NaN   \n",
       "3                               A                              A       NaN   \n",
       "4                               A                              A       NaN   \n",
       "\n",
       "  VF File Name S & D Class File Name  \n",
       "0          NaN         NaN       NaN  \n",
       "1          NaN         NaN       NaN  \n",
       "2          NaN         NaN       NaN  \n",
       "3          NaN         NaN       NaN  \n",
       "4          NaN         NaN       NaN  \n",
       "\n",
       "[5 rows x 71 columns]"
      ]
     },
     "execution_count": 7,
     "metadata": {},
     "output_type": "execute_result"
    }
   ],
   "source": [
    "all = pd.concat([phys, mvf, mvt, mrvf]).drop_duplicates(['Date of Birth']).reset_index(drop=True)\n",
    "print(all.shape)\n",
    "all.head()\n"
   ]
  },
  {
   "cell_type": "code",
   "execution_count": 8,
   "metadata": {},
   "outputs": [
    {
     "data": {
      "text/plain": [
       "Sex\n",
       "Female    15\n",
       "Male      63\n",
       "Name: Sex, dtype: int64"
      ]
     },
     "execution_count": 8,
     "metadata": {},
     "output_type": "execute_result"
    }
   ],
   "source": [
    "all.groupby(['Sex'])['Sex'].count()"
   ]
  },
  {
   "cell_type": "code",
   "execution_count": 9,
   "metadata": {},
   "outputs": [
    {
     "name": "stdout",
     "output_type": "stream",
     "text": [
      "(6388, 74)\n"
     ]
    },
    {
     "data": {
      "text/html": [
       "<div>\n",
       "<style scoped>\n",
       "    .dataframe tbody tr th:only-of-type {\n",
       "        vertical-align: middle;\n",
       "    }\n",
       "\n",
       "    .dataframe tbody tr th {\n",
       "        vertical-align: top;\n",
       "    }\n",
       "\n",
       "    .dataframe thead th {\n",
       "        text-align: right;\n",
       "    }\n",
       "</style>\n",
       "<table border=\"1\" class=\"dataframe\">\n",
       "  <thead>\n",
       "    <tr style=\"text-align: right;\">\n",
       "      <th></th>\n",
       "      <th>caseid</th>\n",
       "      <th>subjectid</th>\n",
       "      <th>casestart</th>\n",
       "      <th>caseend</th>\n",
       "      <th>anestart</th>\n",
       "      <th>aneend</th>\n",
       "      <th>opstart</th>\n",
       "      <th>opend</th>\n",
       "      <th>adm</th>\n",
       "      <th>dis</th>\n",
       "      <th>...</th>\n",
       "      <th>intraop_colloid</th>\n",
       "      <th>intraop_ppf</th>\n",
       "      <th>intraop_mdz</th>\n",
       "      <th>intraop_ftn</th>\n",
       "      <th>intraop_rocu</th>\n",
       "      <th>intraop_vecu</th>\n",
       "      <th>intraop_eph</th>\n",
       "      <th>intraop_phe</th>\n",
       "      <th>intraop_epi</th>\n",
       "      <th>intraop_ca</th>\n",
       "    </tr>\n",
       "  </thead>\n",
       "  <tbody>\n",
       "    <tr>\n",
       "      <th>0</th>\n",
       "      <td>1</td>\n",
       "      <td>5955</td>\n",
       "      <td>0</td>\n",
       "      <td>11542</td>\n",
       "      <td>-552</td>\n",
       "      <td>10848.0</td>\n",
       "      <td>1668</td>\n",
       "      <td>10368</td>\n",
       "      <td>-236220</td>\n",
       "      <td>627780</td>\n",
       "      <td>...</td>\n",
       "      <td>0</td>\n",
       "      <td>120</td>\n",
       "      <td>0.0</td>\n",
       "      <td>100</td>\n",
       "      <td>70</td>\n",
       "      <td>0</td>\n",
       "      <td>10</td>\n",
       "      <td>0</td>\n",
       "      <td>0</td>\n",
       "      <td>0</td>\n",
       "    </tr>\n",
       "    <tr>\n",
       "      <th>1</th>\n",
       "      <td>2</td>\n",
       "      <td>2487</td>\n",
       "      <td>0</td>\n",
       "      <td>15741</td>\n",
       "      <td>-1039</td>\n",
       "      <td>14921.0</td>\n",
       "      <td>1721</td>\n",
       "      <td>14621</td>\n",
       "      <td>-221160</td>\n",
       "      <td>1506840</td>\n",
       "      <td>...</td>\n",
       "      <td>0</td>\n",
       "      <td>150</td>\n",
       "      <td>0.0</td>\n",
       "      <td>0</td>\n",
       "      <td>100</td>\n",
       "      <td>0</td>\n",
       "      <td>20</td>\n",
       "      <td>0</td>\n",
       "      <td>0</td>\n",
       "      <td>0</td>\n",
       "    </tr>\n",
       "    <tr>\n",
       "      <th>2</th>\n",
       "      <td>3</td>\n",
       "      <td>2861</td>\n",
       "      <td>0</td>\n",
       "      <td>4394</td>\n",
       "      <td>-590</td>\n",
       "      <td>4210.0</td>\n",
       "      <td>1090</td>\n",
       "      <td>3010</td>\n",
       "      <td>-218640</td>\n",
       "      <td>40560</td>\n",
       "      <td>...</td>\n",
       "      <td>0</td>\n",
       "      <td>0</td>\n",
       "      <td>0.0</td>\n",
       "      <td>0</td>\n",
       "      <td>50</td>\n",
       "      <td>0</td>\n",
       "      <td>0</td>\n",
       "      <td>0</td>\n",
       "      <td>0</td>\n",
       "      <td>0</td>\n",
       "    </tr>\n",
       "    <tr>\n",
       "      <th>3</th>\n",
       "      <td>4</td>\n",
       "      <td>1903</td>\n",
       "      <td>0</td>\n",
       "      <td>20990</td>\n",
       "      <td>-778</td>\n",
       "      <td>20222.0</td>\n",
       "      <td>2522</td>\n",
       "      <td>17822</td>\n",
       "      <td>-201120</td>\n",
       "      <td>576480</td>\n",
       "      <td>...</td>\n",
       "      <td>0</td>\n",
       "      <td>80</td>\n",
       "      <td>0.0</td>\n",
       "      <td>100</td>\n",
       "      <td>100</td>\n",
       "      <td>0</td>\n",
       "      <td>50</td>\n",
       "      <td>0</td>\n",
       "      <td>0</td>\n",
       "      <td>0</td>\n",
       "    </tr>\n",
       "    <tr>\n",
       "      <th>4</th>\n",
       "      <td>5</td>\n",
       "      <td>4416</td>\n",
       "      <td>0</td>\n",
       "      <td>21531</td>\n",
       "      <td>-1009</td>\n",
       "      <td>22391.0</td>\n",
       "      <td>2591</td>\n",
       "      <td>20291</td>\n",
       "      <td>-67560</td>\n",
       "      <td>3734040</td>\n",
       "      <td>...</td>\n",
       "      <td>0</td>\n",
       "      <td>0</td>\n",
       "      <td>0.0</td>\n",
       "      <td>0</td>\n",
       "      <td>160</td>\n",
       "      <td>0</td>\n",
       "      <td>10</td>\n",
       "      <td>900</td>\n",
       "      <td>0</td>\n",
       "      <td>2100</td>\n",
       "    </tr>\n",
       "  </tbody>\n",
       "</table>\n",
       "<p>5 rows × 74 columns</p>\n",
       "</div>"
      ],
      "text/plain": [
       "   caseid  subjectid  casestart  caseend  anestart   aneend  opstart  opend  \\\n",
       "0       1       5955          0    11542      -552  10848.0     1668  10368   \n",
       "1       2       2487          0    15741     -1039  14921.0     1721  14621   \n",
       "2       3       2861          0     4394      -590   4210.0     1090   3010   \n",
       "3       4       1903          0    20990      -778  20222.0     2522  17822   \n",
       "4       5       4416          0    21531     -1009  22391.0     2591  20291   \n",
       "\n",
       "      adm      dis  ...  intraop_colloid  intraop_ppf intraop_mdz intraop_ftn  \\\n",
       "0 -236220   627780  ...                0          120         0.0         100   \n",
       "1 -221160  1506840  ...                0          150         0.0           0   \n",
       "2 -218640    40560  ...                0            0         0.0           0   \n",
       "3 -201120   576480  ...                0           80         0.0         100   \n",
       "4  -67560  3734040  ...                0            0         0.0           0   \n",
       "\n",
       "   intraop_rocu  intraop_vecu  intraop_eph  intraop_phe  intraop_epi  \\\n",
       "0            70             0           10            0            0   \n",
       "1           100             0           20            0            0   \n",
       "2            50             0            0            0            0   \n",
       "3           100             0           50            0            0   \n",
       "4           160             0           10          900            0   \n",
       "\n",
       "  intraop_ca  \n",
       "0          0  \n",
       "1          0  \n",
       "2          0  \n",
       "3          0  \n",
       "4       2100  \n",
       "\n",
       "[5 rows x 74 columns]"
      ]
     },
     "execution_count": 9,
     "metadata": {},
     "output_type": "execute_result"
    }
   ],
   "source": [
    "data = pd.read_csv(\"clinical_data.csv\")\n",
    "print(data.shape)\n",
    "data.head()"
   ]
  },
  {
   "cell_type": "code",
   "execution_count": 10,
   "metadata": {},
   "outputs": [
    {
     "name": "stdout",
     "output_type": "stream",
     "text": [
      "(208, 3)\n"
     ]
    },
    {
     "data": {
      "text/html": [
       "<div>\n",
       "<style scoped>\n",
       "    .dataframe tbody tr th:only-of-type {\n",
       "        vertical-align: middle;\n",
       "    }\n",
       "\n",
       "    .dataframe tbody tr th {\n",
       "        vertical-align: top;\n",
       "    }\n",
       "\n",
       "    .dataframe thead th {\n",
       "        text-align: right;\n",
       "    }\n",
       "</style>\n",
       "<table border=\"1\" class=\"dataframe\">\n",
       "  <thead>\n",
       "    <tr style=\"text-align: right;\">\n",
       "      <th></th>\n",
       "      <th>File</th>\n",
       "      <th>Age</th>\n",
       "      <th>Sex</th>\n",
       "    </tr>\n",
       "  </thead>\n",
       "  <tbody>\n",
       "    <tr>\n",
       "      <th>0</th>\n",
       "      <td>voice201.hea</td>\n",
       "      <td>44</td>\n",
       "      <td>F</td>\n",
       "    </tr>\n",
       "    <tr>\n",
       "      <th>1</th>\n",
       "      <td>voice017.hea</td>\n",
       "      <td>56</td>\n",
       "      <td>M</td>\n",
       "    </tr>\n",
       "    <tr>\n",
       "      <th>2</th>\n",
       "      <td>voice003.hea</td>\n",
       "      <td>34</td>\n",
       "      <td>M</td>\n",
       "    </tr>\n",
       "    <tr>\n",
       "      <th>3</th>\n",
       "      <td>voice163.hea</td>\n",
       "      <td>44</td>\n",
       "      <td>F</td>\n",
       "    </tr>\n",
       "    <tr>\n",
       "      <th>4</th>\n",
       "      <td>voice177.hea</td>\n",
       "      <td>22</td>\n",
       "      <td>F</td>\n",
       "    </tr>\n",
       "  </tbody>\n",
       "</table>\n",
       "</div>"
      ],
      "text/plain": [
       "           File  Age Sex\n",
       "0  voice201.hea   44   F\n",
       "1  voice017.hea   56   M\n",
       "2  voice003.hea   34   M\n",
       "3  voice163.hea   44   F\n",
       "4  voice177.hea   22   F"
      ]
     },
     "execution_count": 10,
     "metadata": {},
     "output_type": "execute_result"
    }
   ],
   "source": [
    "voice = pd.read_csv(\"voice data.csv\")\n",
    "print(voice.shape)\n",
    "voice.head()"
   ]
  },
  {
   "cell_type": "code",
   "execution_count": 11,
   "metadata": {},
   "outputs": [
    {
     "data": {
      "text/plain": [
       "Sex\n",
       "F    135\n",
       "M     73\n",
       "Name: Sex, dtype: int64"
      ]
     },
     "execution_count": 11,
     "metadata": {},
     "output_type": "execute_result"
    }
   ],
   "source": [
    "voice.groupby(['Sex'])['Sex'].count()"
   ]
  },
  {
   "cell_type": "code",
   "execution_count": 12,
   "metadata": {},
   "outputs": [
    {
     "data": {
      "text/plain": [
       "44.09134615384615"
      ]
     },
     "execution_count": 12,
     "metadata": {},
     "output_type": "execute_result"
    }
   ],
   "source": [
    "voice['Age'].mean()"
   ]
  },
  {
   "cell_type": "code",
   "execution_count": 111,
   "metadata": {},
   "outputs": [
    {
     "name": "stdout",
     "output_type": "stream",
     "text": [
      "(196, 22)\n"
     ]
    },
    {
     "data": {
      "text/html": [
       "<div>\n",
       "<style scoped>\n",
       "    .dataframe tbody tr th:only-of-type {\n",
       "        vertical-align: middle;\n",
       "    }\n",
       "\n",
       "    .dataframe tbody tr th {\n",
       "        vertical-align: top;\n",
       "    }\n",
       "\n",
       "    .dataframe thead th {\n",
       "        text-align: right;\n",
       "    }\n",
       "</style>\n",
       "<table border=\"1\" class=\"dataframe\">\n",
       "  <thead>\n",
       "    <tr style=\"text-align: right;\">\n",
       "      <th></th>\n",
       "      <th>Subj ID</th>\n",
       "      <th>Gender</th>\n",
       "      <th>Age</th>\n",
       "      <th>Visit</th>\n",
       "      <th>Group (Control, Tai Chi, Master)</th>\n",
       "      <th>Random (Randomized or Expert/Master)</th>\n",
       "      <th>Height</th>\n",
       "      <th>Describe activity level for the previous month: (nasa_activity_month_v1)</th>\n",
       "      <th>Activity</th>\n",
       "      <th>Education</th>\n",
       "      <th>...</th>\n",
       "      <th>TrailA</th>\n",
       "      <th>TrailB</th>\n",
       "      <th>Trail_BARatio</th>\n",
       "      <th>Animals_C</th>\n",
       "      <th>Supermarket_C</th>\n",
       "      <th>Category_T</th>\n",
       "      <th>laps</th>\n",
       "      <th>Enter the distance walked on the last incomplete lap:</th>\n",
       "      <th>1. Distance walked:</th>\n",
       "      <th>Time</th>\n",
       "    </tr>\n",
       "  </thead>\n",
       "  <tbody>\n",
       "    <tr>\n",
       "      <th>0</th>\n",
       "      <td>S0455</td>\n",
       "      <td>M</td>\n",
       "      <td>71</td>\n",
       "      <td>V1</td>\n",
       "      <td>Control</td>\n",
       "      <td>Random</td>\n",
       "      <td>67.0</td>\n",
       "      <td>3. 1+ hr per week</td>\n",
       "      <td>3</td>\n",
       "      <td>18.0</td>\n",
       "      <td>...</td>\n",
       "      <td>35.67</td>\n",
       "      <td>90.07</td>\n",
       "      <td>2.525091</td>\n",
       "      <td>19</td>\n",
       "      <td>23</td>\n",
       "      <td>42</td>\n",
       "      <td>5</td>\n",
       "      <td>93.06</td>\n",
       "      <td>572.81</td>\n",
       "      <td>598.8247</td>\n",
       "    </tr>\n",
       "    <tr>\n",
       "      <th>1</th>\n",
       "      <td>S0573</td>\n",
       "      <td>M</td>\n",
       "      <td>58</td>\n",
       "      <td>V1</td>\n",
       "      <td>Control</td>\n",
       "      <td>Random</td>\n",
       "      <td>70.0</td>\n",
       "      <td>6. Run 6-10mi or Walk 7-13mi per week</td>\n",
       "      <td>6</td>\n",
       "      <td>18.0</td>\n",
       "      <td>...</td>\n",
       "      <td>26.50</td>\n",
       "      <td>36.30</td>\n",
       "      <td>1.369811</td>\n",
       "      <td>19</td>\n",
       "      <td>23</td>\n",
       "      <td>42</td>\n",
       "      <td>15</td>\n",
       "      <td>27.45</td>\n",
       "      <td>709.05</td>\n",
       "      <td>599.2860</td>\n",
       "    </tr>\n",
       "    <tr>\n",
       "      <th>2</th>\n",
       "      <td>S0599</td>\n",
       "      <td>M</td>\n",
       "      <td>63</td>\n",
       "      <td>V1</td>\n",
       "      <td>Control</td>\n",
       "      <td>Random</td>\n",
       "      <td>70.0</td>\n",
       "      <td>5. Run 1-5mi or Walk 1.3-6mi per week</td>\n",
       "      <td>5</td>\n",
       "      <td>20.0</td>\n",
       "      <td>...</td>\n",
       "      <td>30.00</td>\n",
       "      <td>68.00</td>\n",
       "      <td>2.266667</td>\n",
       "      <td>18</td>\n",
       "      <td>25</td>\n",
       "      <td>43</td>\n",
       "      <td>4</td>\n",
       "      <td>95.95</td>\n",
       "      <td>479.75</td>\n",
       "      <td>598.8387</td>\n",
       "    </tr>\n",
       "    <tr>\n",
       "      <th>3</th>\n",
       "      <td>S0609</td>\n",
       "      <td>F</td>\n",
       "      <td>59</td>\n",
       "      <td>V1</td>\n",
       "      <td>Control</td>\n",
       "      <td>Random</td>\n",
       "      <td>65.5</td>\n",
       "      <td>3. 1+ hr per week</td>\n",
       "      <td>3</td>\n",
       "      <td>NaN</td>\n",
       "      <td>...</td>\n",
       "      <td>24.53</td>\n",
       "      <td>63.37</td>\n",
       "      <td>2.583367</td>\n",
       "      <td>26</td>\n",
       "      <td>24</td>\n",
       "      <td>50</td>\n",
       "      <td>7</td>\n",
       "      <td>3.74</td>\n",
       "      <td>675.39</td>\n",
       "      <td>598.9507</td>\n",
       "    </tr>\n",
       "    <tr>\n",
       "      <th>4</th>\n",
       "      <td>S0611</td>\n",
       "      <td>M</td>\n",
       "      <td>64</td>\n",
       "      <td>V1</td>\n",
       "      <td>Control</td>\n",
       "      <td>Random</td>\n",
       "      <td>70.0</td>\n",
       "      <td>6. Run 6-10mi or Walk 7-13mi per week</td>\n",
       "      <td>6</td>\n",
       "      <td>14.0</td>\n",
       "      <td>...</td>\n",
       "      <td>49.28</td>\n",
       "      <td>76.98</td>\n",
       "      <td>1.562094</td>\n",
       "      <td>19</td>\n",
       "      <td>18</td>\n",
       "      <td>37</td>\n",
       "      <td>7</td>\n",
       "      <td>5.58</td>\n",
       "      <td>677.23</td>\n",
       "      <td>598.6967</td>\n",
       "    </tr>\n",
       "  </tbody>\n",
       "</table>\n",
       "<p>5 rows × 22 columns</p>\n",
       "</div>"
      ],
      "text/plain": [
       "  Subj ID Gender  Age Visit Group (Control, Tai Chi, Master)  \\\n",
       "0   S0455      M   71    V1                          Control   \n",
       "1   S0573      M   58    V1                          Control   \n",
       "2   S0599      M   63    V1                          Control   \n",
       "3   S0609      F   59    V1                          Control   \n",
       "4   S0611      M   64    V1                          Control   \n",
       "\n",
       "  Random (Randomized or Expert/Master)  Height  \\\n",
       "0                               Random    67.0   \n",
       "1                               Random    70.0   \n",
       "2                               Random    70.0   \n",
       "3                               Random    65.5   \n",
       "4                               Random    70.0   \n",
       "\n",
       "  Describe activity level for the previous month: (nasa_activity_month_v1)  \\\n",
       "0                                  3. 1+ hr per week                         \n",
       "1              6. Run 6-10mi or Walk 7-13mi per week                         \n",
       "2              5. Run 1-5mi or Walk 1.3-6mi per week                         \n",
       "3                                  3. 1+ hr per week                         \n",
       "4              6. Run 6-10mi or Walk 7-13mi per week                         \n",
       "\n",
       "   Activity  Education  ...  TrailA TrailB  Trail_BARatio  Animals_C  \\\n",
       "0         3       18.0  ...   35.67  90.07       2.525091         19   \n",
       "1         6       18.0  ...   26.50  36.30       1.369811         19   \n",
       "2         5       20.0  ...   30.00  68.00       2.266667         18   \n",
       "3         3        NaN  ...   24.53  63.37       2.583367         26   \n",
       "4         6       14.0  ...   49.28  76.98       1.562094         19   \n",
       "\n",
       "   Supermarket_C  Category_T  laps  \\\n",
       "0             23          42     5   \n",
       "1             23          42    15   \n",
       "2             25          43     4   \n",
       "3             24          50     7   \n",
       "4             18          37     7   \n",
       "\n",
       "   Enter the distance walked on the last incomplete lap:  1. Distance walked:  \\\n",
       "0                                              93.06                   572.81   \n",
       "1                                              27.45                   709.05   \n",
       "2                                              95.95                   479.75   \n",
       "3                                               3.74                   675.39   \n",
       "4                                               5.58                   677.23   \n",
       "\n",
       "       Time  \n",
       "0  598.8247  \n",
       "1  599.2860  \n",
       "2  598.8387  \n",
       "3  598.9507  \n",
       "4  598.6967  \n",
       "\n",
       "[5 rows x 22 columns]"
      ]
     },
     "execution_count": 111,
     "metadata": {},
     "output_type": "execute_result"
    }
   ],
   "source": [
    "taichi = pd.read_csv(\"TCPCHA_Subjects.csv\")\n",
    "print(taichi.shape)\n",
    "taichi.head()"
   ]
  },
  {
   "cell_type": "code",
   "execution_count": 112,
   "metadata": {},
   "outputs": [
    {
     "data": {
      "text/plain": [
       "Gender\n",
       "F    54\n",
       "M    33\n",
       "Name: Gender, dtype: int64"
      ]
     },
     "execution_count": 112,
     "metadata": {},
     "output_type": "execute_result"
    }
   ],
   "source": [
    "taichi = taichi.drop_duplicates(['Subj ID']).reset_index(drop=True)\n",
    "taichi.groupby(['Gender'])['Gender'].count()"
   ]
  },
  {
   "cell_type": "code",
   "execution_count": 113,
   "metadata": {},
   "outputs": [
    {
     "name": "stdout",
     "output_type": "stream",
     "text": [
      "63.747126436781606\n",
      "50\n",
      "78\n",
      "7.6283107807396515\n"
     ]
    }
   ],
   "source": [
    "#print mean, min, max, sd age\n",
    "print(taichi['Age'].mean())\n",
    "print(taichi['Age'].min())\n",
    "print(taichi['Age'].max())\n",
    "print(taichi['Age'].std())"
   ]
  },
  {
   "cell_type": "code",
   "execution_count": 16,
   "metadata": {},
   "outputs": [
    {
     "name": "stdout",
     "output_type": "stream",
     "text": [
      "(32, 3)\n"
     ]
    },
    {
     "data": {
      "text/html": [
       "<div>\n",
       "<style scoped>\n",
       "    .dataframe tbody tr th:only-of-type {\n",
       "        vertical-align: middle;\n",
       "    }\n",
       "\n",
       "    .dataframe tbody tr th {\n",
       "        vertical-align: top;\n",
       "    }\n",
       "\n",
       "    .dataframe thead th {\n",
       "        text-align: right;\n",
       "    }\n",
       "</style>\n",
       "<table border=\"1\" class=\"dataframe\">\n",
       "  <thead>\n",
       "    <tr style=\"text-align: right;\">\n",
       "      <th></th>\n",
       "      <th>File</th>\n",
       "      <th>Age</th>\n",
       "      <th>Sex</th>\n",
       "    </tr>\n",
       "  </thead>\n",
       "  <tbody>\n",
       "    <tr>\n",
       "      <th>0</th>\n",
       "      <td>iaf3_afw.hea</td>\n",
       "      <td>67</td>\n",
       "      <td>F</td>\n",
       "    </tr>\n",
       "    <tr>\n",
       "      <th>1</th>\n",
       "      <td>iaf8_ivc.hea</td>\n",
       "      <td>68</td>\n",
       "      <td>M</td>\n",
       "    </tr>\n",
       "    <tr>\n",
       "      <th>2</th>\n",
       "      <td>iaf1_ivc.hea</td>\n",
       "      <td>81</td>\n",
       "      <td>F</td>\n",
       "    </tr>\n",
       "    <tr>\n",
       "      <th>3</th>\n",
       "      <td>iaf2_svc.hea</td>\n",
       "      <td>79</td>\n",
       "      <td>M</td>\n",
       "    </tr>\n",
       "    <tr>\n",
       "      <th>4</th>\n",
       "      <td>iaf1_tva.hea</td>\n",
       "      <td>81</td>\n",
       "      <td>F</td>\n",
       "    </tr>\n",
       "  </tbody>\n",
       "</table>\n",
       "</div>"
      ],
      "text/plain": [
       "           File  Age Sex\n",
       "0  iaf3_afw.hea   67   F\n",
       "1  iaf8_ivc.hea   68   M\n",
       "2  iaf1_ivc.hea   81   F\n",
       "3  iaf2_svc.hea   79   M\n",
       "4  iaf1_tva.hea   81   F"
      ]
     },
     "execution_count": 16,
     "metadata": {},
     "output_type": "execute_result"
    }
   ],
   "source": [
    "af = pd.read_csv(\"atrialfib.csv\")\n",
    "print(af.shape)\n",
    "af.head()"
   ]
  },
  {
   "cell_type": "code",
   "execution_count": 17,
   "metadata": {},
   "outputs": [
    {
     "data": {
      "text/plain": [
       "Sex\n",
       "F    12\n",
       "M    20\n",
       "Name: Sex, dtype: int64"
      ]
     },
     "execution_count": 17,
     "metadata": {},
     "output_type": "execute_result"
    }
   ],
   "source": [
    "af.groupby(['Sex'])['Sex'].count()"
   ]
  },
  {
   "cell_type": "code",
   "execution_count": 18,
   "metadata": {},
   "outputs": [
    {
     "data": {
      "text/plain": [
       "73.25"
      ]
     },
     "execution_count": 18,
     "metadata": {},
     "output_type": "execute_result"
    }
   ],
   "source": [
    "af['Age'].mean()"
   ]
  },
  {
   "cell_type": "code",
   "execution_count": 19,
   "metadata": {},
   "outputs": [
    {
     "name": "stdout",
     "output_type": "stream",
     "text": [
      "(1930, 3)\n"
     ]
    },
    {
     "data": {
      "text/html": [
       "<div>\n",
       "<style scoped>\n",
       "    .dataframe tbody tr th:only-of-type {\n",
       "        vertical-align: middle;\n",
       "    }\n",
       "\n",
       "    .dataframe tbody tr th {\n",
       "        vertical-align: top;\n",
       "    }\n",
       "\n",
       "    .dataframe thead th {\n",
       "        text-align: right;\n",
       "    }\n",
       "</style>\n",
       "<table border=\"1\" class=\"dataframe\">\n",
       "  <thead>\n",
       "    <tr style=\"text-align: right;\">\n",
       "      <th></th>\n",
       "      <th>Filename</th>\n",
       "      <th>Age</th>\n",
       "      <th>Sex</th>\n",
       "    </tr>\n",
       "  </thead>\n",
       "  <tbody>\n",
       "    <tr>\n",
       "      <th>0</th>\n",
       "      <td>BDS01522.hea</td>\n",
       "      <td>26</td>\n",
       "      <td>F</td>\n",
       "    </tr>\n",
       "    <tr>\n",
       "      <th>1</th>\n",
       "      <td>BDS01244.hea</td>\n",
       "      <td>85</td>\n",
       "      <td>F</td>\n",
       "    </tr>\n",
       "    <tr>\n",
       "      <th>2</th>\n",
       "      <td>BDS01250.hea</td>\n",
       "      <td>80</td>\n",
       "      <td>F</td>\n",
       "    </tr>\n",
       "    <tr>\n",
       "      <th>3</th>\n",
       "      <td>BDS00628.hea</td>\n",
       "      <td>24</td>\n",
       "      <td>F</td>\n",
       "    </tr>\n",
       "    <tr>\n",
       "      <th>4</th>\n",
       "      <td>BDS01536.hea</td>\n",
       "      <td>20</td>\n",
       "      <td>F</td>\n",
       "    </tr>\n",
       "  </tbody>\n",
       "</table>\n",
       "</div>"
      ],
      "text/plain": [
       "       Filename  Age Sex\n",
       "0  BDS01522.hea   26   F\n",
       "1  BDS01244.hea   85   F\n",
       "2  BDS01250.hea   80   F\n",
       "3  BDS00628.hea   24   F\n",
       "4  BDS01536.hea   20   F"
      ]
     },
     "execution_count": 19,
     "metadata": {},
     "output_type": "execute_result"
    }
   ],
   "source": [
    "balance = pd.read_csv(\"balance.csv\")\n",
    "print(balance.shape)\n",
    "balance.head()"
   ]
  },
  {
   "cell_type": "code",
   "execution_count": 24,
   "metadata": {},
   "outputs": [
    {
     "data": {
      "text/plain": [
       "Sex\n",
       "F    1383\n",
       "M     547\n",
       "Name: Sex, dtype: int64"
      ]
     },
     "execution_count": 24,
     "metadata": {},
     "output_type": "execute_result"
    }
   ],
   "source": [
    "balance.groupby(['Sex'])['Sex'].count()"
   ]
  },
  {
   "cell_type": "code",
   "execution_count": 22,
   "metadata": {},
   "outputs": [
    {
     "data": {
      "text/plain": [
       "47.39740932642487"
      ]
     },
     "execution_count": 22,
     "metadata": {},
     "output_type": "execute_result"
    }
   ],
   "source": [
    "balance['Age'].mean()"
   ]
  },
  {
   "cell_type": "code",
   "execution_count": 23,
   "metadata": {},
   "outputs": [
    {
     "name": "stdout",
     "output_type": "stream",
     "text": [
      "(100, 6)\n"
     ]
    },
    {
     "data": {
      "text/html": [
       "<div>\n",
       "<style scoped>\n",
       "    .dataframe tbody tr th:only-of-type {\n",
       "        vertical-align: middle;\n",
       "    }\n",
       "\n",
       "    .dataframe tbody tr th {\n",
       "        vertical-align: top;\n",
       "    }\n",
       "\n",
       "    .dataframe thead th {\n",
       "        text-align: right;\n",
       "    }\n",
       "</style>\n",
       "<table border=\"1\" class=\"dataframe\">\n",
       "  <thead>\n",
       "    <tr style=\"text-align: right;\">\n",
       "      <th></th>\n",
       "      <th>subject_id</th>\n",
       "      <th>gender</th>\n",
       "      <th>anchor_age</th>\n",
       "      <th>anchor_year</th>\n",
       "      <th>anchor_year_group</th>\n",
       "      <th>dod</th>\n",
       "    </tr>\n",
       "  </thead>\n",
       "  <tbody>\n",
       "    <tr>\n",
       "      <th>0</th>\n",
       "      <td>10014729</td>\n",
       "      <td>F</td>\n",
       "      <td>21</td>\n",
       "      <td>2125</td>\n",
       "      <td>2011 - 2013</td>\n",
       "      <td>NaN</td>\n",
       "    </tr>\n",
       "    <tr>\n",
       "      <th>1</th>\n",
       "      <td>10003400</td>\n",
       "      <td>F</td>\n",
       "      <td>72</td>\n",
       "      <td>2134</td>\n",
       "      <td>2011 - 2013</td>\n",
       "      <td>2137-09-02</td>\n",
       "    </tr>\n",
       "    <tr>\n",
       "      <th>2</th>\n",
       "      <td>10002428</td>\n",
       "      <td>F</td>\n",
       "      <td>80</td>\n",
       "      <td>2155</td>\n",
       "      <td>2011 - 2013</td>\n",
       "      <td>NaN</td>\n",
       "    </tr>\n",
       "    <tr>\n",
       "      <th>3</th>\n",
       "      <td>10032725</td>\n",
       "      <td>F</td>\n",
       "      <td>38</td>\n",
       "      <td>2143</td>\n",
       "      <td>2011 - 2013</td>\n",
       "      <td>2143-03-30</td>\n",
       "    </tr>\n",
       "    <tr>\n",
       "      <th>4</th>\n",
       "      <td>10027445</td>\n",
       "      <td>F</td>\n",
       "      <td>48</td>\n",
       "      <td>2142</td>\n",
       "      <td>2011 - 2013</td>\n",
       "      <td>2146-02-09</td>\n",
       "    </tr>\n",
       "  </tbody>\n",
       "</table>\n",
       "</div>"
      ],
      "text/plain": [
       "   subject_id gender  anchor_age  anchor_year anchor_year_group         dod\n",
       "0    10014729      F          21         2125       2011 - 2013         NaN\n",
       "1    10003400      F          72         2134       2011 - 2013  2137-09-02\n",
       "2    10002428      F          80         2155       2011 - 2013         NaN\n",
       "3    10032725      F          38         2143       2011 - 2013  2143-03-30\n",
       "4    10027445      F          48         2142       2011 - 2013  2146-02-09"
      ]
     },
     "execution_count": 23,
     "metadata": {},
     "output_type": "execute_result"
    }
   ],
   "source": [
    "import pandas as pd\n",
    "\n",
    "df = pd.read_csv(\"patients.csv\")\n",
    "print(df.shape)\n",
    "df.head()"
   ]
  },
  {
   "cell_type": "code",
   "execution_count": 24,
   "metadata": {},
   "outputs": [
    {
     "data": {
      "text/plain": [
       "gender\n",
       "F    43\n",
       "M    57\n",
       "Name: gender, dtype: int64"
      ]
     },
     "execution_count": 24,
     "metadata": {},
     "output_type": "execute_result"
    }
   ],
   "source": [
    "# return count of M and F in sex\n",
    "df.groupby(['gender'])['gender'].count()\n",
    "mean = df['anchor_age'].mean()\n",
    "sd = df['anchor_age'].std()\n",
    "min = df['anchor_age'].min()\n",
    "max = df['anchor_age'].max()\n",
    "print(mean, sd, min, max)"
   ]
  },
  {
   "cell_type": "code",
   "execution_count": 25,
   "metadata": {},
   "outputs": [
    {
     "name": "stdout",
     "output_type": "stream",
     "text": [
      "61.75 16.169790388626602 21 91\n"
     ]
    }
   ],
   "source": [
    "# df['dob'] = pd.to_datetime(df['dob'])\n",
    "# df['dod'] = pd.to_datetime(df['dod'])\n",
    "\n",
    "# Calculate the age by subtracting dob from dod\n",
    "mean = df['anchor_age'].mean()\n",
    "sd = df['anchor_age'].std()\n",
    "min = df['anchor_age'].min()\n",
    "max = df['anchor_age'].max()\n",
    "print(mean, sd, min, max)"
   ]
  },
  {
   "cell_type": "code",
   "execution_count": 11,
   "metadata": {},
   "outputs": [
    {
     "data": {
      "text/plain": [
       "(68.13333333333334, 14.697089658991827, 21, 92, {'m': 45, 'f': 45}, 90)"
      ]
     },
     "execution_count": 11,
     "metadata": {},
     "output_type": "execute_result"
    }
   ],
   "source": []
  },
  {
   "cell_type": "code",
   "execution_count": 30,
   "metadata": {},
   "outputs": [
    {
     "data": {
      "text/html": [
       "<div>\n",
       "<style scoped>\n",
       "    .dataframe tbody tr th:only-of-type {\n",
       "        vertical-align: middle;\n",
       "    }\n",
       "\n",
       "    .dataframe tbody tr th {\n",
       "        vertical-align: top;\n",
       "    }\n",
       "\n",
       "    .dataframe thead th {\n",
       "        text-align: right;\n",
       "    }\n",
       "</style>\n",
       "<table border=\"1\" class=\"dataframe\">\n",
       "  <thead>\n",
       "    <tr style=\"text-align: right;\">\n",
       "      <th></th>\n",
       "      <th>race</th>\n",
       "      <th>ethnicity</th>\n",
       "      <th>gender</th>\n",
       "      <th>birthDate</th>\n",
       "      <th>deceasedDateTime</th>\n",
       "      <th>age</th>\n",
       "    </tr>\n",
       "  </thead>\n",
       "  <tbody>\n",
       "    <tr>\n",
       "      <th>0</th>\n",
       "      <td>White</td>\n",
       "      <td>Not Hispanic or Latino</td>\n",
       "      <td>female</td>\n",
       "      <td>2128-05-06</td>\n",
       "      <td>2180-09-09</td>\n",
       "      <td>52.0</td>\n",
       "    </tr>\n",
       "    <tr>\n",
       "      <th>1</th>\n",
       "      <td>White</td>\n",
       "      <td>Not Hispanic or Latino</td>\n",
       "      <td>male</td>\n",
       "      <td>2089-06-05</td>\n",
       "      <td>2149-11-21</td>\n",
       "      <td>60.0</td>\n",
       "    </tr>\n",
       "    <tr>\n",
       "      <th>2</th>\n",
       "      <td>White</td>\n",
       "      <td>Not Hispanic or Latino</td>\n",
       "      <td>male</td>\n",
       "      <td>2111-03-12</td>\n",
       "      <td>None</td>\n",
       "      <td>NaN</td>\n",
       "    </tr>\n",
       "    <tr>\n",
       "      <th>3</th>\n",
       "      <td>White</td>\n",
       "      <td>Not Hispanic or Latino</td>\n",
       "      <td>female</td>\n",
       "      <td>2104-10-28</td>\n",
       "      <td>None</td>\n",
       "      <td>NaN</td>\n",
       "    </tr>\n",
       "    <tr>\n",
       "      <th>4</th>\n",
       "      <td>White</td>\n",
       "      <td>Not Hispanic or Latino</td>\n",
       "      <td>male</td>\n",
       "      <td>2114-09-10</td>\n",
       "      <td>None</td>\n",
       "      <td>NaN</td>\n",
       "    </tr>\n",
       "  </tbody>\n",
       "</table>\n",
       "</div>"
      ],
      "text/plain": [
       "    race               ethnicity  gender   birthDate deceasedDateTime   age\n",
       "0  White  Not Hispanic or Latino  female  2128-05-06       2180-09-09  52.0\n",
       "1  White  Not Hispanic or Latino    male  2089-06-05       2149-11-21  60.0\n",
       "2  White  Not Hispanic or Latino    male  2111-03-12             None   NaN\n",
       "3  White  Not Hispanic or Latino  female  2104-10-28             None   NaN\n",
       "4  White  Not Hispanic or Latino    male  2114-09-10             None   NaN"
      ]
     },
     "execution_count": 30,
     "metadata": {},
     "output_type": "execute_result"
    }
   ],
   "source": [
    "import json\n",
    "from datetime import datetime\n",
    "\n",
    "# Read the NDJSON file line by line and parse the information\n",
    "patient_data = []\n",
    "with open('Patient.ndjson', 'r') as file:\n",
    "    for line in file:\n",
    "        # Load the JSON object from the line\n",
    "        json_obj = json.loads(line)\n",
    "\n",
    "        patient_record = {\n",
    "            \"race\": None,\n",
    "            \"ethnicity\": None,\n",
    "            \"gender\": json_obj.get(\"gender\"),\n",
    "            \"birthDate\": json_obj.get(\"birthDate\"),\n",
    "            \"deceasedDateTime\": json_obj.get(\"deceasedDateTime\")\n",
    "        }\n",
    "        \n",
    "        # Get race and ethnicity from extensions\n",
    "        for ext in json_obj.get(\"extension\", []):\n",
    "            if ext[\"url\"] == \"http://hl7.org/fhir/us/core/StructureDefinition/us-core-race\":\n",
    "                patient_record[\"race\"] = ext[\"extension\"][0][\"valueCoding\"][\"display\"]\n",
    "            elif ext[\"url\"] == \"http://hl7.org/fhir/us/core/StructureDefinition/us-core-ethnicity\":\n",
    "                patient_record[\"ethnicity\"] = ext[\"extension\"][0][\"valueCoding\"][\"display\"]\n",
    "        \n",
    "        # Calculate age if birthDate and deceasedDateTime are present\n",
    "        if patient_record[\"birthDate\"] and patient_record[\"deceasedDateTime\"]:\n",
    "            birth_date = datetime.strptime(patient_record[\"birthDate\"], \"%Y-%m-%d\")\n",
    "            deceased_date = datetime.strptime(patient_record[\"deceasedDateTime\"], \"%Y-%m-%d\")\n",
    "            age_years = deceased_date.year - birth_date.year\n",
    "            if (deceased_date.month, deceased_date.day) < (birth_date.month, birth_date.day):\n",
    "                age_years -= 1  # Adjust if birthday hasn't occurred yet that year\n",
    "            patient_record[\"age\"] = age_years\n",
    "\n",
    "        # Append the patient record to the list\n",
    "        patient_data.append(patient_record)\n",
    "\n",
    "# Create a DataFrame from the patient data\n",
    "df_patients = pd.DataFrame(patient_data)\n",
    "df_patients.head()  # Display the first few records in the dataframe"
   ]
  },
  {
   "cell_type": "code",
   "execution_count": 32,
   "metadata": {},
   "outputs": [
    {
     "name": "stdout",
     "output_type": "stream",
     "text": [
      "69.4375 14.038972253533514 38.0 91.0\n"
     ]
    }
   ],
   "source": [
    "# df_patients.groupby(['gender'])['gender'].count()\n",
    "mean = df_patients['age'].mean()\n",
    "sd = df_patients['age'].std()\n",
    "min = df_patients['age'].min()\n",
    "max = df_patients['age'].max()\n",
    "print(mean, sd, min, max)"
   ]
  },
  {
   "cell_type": "code",
   "execution_count": 46,
   "metadata": {},
   "outputs": [
    {
     "data": {
      "text/plain": [
       "(64, 9)"
      ]
     },
     "execution_count": 46,
     "metadata": {},
     "output_type": "execute_result"
    }
   ],
   "source": [
    "ed = pd.read_csv(\"edstays.csv\")\n",
    "ed.head()\n",
    "ed.drop_duplicates(subset=['subject_id'], inplace=True)\n",
    "ed.shape"
   ]
  },
  {
   "cell_type": "code",
   "execution_count": 47,
   "metadata": {},
   "outputs": [
    {
     "data": {
      "text/plain": [
       "gender\n",
       "F    32\n",
       "M    32\n",
       "Name: gender, dtype: int64"
      ]
     },
     "execution_count": 47,
     "metadata": {},
     "output_type": "execute_result"
    }
   ],
   "source": [
    "ed.groupby(['gender'])['gender'].count()\n"
   ]
  },
  {
   "cell_type": "code",
   "execution_count": 65,
   "metadata": {},
   "outputs": [
    {
     "data": {
      "text/plain": [
       "46"
      ]
     },
     "execution_count": 65,
     "metadata": {},
     "output_type": "execute_result"
    }
   ],
   "source": [
    "mit = pd.read_csv(\"mit-bih.csv\")\n",
    "mit.groupby(['File'])['File'].count().size"
   ]
  },
  {
   "cell_type": "code",
   "execution_count": 58,
   "metadata": {},
   "outputs": [
    {
     "data": {
      "text/plain": [
       "Gender\n",
       "F    22\n",
       "M    24\n",
       "Name: Gender, dtype: int64"
      ]
     },
     "execution_count": 58,
     "metadata": {},
     "output_type": "execute_result"
    }
   ],
   "source": [
    "mit.groupby(['Gender'])['Gender'].count()\n"
   ]
  },
  {
   "cell_type": "code",
   "execution_count": 60,
   "metadata": {},
   "outputs": [
    {
     "name": "stdout",
     "output_type": "stream",
     "text": [
      "63.67391304347826 17.775206637743842 23 89\n"
     ]
    }
   ],
   "source": [
    "mean = mit['Age'].mean()\n",
    "sd = mit['Age'].std()\n",
    "min = mit['Age'].min()\n",
    "max = mit['Age'].max()\n",
    "print(mean, sd, min, max)"
   ]
  },
  {
   "cell_type": "code",
   "execution_count": 72,
   "metadata": {},
   "outputs": [
    {
     "name": "stdout",
     "output_type": "stream",
     "text": [
      "4.20883424647321\n"
     ]
    }
   ],
   "source": [
    "ages = [25, 27, 34, 27, 32, 27, 25, 27, 24, 29, 27, 40, 20, 25, 28, 22, 27, 24, 27, 27, 29]\n",
    "ages = pd.Series(ages)\n",
    "print(ages.std())"
   ]
  },
  {
   "cell_type": "code",
   "execution_count": 90,
   "metadata": {},
   "outputs": [
    {
     "name": "stdout",
     "output_type": "stream",
     "text": [
      "87.0\n"
     ]
    }
   ],
   "source": [
    "df = pd.read_csv(\"subject-info.csv\")\n",
    "#drop row 2\n",
    "df.drop(df.index[0], inplace=True)\n",
    "df.head()\n",
    "df['General information'] = df['General information'].astype(float)\n",
    "print(df['General information'].max())"
   ]
  },
  {
   "cell_type": "code",
   "execution_count": 81,
   "metadata": {},
   "outputs": [
    {
     "data": {
      "text/plain": [
       "9.712183838372218e+157"
      ]
     },
     "execution_count": 81,
     "metadata": {},
     "output_type": "execute_result"
    }
   ],
   "source": []
  },
  {
   "cell_type": "code",
   "execution_count": 104,
   "metadata": {},
   "outputs": [
    {
     "data": {
      "text/html": [
       "<div>\n",
       "<style scoped>\n",
       "    .dataframe tbody tr th:only-of-type {\n",
       "        vertical-align: middle;\n",
       "    }\n",
       "\n",
       "    .dataframe tbody tr th {\n",
       "        vertical-align: top;\n",
       "    }\n",
       "\n",
       "    .dataframe thead th {\n",
       "        text-align: right;\n",
       "    }\n",
       "</style>\n",
       "<table border=\"1\" class=\"dataframe\">\n",
       "  <thead>\n",
       "    <tr style=\"text-align: right;\">\n",
       "      <th></th>\n",
       "      <th>caseid</th>\n",
       "      <th>subjectid</th>\n",
       "      <th>casestart</th>\n",
       "      <th>caseend</th>\n",
       "      <th>anestart</th>\n",
       "      <th>aneend</th>\n",
       "      <th>opstart</th>\n",
       "      <th>opend</th>\n",
       "      <th>adm</th>\n",
       "      <th>dis</th>\n",
       "      <th>icu_days</th>\n",
       "      <th>death_inhosp</th>\n",
       "      <th>age</th>\n",
       "      <th>sex</th>\n",
       "      <th>height</th>\n",
       "    </tr>\n",
       "  </thead>\n",
       "  <tbody>\n",
       "    <tr>\n",
       "      <th>2319</th>\n",
       "      <td>2320</td>\n",
       "      <td>897</td>\n",
       "      <td>0</td>\n",
       "      <td>27741</td>\n",
       "      <td>-2291</td>\n",
       "      <td>28429.0</td>\n",
       "      <td>3529</td>\n",
       "      <td>27140</td>\n",
       "      <td>-844560</td>\n",
       "      <td>1574640</td>\n",
       "      <td>6</td>\n",
       "      <td>0</td>\n",
       "      <td>0.3</td>\n",
       "      <td>M</td>\n",
       "      <td>67.5</td>\n",
       "    </tr>\n",
       "  </tbody>\n",
       "</table>\n",
       "</div>"
      ],
      "text/plain": [
       "      caseid  subjectid  casestart  caseend  anestart   aneend  opstart  \\\n",
       "2319    2320        897          0    27741     -2291  28429.0     3529   \n",
       "\n",
       "      opend     adm      dis  icu_days  death_inhosp  age sex  height  \n",
       "2319  27140 -844560  1574640         6             0  0.3   M    67.5  "
      ]
     },
     "execution_count": 104,
     "metadata": {},
     "output_type": "execute_result"
    }
   ],
   "source": [
    "vitaldb = pd.read_csv(\"clinical_data (1).csv\")\n",
    "vitaldb.head()\n",
    "# convert age to float\n",
    "# vitaldb['age'] = vitaldb['age'].astype(float)\n",
    "# find age = >89\n",
    "# get rid of columns past height\n",
    "vitaldb = vitaldb.loc[:, :'height']\n",
    "# vitaldb[vitaldb['age'] == '>89']\n",
    "# drop rows with age >89\n",
    "vitaldb = vitaldb[vitaldb.age != '>89']\n",
    "# convert age to float\n",
    "vitaldb['age'] = vitaldb['age'].astype(float)\n",
    "# find where age = .3\n",
    "vitaldb[vitaldb['age'] == .3]"
   ]
  },
  {
   "cell_type": "code",
   "execution_count": 103,
   "metadata": {},
   "outputs": [
    {
     "name": "stdout",
     "output_type": "stream",
     "text": [
      "0.3\n"
     ]
    }
   ],
   "source": [
    "print(vitaldb['age'].min())"
   ]
  },
  {
   "cell_type": "code",
   "execution_count": 106,
   "metadata": {},
   "outputs": [
    {
     "data": {
      "text/html": [
       "<div>\n",
       "<style scoped>\n",
       "    .dataframe tbody tr th:only-of-type {\n",
       "        vertical-align: middle;\n",
       "    }\n",
       "\n",
       "    .dataframe tbody tr th {\n",
       "        vertical-align: top;\n",
       "    }\n",
       "\n",
       "    .dataframe thead th {\n",
       "        text-align: right;\n",
       "    }\n",
       "</style>\n",
       "<table border=\"1\" class=\"dataframe\">\n",
       "  <thead>\n",
       "    <tr style=\"text-align: right;\">\n",
       "      <th></th>\n",
       "      <th>number</th>\n",
       "      <th>age (years)</th>\n",
       "      <th>ethnicity</th>\n",
       "      <th>diabetes mellitus</th>\n",
       "      <th>mean diastolic bp (mmhg)</th>\n",
       "      <th>mean systolic bp (mmhg)</th>\n",
       "      <th>central armellini fat (mm)</th>\n",
       "      <th>current gestational age</th>\n",
       "      <th>pregnancies (number)</th>\n",
       "      <th>first fasting glucose (mg/dl)</th>\n",
       "      <th>bmi pregestational (kg/m)</th>\n",
       "      <th>gestational age at birth</th>\n",
       "      <th>type of delivery</th>\n",
       "      <th>child birth weight (g)</th>\n",
       "      <th>gestational dm</th>\n",
       "    </tr>\n",
       "  </thead>\n",
       "  <tbody>\n",
       "    <tr>\n",
       "      <th>0</th>\n",
       "      <td>1</td>\n",
       "      <td>20</td>\n",
       "      <td>NaN</td>\n",
       "      <td>0</td>\n",
       "      <td>73.5</td>\n",
       "      <td>125.0</td>\n",
       "      <td>28.1</td>\n",
       "      <td>12,1</td>\n",
       "      <td>1.0</td>\n",
       "      <td>NaN</td>\n",
       "      <td>33.20</td>\n",
       "      <td>41,0</td>\n",
       "      <td>1</td>\n",
       "      <td>3840</td>\n",
       "      <td>0</td>\n",
       "    </tr>\n",
       "    <tr>\n",
       "      <th>1</th>\n",
       "      <td>2</td>\n",
       "      <td>28</td>\n",
       "      <td>0.0</td>\n",
       "      <td>0</td>\n",
       "      <td>75.5</td>\n",
       "      <td>112.0</td>\n",
       "      <td>43.1</td>\n",
       "      <td>11,5</td>\n",
       "      <td>1.0</td>\n",
       "      <td>76.0</td>\n",
       "      <td>21.50</td>\n",
       "      <td>39,1</td>\n",
       "      <td>0</td>\n",
       "      <td>2810</td>\n",
       "      <td>0</td>\n",
       "    </tr>\n",
       "    <tr>\n",
       "      <th>2</th>\n",
       "      <td>5</td>\n",
       "      <td>21</td>\n",
       "      <td>1.0</td>\n",
       "      <td>0</td>\n",
       "      <td>70.5</td>\n",
       "      <td>116.0</td>\n",
       "      <td>41.4</td>\n",
       "      <td>12,6</td>\n",
       "      <td>1.0</td>\n",
       "      <td>86.0</td>\n",
       "      <td>21.41</td>\n",
       "      <td>39,5</td>\n",
       "      <td>0</td>\n",
       "      <td>2455</td>\n",
       "      <td>0</td>\n",
       "    </tr>\n",
       "    <tr>\n",
       "      <th>3</th>\n",
       "      <td>9</td>\n",
       "      <td>25</td>\n",
       "      <td>0.0</td>\n",
       "      <td>0</td>\n",
       "      <td>92.5</td>\n",
       "      <td>167.0</td>\n",
       "      <td>39.6</td>\n",
       "      <td>16,2</td>\n",
       "      <td>4.0</td>\n",
       "      <td>NaN</td>\n",
       "      <td>55.36</td>\n",
       "      <td>39,4</td>\n",
       "      <td>0</td>\n",
       "      <td>3400</td>\n",
       "      <td>0</td>\n",
       "    </tr>\n",
       "    <tr>\n",
       "      <th>4</th>\n",
       "      <td>13</td>\n",
       "      <td>33</td>\n",
       "      <td>1.0</td>\n",
       "      <td>0</td>\n",
       "      <td>79.0</td>\n",
       "      <td>137.0</td>\n",
       "      <td>67.8</td>\n",
       "      <td>11,2</td>\n",
       "      <td>2.0</td>\n",
       "      <td>86.0</td>\n",
       "      <td>30.85</td>\n",
       "      <td>40,2</td>\n",
       "      <td>1</td>\n",
       "      <td>3930</td>\n",
       "      <td>1</td>\n",
       "    </tr>\n",
       "  </tbody>\n",
       "</table>\n",
       "</div>"
      ],
      "text/plain": [
       "   number  age (years)  ethnicity  diabetes mellitus  \\\n",
       "0       1           20        NaN                  0   \n",
       "1       2           28        0.0                  0   \n",
       "2       5           21        1.0                  0   \n",
       "3       9           25        0.0                  0   \n",
       "4      13           33        1.0                  0   \n",
       "\n",
       "   mean diastolic bp (mmhg)  mean systolic bp (mmhg)  \\\n",
       "0                      73.5                    125.0   \n",
       "1                      75.5                    112.0   \n",
       "2                      70.5                    116.0   \n",
       "3                      92.5                    167.0   \n",
       "4                      79.0                    137.0   \n",
       "\n",
       "   central armellini fat (mm) current gestational age  pregnancies (number)  \\\n",
       "0                        28.1                    12,1                   1.0   \n",
       "1                        43.1                    11,5                   1.0   \n",
       "2                        41.4                    12,6                   1.0   \n",
       "3                        39.6                    16,2                   4.0   \n",
       "4                        67.8                    11,2                   2.0   \n",
       "\n",
       "   first fasting glucose (mg/dl)  bmi pregestational (kg/m)  \\\n",
       "0                            NaN                      33.20   \n",
       "1                           76.0                      21.50   \n",
       "2                           86.0                      21.41   \n",
       "3                            NaN                      55.36   \n",
       "4                           86.0                      30.85   \n",
       "\n",
       "  gestational age at birth  type of delivery  child birth weight (g)  \\\n",
       "0                     41,0                 1                    3840   \n",
       "1                     39,1                 0                    2810   \n",
       "2                     39,5                 0                    2455   \n",
       "3                     39,4                 0                    3400   \n",
       "4                     40,2                 1                    3930   \n",
       "\n",
       "   gestational dm  \n",
       "0               0  \n",
       "1               0  \n",
       "2               0  \n",
       "3               0  \n",
       "4               1  "
      ]
     },
     "execution_count": 106,
     "metadata": {},
     "output_type": "execute_result"
    }
   ],
   "source": [
    "vis = pd.read_csv(\"visceral_fat.csv\")\n",
    "vis.head()\n"
   ]
  },
  {
   "cell_type": "code",
   "execution_count": 108,
   "metadata": {},
   "outputs": [
    {
     "name": "stdout",
     "output_type": "stream",
     "text": [
      "25.804511278195488 6.366887168896803 15 43\n"
     ]
    }
   ],
   "source": [
    "#print mean age, sd, min, max\n",
    "mean = vis['age (years)'].mean()\n",
    "sd = vis['age (years)'].std()\n",
    "min = vis['age (years)'].min()\n",
    "max = vis['age (years)'].max()\n",
    "print(mean, sd, min, max)"
   ]
  },
  {
   "cell_type": "code",
   "execution_count": 3,
   "metadata": {},
   "outputs": [
    {
     "data": {
      "text/html": [
       "<div>\n",
       "<style scoped>\n",
       "    .dataframe tbody tr th:only-of-type {\n",
       "        vertical-align: middle;\n",
       "    }\n",
       "\n",
       "    .dataframe tbody tr th {\n",
       "        vertical-align: top;\n",
       "    }\n",
       "\n",
       "    .dataframe thead th {\n",
       "        text-align: right;\n",
       "    }\n",
       "</style>\n",
       "<table border=\"1\" class=\"dataframe\">\n",
       "  <thead>\n",
       "    <tr style=\"text-align: right;\">\n",
       "      <th></th>\n",
       "      <th>row_id</th>\n",
       "      <th>subject_id</th>\n",
       "      <th>gender</th>\n",
       "      <th>dob</th>\n",
       "      <th>dod</th>\n",
       "      <th>dod_hosp</th>\n",
       "      <th>dod_ssn</th>\n",
       "      <th>expire_flag</th>\n",
       "    </tr>\n",
       "  </thead>\n",
       "  <tbody>\n",
       "    <tr>\n",
       "      <th>0</th>\n",
       "      <td>9467</td>\n",
       "      <td>10006</td>\n",
       "      <td>F</td>\n",
       "      <td>2094-03-05 00:00:00</td>\n",
       "      <td>2165-08-12 00:00:00</td>\n",
       "      <td>2165-08-12 00:00:00</td>\n",
       "      <td>2165-08-12 00:00:00</td>\n",
       "      <td>1</td>\n",
       "    </tr>\n",
       "    <tr>\n",
       "      <th>1</th>\n",
       "      <td>9472</td>\n",
       "      <td>10011</td>\n",
       "      <td>F</td>\n",
       "      <td>2090-06-05 00:00:00</td>\n",
       "      <td>2126-08-28 00:00:00</td>\n",
       "      <td>2126-08-28 00:00:00</td>\n",
       "      <td>NaN</td>\n",
       "      <td>1</td>\n",
       "    </tr>\n",
       "    <tr>\n",
       "      <th>2</th>\n",
       "      <td>9474</td>\n",
       "      <td>10013</td>\n",
       "      <td>F</td>\n",
       "      <td>2038-09-03 00:00:00</td>\n",
       "      <td>2125-10-07 00:00:00</td>\n",
       "      <td>2125-10-07 00:00:00</td>\n",
       "      <td>2125-10-07 00:00:00</td>\n",
       "      <td>1</td>\n",
       "    </tr>\n",
       "    <tr>\n",
       "      <th>3</th>\n",
       "      <td>9478</td>\n",
       "      <td>10017</td>\n",
       "      <td>F</td>\n",
       "      <td>2075-09-21 00:00:00</td>\n",
       "      <td>2152-09-12 00:00:00</td>\n",
       "      <td>NaN</td>\n",
       "      <td>2152-09-12 00:00:00</td>\n",
       "      <td>1</td>\n",
       "    </tr>\n",
       "    <tr>\n",
       "      <th>4</th>\n",
       "      <td>9479</td>\n",
       "      <td>10019</td>\n",
       "      <td>M</td>\n",
       "      <td>2114-06-20 00:00:00</td>\n",
       "      <td>2163-05-15 00:00:00</td>\n",
       "      <td>2163-05-15 00:00:00</td>\n",
       "      <td>2163-05-15 00:00:00</td>\n",
       "      <td>1</td>\n",
       "    </tr>\n",
       "  </tbody>\n",
       "</table>\n",
       "</div>"
      ],
      "text/plain": [
       "   row_id  subject_id gender                  dob                  dod  \\\n",
       "0    9467       10006      F  2094-03-05 00:00:00  2165-08-12 00:00:00   \n",
       "1    9472       10011      F  2090-06-05 00:00:00  2126-08-28 00:00:00   \n",
       "2    9474       10013      F  2038-09-03 00:00:00  2125-10-07 00:00:00   \n",
       "3    9478       10017      F  2075-09-21 00:00:00  2152-09-12 00:00:00   \n",
       "4    9479       10019      M  2114-06-20 00:00:00  2163-05-15 00:00:00   \n",
       "\n",
       "              dod_hosp              dod_ssn  expire_flag  \n",
       "0  2165-08-12 00:00:00  2165-08-12 00:00:00            1  \n",
       "1  2126-08-28 00:00:00                  NaN            1  \n",
       "2  2125-10-07 00:00:00  2125-10-07 00:00:00            1  \n",
       "3                  NaN  2152-09-12 00:00:00            1  \n",
       "4  2163-05-15 00:00:00  2163-05-15 00:00:00            1  "
      ]
     },
     "execution_count": 3,
     "metadata": {},
     "output_type": "execute_result"
    }
   ],
   "source": [
    "pat = pd.read_csv(\"PATIENTS (2).csv\")\n",
    "pat.head()"
   ]
  },
  {
   "cell_type": "code",
   "execution_count": 4,
   "metadata": {},
   "outputs": [
    {
     "data": {
      "text/plain": [
       "gender\n",
       "F    55\n",
       "M    45\n",
       "Name: gender, dtype: int64"
      ]
     },
     "execution_count": 4,
     "metadata": {},
     "output_type": "execute_result"
    }
   ],
   "source": [
    "pat.groupby(['gender'])['gender'].count()"
   ]
  },
  {
   "cell_type": "code",
   "execution_count": null,
   "metadata": {},
   "outputs": [],
   "source": [
    "mean = vis['age (years)'].mean()\n",
    "sd = vis['age (years)'].std()\n",
    "min = vis['age (years)'].min()\n",
    "max = vis['age (years)'].max()\n",
    "print(mean, sd, min, max)"
   ]
  }
 ],
 "metadata": {
  "kernelspec": {
   "display_name": "Python 3",
   "language": "python",
   "name": "python3"
  },
  "language_info": {
   "codemirror_mode": {
    "name": "ipython",
    "version": 3
   },
   "file_extension": ".py",
   "mimetype": "text/x-python",
   "name": "python",
   "nbconvert_exporter": "python",
   "pygments_lexer": "ipython3",
   "version": "3.11.4"
  },
  "orig_nbformat": 4
 },
 "nbformat": 4,
 "nbformat_minor": 2
}
