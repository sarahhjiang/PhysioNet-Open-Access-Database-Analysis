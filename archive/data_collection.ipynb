{
 "cells": [
  {
   "cell_type": "code",
   "execution_count": 1,
   "metadata": {},
   "outputs": [],
   "source": [
    "import pandas as pd"
   ]
  },
  {
   "cell_type": "code",
   "execution_count": 2,
   "metadata": {},
   "outputs": [],
   "source": [
    "## helper functions: 1. read and load data 2. write out gender breakdown 3. write out age breakdown\n",
    "def read_data(file):\n",
    "    data = pd.read_csv(file)\n",
    "    return data    \n",
    "\n",
    "def gender_breakdown(data, column):\n",
    "    gender = data.groupby([column])[column].count()\n",
    "    print(gender)\n",
    "\n",
    "def age_breakdown(data, column):\n",
    "    mean = data[column].mean()\n",
    "    sd = data[column].std()\n",
    "    min = data[column].min()\n",
    "    max = data[column].max()\n",
    "    print('Mean: ', mean)\n",
    "    print('Standard Deviation: ', sd)\n",
    "    print('Min: ', min)\n",
    "    print('Max: ', max)\n"
   ]
  },
  {
   "cell_type": "code",
   "execution_count": 23,
   "metadata": {},
   "outputs": [
    {
     "name": "stdout",
     "output_type": "stream",
     "text": [
      "(20, 9)\n",
      "Mean:  26.0\n",
      "Standard Deviation:  2.470883072485369\n",
      "Min:  21\n",
      "Max:  31\n",
      "Gender\n",
      "Female     4\n",
      "Male      16\n",
      "Name: Gender, dtype: int64\n"
     ]
    }
   ],
   "source": [
    "## Auditory evoked potential EEG-Biometric dataset\n",
    "file = \"Subjects-AEP.csv\"\n",
    "df_aud_ep = read_data(file)\n",
    "print(df_aud_ep.shape)\n",
    "df_aud_ep.head()\n",
    "# df_aud_ep.info()\n",
    "aud_ep_age = age_breakdown(df_aud_ep, 'Age ')\n",
    "aud_ep_gender = gender_breakdown(df_aud_ep, 'Gender')\n"
   ]
  },
  {
   "cell_type": "code",
   "execution_count": 25,
   "metadata": {},
   "outputs": [
    {
     "name": "stdout",
     "output_type": "stream",
     "text": [
      "(1121, 6)\n"
     ]
    },
    {
     "data": {
      "text/html": [
       "<div>\n",
       "<style scoped>\n",
       "    .dataframe tbody tr th:only-of-type {\n",
       "        vertical-align: middle;\n",
       "    }\n",
       "\n",
       "    .dataframe tbody tr th {\n",
       "        vertical-align: top;\n",
       "    }\n",
       "\n",
       "    .dataframe thead th {\n",
       "        text-align: right;\n",
       "    }\n",
       "</style>\n",
       "<table border=\"1\" class=\"dataframe\">\n",
       "  <thead>\n",
       "    <tr style=\"text-align: right;\">\n",
       "      <th></th>\n",
       "      <th>ID</th>\n",
       "      <th>Age_group</th>\n",
       "      <th>Sex</th>\n",
       "      <th>BMI</th>\n",
       "      <th>Length</th>\n",
       "      <th>Device</th>\n",
       "    </tr>\n",
       "  </thead>\n",
       "  <tbody>\n",
       "    <tr>\n",
       "      <th>0</th>\n",
       "      <td>1</td>\n",
       "      <td>2.0</td>\n",
       "      <td>1.0</td>\n",
       "      <td>23.0</td>\n",
       "      <td>15</td>\n",
       "      <td>0</td>\n",
       "    </tr>\n",
       "    <tr>\n",
       "      <th>1</th>\n",
       "      <td>2</td>\n",
       "      <td>2.0</td>\n",
       "      <td>1.0</td>\n",
       "      <td>24.0</td>\n",
       "      <td>32</td>\n",
       "      <td>0</td>\n",
       "    </tr>\n",
       "    <tr>\n",
       "      <th>2</th>\n",
       "      <td>3</td>\n",
       "      <td>7.0</td>\n",
       "      <td>1.0</td>\n",
       "      <td>28.0</td>\n",
       "      <td>30</td>\n",
       "      <td>0</td>\n",
       "    </tr>\n",
       "    <tr>\n",
       "      <th>3</th>\n",
       "      <td>4</td>\n",
       "      <td>4.0</td>\n",
       "      <td>0.0</td>\n",
       "      <td>24.0</td>\n",
       "      <td>15</td>\n",
       "      <td>0</td>\n",
       "    </tr>\n",
       "    <tr>\n",
       "      <th>4</th>\n",
       "      <td>5</td>\n",
       "      <td>2.0</td>\n",
       "      <td>1.0</td>\n",
       "      <td>20.0</td>\n",
       "      <td>15</td>\n",
       "      <td>0</td>\n",
       "    </tr>\n",
       "  </tbody>\n",
       "</table>\n",
       "</div>"
      ],
      "text/plain": [
       "   ID  Age_group  Sex   BMI  Length  Device\n",
       "0   1        2.0  1.0  23.0      15       0\n",
       "1   2        2.0  1.0  24.0      32       0\n",
       "2   3        7.0  1.0  28.0      30       0\n",
       "3   4        4.0  0.0  24.0      15       0\n",
       "4   5        2.0  1.0  20.0      15       0"
      ]
     },
     "execution_count": 25,
     "metadata": {},
     "output_type": "execute_result"
    }
   ],
   "source": [
    "## Autonomic Aging: A dataset to quantify changes of cardiovascular autonomic function during healthy aging 1.0.0\n",
    "file = \"autonomic-aging.csv\"\n",
    "df_aut_aging = read_data(file)\n",
    "print(df_aut_aging.shape)\n",
    "df_aut_aging.head()\n",
    "# df_aut_aging.info()\n",
    "aut_aging_gender = gender_breakdown(df_aut_aging, 'Sex')"
   ]
  },
  {
   "cell_type": "code",
   "execution_count": 31,
   "metadata": {},
   "outputs": [],
   "source": [
    "## \n",
    "file = \"GE75.csv\"\n",
    "# df_ge_75 = read_data(file) ##file has parsing issue, UnicodeDecodeError: 'utf-8' codec can't decode byte 0xc2 in position 118568: invalid continuation byte\n",
    "# print(df_ge_75.shape)\n",
    "# df_ge_75.head()\n",
    "# df_ge_75.info()\n",
    "# ge_75_age = age_breakdown(df_ge_75, 'age')\n",
    "# ge_75_gender = gender_breakdown(df_ge_75, 'sex')"
   ]
  },
  {
   "cell_type": "code",
   "execution_count": 32,
   "metadata": {},
   "outputs": [
    {
     "name": "stdout",
     "output_type": "stream",
     "text": [
      "(50, 310)\n",
      "Mean:  62.32\n",
      "Standard Deviation:  7.155531612190755\n",
      "Min:  50\n",
      "Max:  74\n",
      "Gender\n",
      "F    22\n",
      "M    28\n",
      "Name: Gender, dtype: int64\n"
     ]
    }
   ],
   "source": [
    "## Cerebral Vasoregulation in Diabetes\n",
    "file = \"GE71.csv\"\n",
    "df_ge_71 = read_data(file) \n",
    "print(df_ge_71.shape)\n",
    "df_ge_71.head()\n",
    "# df_ge_71.info()\n",
    "ge_71_age = age_breakdown(df_ge_71, 'Age')\n",
    "ge_71_gender = gender_breakdown(df_ge_71, 'Gender')"
   ]
  },
  {
   "cell_type": "code",
   "execution_count": 33,
   "metadata": {},
   "outputs": [
    {
     "name": "stdout",
     "output_type": "stream",
     "text": [
      "(172, 443)\n",
      "Mean:  66.75\n",
      "Standard Deviation:  8.167203705936874\n",
      "Min:  47\n",
      "Max:  81\n",
      "gender\n",
      "F    96\n",
      "M    76\n",
      "Name: gender, dtype: int64\n"
     ]
    }
   ],
   "source": [
    "## Cerebral Vasoregulation in Elderly with Stroke\n",
    "file = 'cerebral_vas.csv'\n",
    "df_cerebral_vas = read_data(file)\n",
    "print(df_cerebral_vas.shape)\n",
    "df_cerebral_vas.head()\n",
    "# df_cerebral_vas.info()\n",
    "cerebral_vas_age = age_breakdown(df_cerebral_vas, 'age')\n",
    "cerebral_vas_gender = gender_breakdown(df_cerebral_vas, 'gender')"
   ]
  },
  {
   "cell_type": "code",
   "execution_count": 38,
   "metadata": {},
   "outputs": [
    {
     "name": "stdout",
     "output_type": "stream",
     "text": [
      "(23, 4)\n",
      "Mean:  9.978260869565217\n",
      "Standard Deviation:  5.675862491266225\n",
      "Min:  1.5\n",
      "Max:  22.0\n",
      "Gender\n",
      "\\tF    18\n",
      "\\tM     5\n",
      "Name: Gender, dtype: int64\n"
     ]
    }
   ],
   "source": [
    "## CHB-MIT Scalp EEG Database\n",
    "file = 'SUBJECT-INFO-CHB-MIT.csv'\n",
    "df_sub_info = read_data(file)\n",
    "print(df_sub_info.shape)\n",
    "df_sub_info.head()\n",
    "# df_sub_info.info()\n",
    "sub_info_age = age_breakdown(df_sub_info, 'Age')\n",
    "sub_info_gender = gender_breakdown(df_sub_info, 'Gender')"
   ]
  },
  {
   "cell_type": "code",
   "execution_count": 39,
   "metadata": {},
   "outputs": [
    {
     "name": "stdout",
     "output_type": "stream",
     "text": [
      "(60, 23)\n",
      "Mean:  31.683333333333334\n",
      "Standard Deviation:  8.681739391968438\n",
      "Min:  19\n",
      "Max:  50\n",
      "SEX\n",
      "F    22\n",
      "M    38\n",
      "Name: SEX, dtype: int64\n"
     ]
    }
   ],
   "source": [
    "## CiPA ECG Validation Study 1.0.0\n",
    "file = 'CiPA.csv'\n",
    "df_cipa = read_data(file)\n",
    "print(df_cipa.shape)\n",
    "df_cipa.head()\n",
    "# df_cipa.info()\n",
    "cipa_age = age_breakdown(df_cipa, 'AGE')\n",
    "cipa_gender = gender_breakdown(df_cipa, 'SEX')"
   ]
  },
  {
   "cell_type": "code",
   "execution_count": 41,
   "metadata": {},
   "outputs": [
    {
     "name": "stdout",
     "output_type": "stream",
     "text": [
      "(1776, 46)\n",
      "Mean:  54.37965998310811\n",
      "Standard Deviation:  21.062854210457477\n",
      "Min:  15.18023\n",
      "Max:  99.11095\n",
      "gender_num\n",
      "0.0     750\n",
      "1.0    1025\n",
      "Name: gender_num, dtype: int64\n"
     ]
    }
   ],
   "source": [
    "## Clinical data from the MIMIC-II database for a case study on indwelling arterial catheters 1.0\n",
    "file = 'MIMICII_arter_cath.csv'\n",
    "df_mimic_ii = read_data(file)\n",
    "print(df_mimic_ii.shape)\n",
    "df_mimic_ii.head()\n",
    "# df_mimic_ii.info()\n",
    "mimic_ii_age = age_breakdown(df_mimic_ii, 'age')\n",
    "mimic_ii_gender = gender_breakdown(df_mimic_ii, 'gender_num')"
   ]
  },
  {
   "cell_type": "code",
   "execution_count": 44,
   "metadata": {},
   "outputs": [
    {
     "name": "stdout",
     "output_type": "stream",
     "text": [
      "(31, 14)\n",
      "Mean:  25.1\n",
      "Standard Deviation:  8.065892429834108\n",
      "Min:  19.0\n",
      "Max:  56.0\n",
      "Sex\n",
      "F    15\n",
      "M    15\n",
      "Name: Sex, dtype: int64\n"
     ]
    }
   ],
   "source": [
    "##CPAP Pressure and Flow Data from a Local Trial of 30 Adults at the University of Canterbury 1.0.1\n",
    "file = 'cpap.csv'\n",
    "df_cpap = read_data(file) \n",
    "print(df_cpap.shape)\n",
    "df_cpap.head()\n",
    "# df_cpap.info()\n",
    "cpap_age = age_breakdown(df_cpap, 'Age')\n",
    "cpap_gender = gender_breakdown(df_cpap, 'Sex')"
   ]
  },
  {
   "cell_type": "code",
   "execution_count": 45,
   "metadata": {},
   "outputs": [
    {
     "name": "stdout",
     "output_type": "stream",
     "text": [
      "(4211, 33)\n",
      "Mean:  26.465922583709332\n",
      "Standard Deviation:  4.674280461877055\n",
      "Min:  19\n",
      "Max:  35\n",
      "SEX\n",
      "F    1706\n",
      "M    2505\n",
      "Name: SEX, dtype: int64\n"
     ]
    }
   ],
   "source": [
    "## ECG Effects of Dofetilide, Moxifloxacin, Dofetilide+Mexiletine, Dofetilide+Lidocaine and Moxifloxacin+Diltiazem 1.0.0\n",
    "file = 'ecg_effects_1.0.0.csv'\n",
    "df_ecg_effects = read_data(file)\n",
    "print(df_ecg_effects.shape)\n",
    "df_ecg_effects.head()\n",
    "# df_ecg_effects.info()\n",
    "ecg_effects_age = age_breakdown(df_ecg_effects, 'AGE')\n",
    "ecg_effects_gender = gender_breakdown(df_ecg_effects, 'SEX')\n"
   ]
  },
  {
   "cell_type": "code",
   "execution_count": 46,
   "metadata": {},
   "outputs": [
    {
     "name": "stdout",
     "output_type": "stream",
     "text": [
      "(5232, 32)\n",
      "Mean:  26.972477064220183\n",
      "Standard Deviation:  5.359991067474298\n",
      "Min:  19\n",
      "Max:  35\n",
      "SEX\n",
      "F    2592\n",
      "M    2640\n",
      "Name: SEX, dtype: int64\n"
     ]
    }
   ],
   "source": [
    "## ECG Effects of Ranolazine, Dofetilide, Verapamil, and Quinidine 1.0.0\n",
    "file = 'ecg_effects_ranolazine.csv'\n",
    "df_ecg_effects_ranolazine = read_data(file)\n",
    "print(df_ecg_effects_ranolazine.shape)\n",
    "df_ecg_effects_ranolazine.head()\n",
    "# df_ecg_effects_ranolazine.info()\n",
    "ecg_effects_ranolazine_age = age_breakdown(df_ecg_effects_ranolazine, 'AGE')\n",
    "ecg_effects_ranolazine_gender = gender_breakdown(df_ecg_effects_ranolazine, 'SEX')"
   ]
  },
  {
   "cell_type": "code",
   "execution_count": 47,
   "metadata": {},
   "outputs": [
    {
     "name": "stdout",
     "output_type": "stream",
     "text": [
      "(36, 6)\n",
      "Mean:  18.25\n",
      "Standard Deviation:  2.169595090597058\n",
      "Min:  16\n",
      "Max:  26\n",
      "Gender\n",
      "F    27\n",
      "M     9\n",
      "Name: Gender, dtype: int64\n"
     ]
    }
   ],
   "source": [
    "## EEG During Mental Arithmetic Tasks 1.0.0\n",
    "file = 'mental_arithm.csv'\n",
    "df_mental_arithm = read_data(file)\n",
    "print(df_mental_arithm.shape)\n",
    "df_mental_arithm.head()\n",
    "# df_mental_arithm.info()\n",
    "mental_arithm_age = age_breakdown(df_mental_arithm, 'Age')\n",
    "mental_arith_gender = gender_breakdown(df_mental_arithm, 'Gender')"
   ]
  },
  {
   "cell_type": "code",
   "execution_count": 60,
   "metadata": {},
   "outputs": [
    {
     "name": "stdout",
     "output_type": "stream",
     "text": [
      "(2520, 29)\n",
      "Mean:  63.141666666666666\n",
      "Standard Deviation:  17.87143030202382\n",
      "Min:  0\n",
      "Max:  89\n",
      "gender\n",
      "Female    1008\n",
      "Male      1508\n",
      "Name: gender, dtype: int64\n"
     ]
    }
   ],
   "source": [
    "## eICU Collaborative Research Database Demo 2.0.1\n",
    "file = 'eICU_demo_201.csv'\n",
    "df_eicu = read_data(file)\n",
    "print(df_eicu.shape)\n",
    "df_eicu.head()\n",
    "# df_eicu.info()\n",
    "df_eicu['age'] = pd.to_numeric(df_eicu['age'], errors='coerce').fillna(0).astype(int)\n",
    "# print(df_eicu[df_eicu['age'] == 0].shape)\n",
    "# df_eicu = df_eicu[df_eicu['age'] != 0]\n",
    "eicu_age = age_breakdown(df_eicu, 'age')\n",
    "eicu_gender = gender_breakdown(df_eicu, 'gender')"
   ]
  },
  {
   "cell_type": "code",
   "execution_count": 63,
   "metadata": {},
   "outputs": [
    {
     "name": "stdout",
     "output_type": "stream",
     "text": [
      "(8, 6)\n",
      "Mean:  68.75\n",
      "Standard Deviation:  15.581582534701482\n",
      "Min:  40\n",
      "Max:  87\n",
      "Gender\n",
      "female    4\n",
      "male      4\n",
      "Name: Gender, dtype: int64\n"
     ]
    }
   ],
   "source": [
    "## Evoked Auditory Responses in Heading Impaired 1.0.0\n",
    "file = 'evoked_aud.csv'\n",
    "df_evoked_auditory = read_data(file)\n",
    "print(df_evoked_auditory.shape)\n",
    "df_evoked_auditory.head()\n",
    "# df_evoked_auditory.info()\n",
    "evoked_auditory_age = age_breakdown(df_evoked_auditory, 'Age')\n",
    "evoked_auditory_gender = gender_breakdown(df_evoked_auditory, 'Gender')"
   ]
  },
  {
   "cell_type": "code",
   "execution_count": 69,
   "metadata": {},
   "outputs": [
    {
     "name": "stdout",
     "output_type": "stream",
     "text": [
      "(64, 7)\n",
      "Mean:  51.359375\n",
      "Standard Deviation:  17.06976086859775\n",
      "Min:  20\n",
      "Max:  80\n",
      "gender\n",
      "f    36\n",
      "m    28\n",
      "Name: gender, dtype: int64\n"
     ]
    }
   ],
   "source": [
    "## Gait in Neurodegeneratie Disease Database\n",
    "file = 'gait_in_nddd.csv'\n",
    "df_gait = read_data(file)\n",
    "print(df_gait.shape)\n",
    "df_gait.head()\n",
    "# df_gait.info()\n",
    "gait_age = age_breakdown(df_gait, 'AGE')\n",
    "gait_gender = gender_breakdown(df_gait, 'gender')"
   ]
  },
  {
   "cell_type": "code",
   "execution_count": 64,
   "metadata": {},
   "outputs": [
    {
     "name": "stdout",
     "output_type": "stream",
     "text": [
      "(166, 14)\n",
      "Mean:  65.13855421686748\n",
      "Standard Deviation:  9.200070241171925\n",
      "Min:  36\n",
      "Max:  86\n",
      "Gender\n",
      "female    68\n",
      "male      98\n",
      "Name: Gender, dtype: int64\n"
     ]
    }
   ],
   "source": [
    "## Gait in Parkinson's Disease 1.0.0\n",
    "file = 'gait_in_PD.csv'\n",
    "df_gait_pd = read_data(file)\n",
    "print(df_gait_pd.shape)\n",
    "df_gait_pd.head()\n",
    "# df_gait_pd.info()\n",
    "gait_pd_age = age_breakdown(df_gait_pd, 'Age')\n",
    "gait_pd_gender = gender_breakdown(df_gait_pd, 'Gender')"
   ]
  },
  {
   "cell_type": "code",
   "execution_count": 66,
   "metadata": {},
   "outputs": [
    {
     "name": "stdout",
     "output_type": "stream",
     "text": [
      "(50, 8)\n",
      "Mean:  93.72\n",
      "Standard Deviation:  35.441265007137126\n",
      "Min:  40\n",
      "Max:  163\n",
      "gender\n",
      "F    25\n",
      "M    25\n",
      "Name: gender, dtype: int64\n"
     ]
    }
   ],
   "source": [
    "## Gait Maturation Database 1.0.0\n",
    "file = 'gait_maturation.csv'\n",
    "df_gait_maturation = read_data(file)\n",
    "print(df_gait_maturation.shape)\n",
    "df_gait_maturation.head()\n",
    "# df_gait_maturation.info()\n",
    "gait_maturation_age = age_breakdown(df_gait_maturation, 'age-months')\n",
    "gait_maturation_gender = gender_breakdown(df_gait_maturation, 'gender')"
   ]
  },
  {
   "cell_type": "code",
   "execution_count": 68,
   "metadata": {},
   "outputs": [
    {
     "name": "stdout",
     "output_type": "stream",
     "text": [
      "(43, 7)\n",
      "Mean:  26.3953488372093\n",
      "Standard Deviation:  2.8713654863788527\n",
      "Min:  19\n",
      "Max:  34\n",
      "Sex\n",
      "F    20\n",
      "M    23\n",
      "Name: Sex, dtype: int64\n"
     ]
    }
   ],
   "source": [
    "## Gesture Recognition and Biometrics ElectroMyogram (GRABMyo) 1.0.2\n",
    "file = 'gesture-recognition.csv'\n",
    "df_grab_myo = read_data(file)\n",
    "print(df_grab_myo.shape)\n",
    "df_grab_myo.head()\n",
    "# df_grab_myo.info()\n",
    "grab_myo_age = age_breakdown(df_grab_myo, 'Age')\n",
    "grab_myo_gender = gender_breakdown(df_grab_myo, 'Sex')"
   ]
  },
  {
   "cell_type": "code",
   "execution_count": 70,
   "metadata": {},
   "outputs": [
    {
     "name": "stdout",
     "output_type": "stream",
     "text": [
      "(122, 18)\n",
      "Mean:  30.0\n",
      "Standard Deviation:  5.735203743850001\n",
      "Min:  19\n",
      "Max:  39\n"
     ]
    }
   ],
   "source": [
    "def read_data_txt(file, delimiter='\\t'):\n",
    "    data = pd.read_csv(file, delimiter=delimiter)\n",
    "    return data\n",
    "\n",
    "## Icelandic 16-electrode Electrohysterogram Database 1.0.0\n",
    "file = 'icelandic-16.txt'\n",
    "df_icelandic = read_data_txt(file)\n",
    "print(df_icelandic.shape)\n",
    "df_icelandic.head()\n",
    "# df_icelandic.info()\n",
    "icelandic_age = age_breakdown(df_icelandic, 'Age (years)')\n"
   ]
  },
  {
   "cell_type": "code",
   "execution_count": 74,
   "metadata": {},
   "outputs": [
    {
     "name": "stdout",
     "output_type": "stream",
     "text": [
      "(29, 9)\n",
      "Mean:  21.22222222222222\n",
      "Standard Deviation:  13.66447762331033\n",
      "Min:  15.0\n",
      "Max:  62.0\n",
      "Gender\n",
      "Female    17\n",
      "Male      12\n",
      "Name: Gender, dtype: int64\n",
      "(6, 7)\n",
      "Mean:  51.5\n",
      "Standard Deviation:  13.478377746103819\n",
      "Min:  33.0\n",
      "Max:  62.0\n",
      "Gender\n",
      "Female    4\n",
      "Male      2\n",
      "Name: Gender, dtype: int64\n"
     ]
    }
   ],
   "source": [
    "## In-Gauge and En-Gage: Understanding Occupants' Behaviour, Engagement, Emotion, and Comfort Indoors with Heterogeneous Sensors and Wearables 1.0.0\n",
    "file = 'student.csv'\n",
    "df_students = read_data(file)\n",
    "print(df_students.shape)\n",
    "df_students.head()\n",
    "# df_students.info()\n",
    "students_age = age_breakdown(df_students, 'Age')\n",
    "students_gender = gender_breakdown(df_students, 'Gender')\n",
    "\n",
    "file = 'teacher.csv'\n",
    "df_teacher = read_data(file)\n",
    "print(df_teacher.shape)\n",
    "df_teacher.head()\n",
    "# df_teacher.info()\n",
    "teacher_age = age_breakdown(df_teacher, 'Age')\n",
    "teacher_gender = gender_breakdown(df_teacher, 'Gender')"
   ]
  },
  {
   "cell_type": "code",
   "execution_count": 75,
   "metadata": {},
   "outputs": [
    {
     "name": "stdout",
     "output_type": "stream",
     "text": [
      "(32, 3)\n",
      "Mean:  73.25\n",
      "Standard Deviation:  7.666432909012319\n",
      "Min:  58\n",
      "Max:  81\n",
      "Sex\n",
      "F    12\n",
      "M    20\n",
      "Name: Sex, dtype: int64\n"
     ]
    }
   ],
   "source": [
    "## Intracardiac Atrial Fibrillation Database\n",
    "file = 'atrialfib.csv'\n",
    "df_atrial_fib = read_data(file)\n",
    "print(df_atrial_fib.shape)\n",
    "df_atrial_fib.head()\n",
    "# df_atrial_fib.info()\n",
    "atrial_fib_age = age_breakdown(df_atrial_fib, 'Age')\n",
    "atrial_fib_gender = gender_breakdown(df_atrial_fib, 'Sex')"
   ]
  },
  {
   "cell_type": "code",
   "execution_count": 78,
   "metadata": {},
   "outputs": [
    {
     "name": "stdout",
     "output_type": "stream",
     "text": [
      "(90, 10)\n"
     ]
    },
    {
     "ename": "TypeError",
     "evalue": "Could not convert 547138565546254832445543535657585832325523564725456774667476777665728168656469647071757071717875706570608148385138846663>896478807873778278646872727273788432747658397074658275827467 to numeric",
     "output_type": "error",
     "traceback": [
      "\u001b[0;31m---------------------------------------------------------------------------\u001b[0m",
      "\u001b[0;31mValueError\u001b[0m                                Traceback (most recent call last)",
      "File \u001b[0;32m/Library/Frameworks/Python.framework/Versions/3.11/lib/python3.11/site-packages/pandas/core/nanops.py:1692\u001b[0m, in \u001b[0;36m_ensure_numeric\u001b[0;34m(x)\u001b[0m\n\u001b[1;32m   1691\u001b[0m \u001b[39mtry\u001b[39;00m:\n\u001b[0;32m-> 1692\u001b[0m     x \u001b[39m=\u001b[39m \u001b[39mfloat\u001b[39m(x)\n\u001b[1;32m   1693\u001b[0m \u001b[39mexcept\u001b[39;00m (\u001b[39mTypeError\u001b[39;00m, \u001b[39mValueError\u001b[39;00m):\n\u001b[1;32m   1694\u001b[0m     \u001b[39m# e.g. \"1+1j\" or \"foo\"\u001b[39;00m\n",
      "\u001b[0;31mValueError\u001b[0m: could not convert string to float: '547138565546254832445543535657585832325523564725456774667476777665728168656469647071757071717875706570608148385138846663>896478807873778278646872727273788432747658397074658275827467'",
      "\nDuring handling of the above exception, another exception occurred:\n",
      "\u001b[0;31mValueError\u001b[0m                                Traceback (most recent call last)",
      "File \u001b[0;32m/Library/Frameworks/Python.framework/Versions/3.11/lib/python3.11/site-packages/pandas/core/nanops.py:1696\u001b[0m, in \u001b[0;36m_ensure_numeric\u001b[0;34m(x)\u001b[0m\n\u001b[1;32m   1695\u001b[0m \u001b[39mtry\u001b[39;00m:\n\u001b[0;32m-> 1696\u001b[0m     x \u001b[39m=\u001b[39m \u001b[39mcomplex\u001b[39;49m(x)\n\u001b[1;32m   1697\u001b[0m \u001b[39mexcept\u001b[39;00m \u001b[39mValueError\u001b[39;00m \u001b[39mas\u001b[39;00m err:\n\u001b[1;32m   1698\u001b[0m     \u001b[39m# e.g. \"foo\"\u001b[39;00m\n",
      "\u001b[0;31mValueError\u001b[0m: complex() arg is a malformed string",
      "\nThe above exception was the direct cause of the following exception:\n",
      "\u001b[0;31mTypeError\u001b[0m                                 Traceback (most recent call last)",
      "Cell \u001b[0;32mIn[78], line 7\u001b[0m\n\u001b[1;32m      5\u001b[0m df_kinecal\u001b[39m.\u001b[39mhead()\n\u001b[1;32m      6\u001b[0m \u001b[39m# df_kinecal.info()\u001b[39;00m\n\u001b[0;32m----> 7\u001b[0m kinecal_age \u001b[39m=\u001b[39m age_breakdown(df_kinecal, \u001b[39m'\u001b[39;49m\u001b[39mage\u001b[39;49m\u001b[39m'\u001b[39;49m)\n\u001b[1;32m      8\u001b[0m kinecal_gender \u001b[39m=\u001b[39m gender_breakdown(df_kinecal, \u001b[39m'\u001b[39m\u001b[39msex\u001b[39m\u001b[39m'\u001b[39m)\n",
      "Cell \u001b[0;32mIn[21], line 11\u001b[0m, in \u001b[0;36mage_breakdown\u001b[0;34m(data, column)\u001b[0m\n\u001b[1;32m     10\u001b[0m \u001b[39mdef\u001b[39;00m \u001b[39mage_breakdown\u001b[39m(data, column):\n\u001b[0;32m---> 11\u001b[0m     mean \u001b[39m=\u001b[39m data[column]\u001b[39m.\u001b[39;49mmean()\n\u001b[1;32m     12\u001b[0m     sd \u001b[39m=\u001b[39m data[column]\u001b[39m.\u001b[39mstd()\n\u001b[1;32m     13\u001b[0m     \u001b[39mmin\u001b[39m \u001b[39m=\u001b[39m data[column]\u001b[39m.\u001b[39mmin()\n",
      "File \u001b[0;32m/Library/Frameworks/Python.framework/Versions/3.11/lib/python3.11/site-packages/pandas/core/generic.py:11556\u001b[0m, in \u001b[0;36mNDFrame._add_numeric_operations.<locals>.mean\u001b[0;34m(self, axis, skipna, numeric_only, **kwargs)\u001b[0m\n\u001b[1;32m  11539\u001b[0m \u001b[39m@doc\u001b[39m(\n\u001b[1;32m  11540\u001b[0m     _num_doc,\n\u001b[1;32m  11541\u001b[0m     desc\u001b[39m=\u001b[39m\u001b[39m\"\u001b[39m\u001b[39mReturn the mean of the values over the requested axis.\u001b[39m\u001b[39m\"\u001b[39m,\n\u001b[0;32m   (...)\u001b[0m\n\u001b[1;32m  11554\u001b[0m     \u001b[39m*\u001b[39m\u001b[39m*\u001b[39mkwargs,\n\u001b[1;32m  11555\u001b[0m ):\n\u001b[0;32m> 11556\u001b[0m     \u001b[39mreturn\u001b[39;00m NDFrame\u001b[39m.\u001b[39;49mmean(\u001b[39mself\u001b[39;49m, axis, skipna, numeric_only, \u001b[39m*\u001b[39;49m\u001b[39m*\u001b[39;49mkwargs)\n",
      "File \u001b[0;32m/Library/Frameworks/Python.framework/Versions/3.11/lib/python3.11/site-packages/pandas/core/generic.py:11201\u001b[0m, in \u001b[0;36mNDFrame.mean\u001b[0;34m(self, axis, skipna, numeric_only, **kwargs)\u001b[0m\n\u001b[1;32m  11194\u001b[0m \u001b[39mdef\u001b[39;00m \u001b[39mmean\u001b[39m(\n\u001b[1;32m  11195\u001b[0m     \u001b[39mself\u001b[39m,\n\u001b[1;32m  11196\u001b[0m     axis: Axis \u001b[39m|\u001b[39m \u001b[39mNone\u001b[39;00m \u001b[39m=\u001b[39m \u001b[39m0\u001b[39m,\n\u001b[0;32m   (...)\u001b[0m\n\u001b[1;32m  11199\u001b[0m     \u001b[39m*\u001b[39m\u001b[39m*\u001b[39mkwargs,\n\u001b[1;32m  11200\u001b[0m ) \u001b[39m-\u001b[39m\u001b[39m>\u001b[39m Series \u001b[39m|\u001b[39m \u001b[39mfloat\u001b[39m:\n\u001b[0;32m> 11201\u001b[0m     \u001b[39mreturn\u001b[39;00m \u001b[39mself\u001b[39;49m\u001b[39m.\u001b[39;49m_stat_function(\n\u001b[1;32m  11202\u001b[0m         \u001b[39m\"\u001b[39;49m\u001b[39mmean\u001b[39;49m\u001b[39m\"\u001b[39;49m, nanops\u001b[39m.\u001b[39;49mnanmean, axis, skipna, numeric_only, \u001b[39m*\u001b[39;49m\u001b[39m*\u001b[39;49mkwargs\n\u001b[1;32m  11203\u001b[0m     )\n",
      "File \u001b[0;32m/Library/Frameworks/Python.framework/Versions/3.11/lib/python3.11/site-packages/pandas/core/generic.py:11158\u001b[0m, in \u001b[0;36mNDFrame._stat_function\u001b[0;34m(self, name, func, axis, skipna, numeric_only, **kwargs)\u001b[0m\n\u001b[1;32m  11154\u001b[0m     nv\u001b[39m.\u001b[39mvalidate_stat_func((), kwargs, fname\u001b[39m=\u001b[39mname)\n\u001b[1;32m  11156\u001b[0m validate_bool_kwarg(skipna, \u001b[39m\"\u001b[39m\u001b[39mskipna\u001b[39m\u001b[39m\"\u001b[39m, none_allowed\u001b[39m=\u001b[39m\u001b[39mFalse\u001b[39;00m)\n\u001b[0;32m> 11158\u001b[0m \u001b[39mreturn\u001b[39;00m \u001b[39mself\u001b[39;49m\u001b[39m.\u001b[39;49m_reduce(\n\u001b[1;32m  11159\u001b[0m     func, name\u001b[39m=\u001b[39;49mname, axis\u001b[39m=\u001b[39;49maxis, skipna\u001b[39m=\u001b[39;49mskipna, numeric_only\u001b[39m=\u001b[39;49mnumeric_only\n\u001b[1;32m  11160\u001b[0m )\n",
      "File \u001b[0;32m/Library/Frameworks/Python.framework/Versions/3.11/lib/python3.11/site-packages/pandas/core/series.py:4670\u001b[0m, in \u001b[0;36mSeries._reduce\u001b[0;34m(self, op, name, axis, skipna, numeric_only, filter_type, **kwds)\u001b[0m\n\u001b[1;32m   4665\u001b[0m     \u001b[39mraise\u001b[39;00m \u001b[39mTypeError\u001b[39;00m(\n\u001b[1;32m   4666\u001b[0m         \u001b[39mf\u001b[39m\u001b[39m\"\u001b[39m\u001b[39mSeries.\u001b[39m\u001b[39m{\u001b[39;00mname\u001b[39m}\u001b[39;00m\u001b[39m does not allow \u001b[39m\u001b[39m{\u001b[39;00mkwd_name\u001b[39m}\u001b[39;00m\u001b[39m=\u001b[39m\u001b[39m{\u001b[39;00mnumeric_only\u001b[39m}\u001b[39;00m\u001b[39m \u001b[39m\u001b[39m\"\u001b[39m\n\u001b[1;32m   4667\u001b[0m         \u001b[39m\"\u001b[39m\u001b[39mwith non-numeric dtypes.\u001b[39m\u001b[39m\"\u001b[39m\n\u001b[1;32m   4668\u001b[0m     )\n\u001b[1;32m   4669\u001b[0m \u001b[39mwith\u001b[39;00m np\u001b[39m.\u001b[39merrstate(\u001b[39mall\u001b[39m\u001b[39m=\u001b[39m\u001b[39m\"\u001b[39m\u001b[39mignore\u001b[39m\u001b[39m\"\u001b[39m):\n\u001b[0;32m-> 4670\u001b[0m     \u001b[39mreturn\u001b[39;00m op(delegate, skipna\u001b[39m=\u001b[39;49mskipna, \u001b[39m*\u001b[39;49m\u001b[39m*\u001b[39;49mkwds)\n",
      "File \u001b[0;32m/Library/Frameworks/Python.framework/Versions/3.11/lib/python3.11/site-packages/pandas/core/nanops.py:96\u001b[0m, in \u001b[0;36mdisallow.__call__.<locals>._f\u001b[0;34m(*args, **kwargs)\u001b[0m\n\u001b[1;32m     94\u001b[0m \u001b[39mtry\u001b[39;00m:\n\u001b[1;32m     95\u001b[0m     \u001b[39mwith\u001b[39;00m np\u001b[39m.\u001b[39merrstate(invalid\u001b[39m=\u001b[39m\u001b[39m\"\u001b[39m\u001b[39mignore\u001b[39m\u001b[39m\"\u001b[39m):\n\u001b[0;32m---> 96\u001b[0m         \u001b[39mreturn\u001b[39;00m f(\u001b[39m*\u001b[39;49margs, \u001b[39m*\u001b[39;49m\u001b[39m*\u001b[39;49mkwargs)\n\u001b[1;32m     97\u001b[0m \u001b[39mexcept\u001b[39;00m \u001b[39mValueError\u001b[39;00m \u001b[39mas\u001b[39;00m e:\n\u001b[1;32m     98\u001b[0m     \u001b[39m# we want to transform an object array\u001b[39;00m\n\u001b[1;32m     99\u001b[0m     \u001b[39m# ValueError message to the more typical TypeError\u001b[39;00m\n\u001b[1;32m    100\u001b[0m     \u001b[39m# e.g. this is normally a disallowed function on\u001b[39;00m\n\u001b[1;32m    101\u001b[0m     \u001b[39m# object arrays that contain strings\u001b[39;00m\n\u001b[1;32m    102\u001b[0m     \u001b[39mif\u001b[39;00m is_object_dtype(args[\u001b[39m0\u001b[39m]):\n",
      "File \u001b[0;32m/Library/Frameworks/Python.framework/Versions/3.11/lib/python3.11/site-packages/pandas/core/nanops.py:158\u001b[0m, in \u001b[0;36mbottleneck_switch.__call__.<locals>.f\u001b[0;34m(values, axis, skipna, **kwds)\u001b[0m\n\u001b[1;32m    156\u001b[0m         result \u001b[39m=\u001b[39m alt(values, axis\u001b[39m=\u001b[39maxis, skipna\u001b[39m=\u001b[39mskipna, \u001b[39m*\u001b[39m\u001b[39m*\u001b[39mkwds)\n\u001b[1;32m    157\u001b[0m \u001b[39melse\u001b[39;00m:\n\u001b[0;32m--> 158\u001b[0m     result \u001b[39m=\u001b[39m alt(values, axis\u001b[39m=\u001b[39;49maxis, skipna\u001b[39m=\u001b[39;49mskipna, \u001b[39m*\u001b[39;49m\u001b[39m*\u001b[39;49mkwds)\n\u001b[1;32m    160\u001b[0m \u001b[39mreturn\u001b[39;00m result\n",
      "File \u001b[0;32m/Library/Frameworks/Python.framework/Versions/3.11/lib/python3.11/site-packages/pandas/core/nanops.py:421\u001b[0m, in \u001b[0;36m_datetimelike_compat.<locals>.new_func\u001b[0;34m(values, axis, skipna, mask, **kwargs)\u001b[0m\n\u001b[1;32m    418\u001b[0m \u001b[39mif\u001b[39;00m datetimelike \u001b[39mand\u001b[39;00m mask \u001b[39mis\u001b[39;00m \u001b[39mNone\u001b[39;00m:\n\u001b[1;32m    419\u001b[0m     mask \u001b[39m=\u001b[39m isna(values)\n\u001b[0;32m--> 421\u001b[0m result \u001b[39m=\u001b[39m func(values, axis\u001b[39m=\u001b[39;49maxis, skipna\u001b[39m=\u001b[39;49mskipna, mask\u001b[39m=\u001b[39;49mmask, \u001b[39m*\u001b[39;49m\u001b[39m*\u001b[39;49mkwargs)\n\u001b[1;32m    423\u001b[0m \u001b[39mif\u001b[39;00m datetimelike:\n\u001b[1;32m    424\u001b[0m     result \u001b[39m=\u001b[39m _wrap_results(result, orig_values\u001b[39m.\u001b[39mdtype, fill_value\u001b[39m=\u001b[39miNaT)\n",
      "File \u001b[0;32m/Library/Frameworks/Python.framework/Versions/3.11/lib/python3.11/site-packages/pandas/core/nanops.py:727\u001b[0m, in \u001b[0;36mnanmean\u001b[0;34m(values, axis, skipna, mask)\u001b[0m\n\u001b[1;32m    724\u001b[0m     dtype_count \u001b[39m=\u001b[39m dtype\n\u001b[1;32m    726\u001b[0m count \u001b[39m=\u001b[39m _get_counts(values\u001b[39m.\u001b[39mshape, mask, axis, dtype\u001b[39m=\u001b[39mdtype_count)\n\u001b[0;32m--> 727\u001b[0m the_sum \u001b[39m=\u001b[39m _ensure_numeric(values\u001b[39m.\u001b[39;49msum(axis, dtype\u001b[39m=\u001b[39;49mdtype_sum))\n\u001b[1;32m    729\u001b[0m \u001b[39mif\u001b[39;00m axis \u001b[39mis\u001b[39;00m \u001b[39mnot\u001b[39;00m \u001b[39mNone\u001b[39;00m \u001b[39mand\u001b[39;00m \u001b[39mgetattr\u001b[39m(the_sum, \u001b[39m\"\u001b[39m\u001b[39mndim\u001b[39m\u001b[39m\"\u001b[39m, \u001b[39mFalse\u001b[39;00m):\n\u001b[1;32m    730\u001b[0m     count \u001b[39m=\u001b[39m cast(np\u001b[39m.\u001b[39mndarray, count)\n",
      "File \u001b[0;32m/Library/Frameworks/Python.framework/Versions/3.11/lib/python3.11/site-packages/pandas/core/nanops.py:1699\u001b[0m, in \u001b[0;36m_ensure_numeric\u001b[0;34m(x)\u001b[0m\n\u001b[1;32m   1696\u001b[0m             x \u001b[39m=\u001b[39m \u001b[39mcomplex\u001b[39m(x)\n\u001b[1;32m   1697\u001b[0m         \u001b[39mexcept\u001b[39;00m \u001b[39mValueError\u001b[39;00m \u001b[39mas\u001b[39;00m err:\n\u001b[1;32m   1698\u001b[0m             \u001b[39m# e.g. \"foo\"\u001b[39;00m\n\u001b[0;32m-> 1699\u001b[0m             \u001b[39mraise\u001b[39;00m \u001b[39mTypeError\u001b[39;00m(\u001b[39mf\u001b[39m\u001b[39m\"\u001b[39m\u001b[39mCould not convert \u001b[39m\u001b[39m{\u001b[39;00mx\u001b[39m}\u001b[39;00m\u001b[39m to numeric\u001b[39m\u001b[39m\"\u001b[39m) \u001b[39mfrom\u001b[39;00m \u001b[39merr\u001b[39;00m\n\u001b[1;32m   1700\u001b[0m \u001b[39mreturn\u001b[39;00m x\n",
      "\u001b[0;31mTypeError\u001b[0m: Could not convert 547138565546254832445543535657585832325523564725456774667476777665728168656469647071757071717875706570608148385138846663>896478807873778278646872727273788432747658397074658275827467 to numeric"
     ]
    }
   ],
   "source": [
    "## KINECAL 1.0.3\n",
    "file = 'kinecal.csv'\n",
    "df_kinecal = read_data(file)\n",
    "print(df_kinecal.shape)\n",
    "df_kinecal.head()\n",
    "# df_kinecal.info()\n",
    "kinecal_age = age_breakdown(df_kinecal, 'age')\n",
    "kinecal_gender = gender_breakdown(df_kinecal, 'sex')"
   ]
  },
  {
   "cell_type": "code",
   "execution_count": 79,
   "metadata": {},
   "outputs": [
    {
     "name": "stdout",
     "output_type": "stream",
     "text": [
      "(32, 7)\n",
      "Mean:  39.03125\n",
      "Standard Deviation:  8.985595551734722\n",
      "Min:  23\n",
      "Max:  54\n",
      "gender\n",
      "female    19\n",
      "male      13\n",
      "Name: gender, dtype: int64\n"
     ]
    }
   ],
   "source": [
    "## Labeled raw accelerometry data captured during walking, stair climbing and driving 1.0.0\n",
    "file = 'accelerometry.csv'\n",
    "df_accelerometry = read_data(file)\n",
    "print(df_accelerometry.shape)\n",
    "df_accelerometry.head()\n",
    "# df_accelerometry.info()\n",
    "accelerometry_age = age_breakdown(df_accelerometry, 'age')\n",
    "accelerometry_gender = gender_breakdown(df_accelerometry, 'gender')"
   ]
  },
  {
   "cell_type": "code",
   "execution_count": 81,
   "metadata": {},
   "outputs": [
    {
     "name": "stdout",
     "output_type": "stream",
     "text": [
      "(200, 12)\n",
      "Mean:  51.97\n",
      "Standard Deviation:  19.248679390842824\n",
      "Min:  11\n",
      "Max:  89\n",
      "Sex\n",
      "F\\n     85\n",
      "M\\n    115\n",
      "Name: Sex, dtype: int64\n"
     ]
    }
   ],
   "source": [
    "## Lobachevsky University Electrocardiography Database\n",
    "file = 'ludb.csv'\n",
    "df_ludb = read_data(file)\n",
    "print(df_ludb.shape)\n",
    "df_ludb.head()\n",
    "# df_ludb.info()\n",
    "ludb_age = age_breakdown(df_ludb, 'Age')\n",
    "ludb_gender = gender_breakdown(df_ludb, 'Sex')"
   ]
  },
  {
   "cell_type": "code",
   "execution_count": 82,
   "metadata": {},
   "outputs": [
    {
     "name": "stdout",
     "output_type": "stream",
     "text": [
      "(11, 3)\n",
      "Mean:  30.363636363636363\n",
      "Standard Deviation:  5.201398413363992\n",
      "Min:  24\n",
      "Max:  39\n",
      "Gender\n",
      "F    3\n",
      "M    8\n",
      "Name: Gender, dtype: int64\n"
     ]
    }
   ],
   "source": [
    "## MAMEM SSVEP Database 1.0.0\n",
    "file = 'mamen.csv'\n",
    "df_mamen = read_data(file)\n",
    "print(df_mamen.shape)\n",
    "df_mamen.head()\n",
    "# df_mamen.info()\n",
    "mamen_age = age_breakdown(df_mamen, 'Age')\n",
    "mamen_gender = gender_breakdown(df_mamen, 'Gender')"
   ]
  },
  {
   "cell_type": "code",
   "execution_count": null,
   "metadata": {},
   "outputs": [],
   "source": []
  },
  {
   "cell_type": "code",
   "execution_count": 84,
   "metadata": {},
   "outputs": [
    {
     "name": "stdout",
     "output_type": "stream",
     "text": [
      "(91, 18)\n",
      "Mean:  26.571428571428573\n",
      "Standard Deviation:  11.38238683926751\n",
      "Min:  16\n",
      "Max:  67\n",
      "Sex\n",
      "F    42\n",
      "M    48\n",
      "Name: Sex, dtype: int64\n"
     ]
    }
   ],
   "source": [
    "## MICRO Motion capture data from groups of participants standing still to auditory stimuli (2012)\n",
    "file = 'micro-motion.csv'\n",
    "df_micro_motion = read_data(file)\n",
    "print(df_micro_motion.shape)\n",
    "df_micro_motion.head()\n",
    "# df_micro_motion.info()\n",
    "micro_motion_age = age_breakdown(df_micro_motion, 'Age')\n",
    "micro_motion_gender = gender_breakdown(df_micro_motion, 'Sex')"
   ]
  },
  {
   "cell_type": "code",
   "execution_count": null,
   "metadata": {},
   "outputs": [],
   "source": [
    "## MIMIC Database 1.0.0\n",
    "# file = 'mimic-index.shtml'"
   ]
  },
  {
   "cell_type": "code",
   "execution_count": 88,
   "metadata": {},
   "outputs": [
    {
     "name": "stdout",
     "output_type": "stream",
     "text": [
      "(20, 5)\n",
      "Mean:  26.05\n",
      "Standard Deviation:  3.8178941564000546\n",
      "Min:  19\n",
      "Max:  33\n",
      "gender\n",
      "F     6\n",
      "M    14\n",
      "Name: gender, dtype: int64\n"
     ]
    }
   ],
   "source": [
    "## Modulation of Plantar Pressure and Muscle During Gait 1.0.0\n",
    "file = 'non-eeg-assessment.csv'\n",
    "df_non_eeg = read_data(file)\n",
    "print(df_non_eeg.shape)\n",
    "df_non_eeg.head()\n",
    "# df_mod_plantar.info()\n",
    "mod_plantar_age = age_breakdown(df_non_eeg, 'age')\n",
    "mod_plantar_gender = gender_breakdown(df_non_eeg, 'gender')\n"
   ]
  },
  {
   "cell_type": "code",
   "execution_count": 89,
   "metadata": {},
   "outputs": [
    {
     "name": "stdout",
     "output_type": "stream",
     "text": [
      "(36, 6)\n",
      "Mean:  33.888888888888886\n",
      "Standard Deviation:  16.099295064918266\n",
      "Min:  19\n",
      "Max:  70\n",
      "Gender\n",
      "F    19\n",
      "M    17\n",
      "Name: Gender, dtype: int64\n"
     ]
    }
   ],
   "source": [
    "## Pattern Analysis of Oxygen Saturation Variability 1.0.0\n",
    "file = 'oxygen-saturation.csv'\n",
    "df_oxygen_sat = read_data(file)\n",
    "print(df_oxygen_sat.shape)\n",
    "df_oxygen_sat.head()\n",
    "# df_oxygen_sat.info()\n",
    "oxygen_sat_age = age_breakdown(df_oxygen_sat, 'Age')\n",
    "oxygen_sat_gender = gender_breakdown(df_oxygen_sat, 'Gender')"
   ]
  },
  {
   "cell_type": "code",
   "execution_count": 91,
   "metadata": {},
   "outputs": [],
   "source": [
    "## Pressure, flow, and dynamic thoraco-abdominal circumferences data for adults breathing under CPAP therapy\n",
    "# file = 'cpap-info.csv'\n",
    "# df_cpap_info = read_data(file)\n",
    "# print(df_cpap_info.shape)\n",
    "# df_cpap_info.head()\n",
    "# # df_cpap_info.info()\n",
    "# cpap_info_age = age_breakdown(df_cpap_info, 'Age')\n",
    "# cpap_info_gender = gender_breakdown(df_cpap_info, 'Gender')\n",
    "# bad file type"
   ]
  },
  {
   "cell_type": "code",
   "execution_count": 93,
   "metadata": {},
   "outputs": [
    {
     "name": "stdout",
     "output_type": "stream",
     "text": [
      "(27, 3)\n",
      "Mean:  39.77777777777778\n",
      "Standard Deviation:  19.19401616156078\n",
      "Min:  18\n",
      "Max:  76\n",
      "sex\n",
      "F    14\n",
      "M    13\n",
      "Name: sex, dtype: int64\n"
     ]
    }
   ],
   "source": [
    "## Response to Valsalva Maneuver in Humans 1.0.0\n",
    "file = 'valsalva.csv'\n",
    "df_valsalva = read_data(file)\n",
    "print(df_valsalva.shape)\n",
    "df_valsalva.head()\n",
    "# df_valsalva.info()\n",
    "valsalva_age = age_breakdown(df_valsalva, 'age')\n",
    "valsalva_gender = gender_breakdown(df_valsalva, 'sex')"
   ]
  },
  {
   "cell_type": "code",
   "execution_count": 94,
   "metadata": {},
   "outputs": [
    {
     "name": "stdout",
     "output_type": "stream",
     "text": [
      "(147, 3)\n",
      "Mean:  5.713972789115646\n",
      "Standard Deviation:  10.567147822148838\n",
      "Min:  0.083\n",
      "Max:  55.0\n",
      "Gender\n",
      "F    67\n",
      "M    72\n",
      "Name: Gender, dtype: int64\n"
     ]
    }
   ],
   "source": [
    "## RR interval time series from healthy subjects 1.0.0\n",
    "file = 'rr-interval.csv'\n",
    "df_rr_interval = read_data(file)\n",
    "print(df_rr_interval.shape)\n",
    "df_rr_interval.head()\n",
    "# df_rr_interval.info()\n",
    "rr_interval_age = age_breakdown(df_rr_interval, 'Age (years)')\n",
    "rr_interval_gender = gender_breakdown(df_rr_interval, 'Gender')"
   ]
  },
  {
   "cell_type": "code",
   "execution_count": 95,
   "metadata": {},
   "outputs": [
    {
     "name": "stdout",
     "output_type": "stream",
     "text": [
      "(16, 52)\n",
      "Mean:  62.785714285714285\n",
      "Standard Deviation:  7.4851501339300155\n",
      "Min:  50.0\n",
      "Max:  79.0\n",
      "Gender\n",
      "1.0    9\n",
      "2.0    5\n",
      "Name: Gender, dtype: int64\n"
     ]
    }
   ],
   "source": [
    "## Safety and Preliminary Efficacy of Intranasal Insulin for Cognitive Impairment in Parkinson Disease and Multiple System Atrophy 1.0\n",
    "file = 'PD-Table1.csv'\n",
    "df_pd_table1 = read_data(file)\n",
    "print(df_pd_table1.shape)\n",
    "df_pd_table1.head()\n",
    "# df_pd_table1.info()\n",
    "pd_table1_age = age_breakdown(df_pd_table1, 'Age')\n",
    "pd_table1_gender = gender_breakdown(df_pd_table1, 'Gender')"
   ]
  },
  {
   "cell_type": "code",
   "execution_count": 98,
   "metadata": {},
   "outputs": [
    {
     "name": "stdout",
     "output_type": "stream",
     "text": [
      "(14, 9)\n",
      "Mean:  43.5\n",
      "Standard Deviation:  14.20590343159112\n",
      "Min:  20\n",
      "Max:  71\n",
      " gender\n",
      "Female    6\n",
      "Male      8\n",
      "Name:  gender, dtype: int64\n"
     ]
    }
   ],
   "source": [
    "## Siena Scalp EEG Database 1.0.0\n",
    "file = 'siena-scalp.csv'\n",
    "df_siena_scalp = read_data(file)\n",
    "print(df_siena_scalp.shape)\n",
    "df_siena_scalp.head()\n",
    "# df_siena_scalp.info()\n",
    "siena_scalp_age = age_breakdown(df_siena_scalp, ' age')\n",
    "siena_scalp_gender = gender_breakdown(df_siena_scalp, ' gender')"
   ]
  },
  {
   "cell_type": "code",
   "execution_count": 103,
   "metadata": {},
   "outputs": [
    {
     "name": "stdout",
     "output_type": "stream",
     "text": [
      "(31, 6)\n",
      "Mean:  24.2\n",
      "Standard Deviation:  1.8643663987975962\n",
      "Min:  21.0\n",
      "Max:  29.0\n",
      "Gender\n",
      "F    19\n",
      "M    12\n",
      "Name: Gender, dtype: int64\n"
     ]
    }
   ],
   "source": [
    "## Surface electromyographic signals collected during long-lasting ground walking of young able-bodied subjects 1.0.1\n",
    "file = 'surface-electromyo.csv'\n",
    "df_surface_electromyo = pd.read_csv(file, delimiter=';')\n",
    "print(df_surface_electromyo.shape)\n",
    "df_surface_electromyo.head()\n",
    "# df_surface_electromyo.info()\n",
    "surface_electromyo_age = age_breakdown(df_surface_electromyo, 'Age')\n",
    "surface_electromayo_gender = gender_breakdown(df_surface_electromyo, 'Gender')"
   ]
  },
  {
   "cell_type": "code",
   "execution_count": 106,
   "metadata": {},
   "outputs": [
    {
     "name": "stdout",
     "output_type": "stream",
     "text": [
      "(196, 22)\n",
      "Mean:  63.747126436781606\n",
      "Standard Deviation:  7.6283107807396515\n",
      "Min:  50\n",
      "Max:  78\n",
      "Gender\n",
      "F    54\n",
      "M    33\n",
      "Name: Gender, dtype: int64\n"
     ]
    }
   ],
   "source": [
    "## Tai Chi, Physiological Complexity, and Healthy Aging - Gait 1.0.2\n",
    "file = 'TCPCHA_Subjects.csv'\n",
    "df_tcpcha = read_data(file)\n",
    "print(df_tcpcha.shape)\n",
    "df_tcpcha.head()\n",
    "# drop duplicate 'Subj ID\n",
    "df_tcpcha = df_tcpcha.drop_duplicates(subset='Subj ID')\n",
    "# df_tcpcha.info()\n",
    "tcpcha_age = age_breakdown(df_tcpcha, 'Age')\n",
    "tcpcha_gender = gender_breakdown(df_tcpcha, 'Gender')"
   ]
  },
  {
   "cell_type": "code",
   "execution_count": 107,
   "metadata": {},
   "outputs": [
    {
     "name": "stdout",
     "output_type": "stream",
     "text": [
      "(992, 8)\n",
      "Mean:  28.979133064516127\n",
      "Standard Deviation:  10.076652639151883\n",
      "Min:  10.8\n",
      "Max:  63.0\n",
      "Sex\n",
      "0    843\n",
      "1    149\n",
      "Name: Sex, dtype: int64\n"
     ]
    }
   ],
   "source": [
    "## Treadmill Maximal Exercise Tests from the Exercise Physiology and Human Performance Lab of the University of Malaga 1.0.1\n",
    "file = 'treadmillmax.csv'\n",
    "df_treadmillmax = read_data(file)\n",
    "print(df_treadmillmax.shape)\n",
    "df_treadmillmax.head()\n",
    "# df_treadmillmax.info()\n",
    "treadmillmax_age = age_breakdown(df_treadmillmax, 'Age')\n",
    "treadmillmax_gender = gender_breakdown(df_treadmillmax, 'Sex')"
   ]
  },
  {
   "cell_type": "code",
   "execution_count": 108,
   "metadata": {},
   "outputs": [
    {
     "name": "stdout",
     "output_type": "stream",
     "text": [
      "(133, 15)\n",
      "Mean:  25.804511278195488\n",
      "Standard Deviation:  6.366887168896803\n",
      "Min:  15\n",
      "Max:  43\n"
     ]
    }
   ],
   "source": [
    "## Visceral adipose tissue measurements during pregnancy 1.0.0\n",
    "file = 'visceral_fat.csv'\n",
    "df_visceral_fat = read_data(file)\n",
    "print(df_visceral_fat.shape)\n",
    "df_visceral_fat.head()\n",
    "# df_visceral_fat.info()\n",
    "visceral_fat_age = age_breakdown(df_visceral_fat, 'age (years)')\n"
   ]
  },
  {
   "cell_type": "code",
   "execution_count": 110,
   "metadata": {},
   "outputs": [
    {
     "name": "stdout",
     "output_type": "stream",
     "text": [
      "(6388, 74)\n",
      "sex\n",
      "F    3145\n",
      "M    3243\n",
      "Name: sex, dtype: int64\n"
     ]
    }
   ],
   "source": [
    "## VitalDB, a high-fidelity multi-parameter vital signs database in surgical patients 1.0.0\n",
    "file = 'vitaldb.csv'\n",
    "df_vitaldb = read_data(file)\n",
    "print(df_vitaldb.shape)\n",
    "df_vitaldb.head()\n",
    "# df_vitaldb.info()\n",
    "# vitaldb_age = age_breakdown(df_vitaldb, 'age') # malformed string from csv\n",
    "vitaldb_gender = gender_breakdown(df_vitaldb, 'sex')"
   ]
  },
  {
   "cell_type": "code",
   "execution_count": 114,
   "metadata": {},
   "outputs": [
    {
     "name": "stdout",
     "output_type": "stream",
     "text": [
      "(80, 43)\n",
      "Mean:  72.65\n",
      "Standard Deviation:  5.224334492169883\n",
      "Min:  65\n",
      "Max:  87\n",
      "Gender\n",
      "0    52\n",
      "1    28\n",
      "Name: Gender, dtype: int64\n"
     ]
    }
   ],
   "source": [
    "## Wearable-based signals during physical exercises from patients with frailty after open-heart surgery 1.0.0\n",
    "file = 'wearable-frailty.csv'\n",
    "df_wearable_frailty = read_data(file)\n",
    "print(df_wearable_frailty.shape)\n",
    "df_wearable_frailty.head()\n",
    "# df_wearable_frailty.info()\n",
    "wearable_frailty_age = age_breakdown(df_wearable_frailty, 'Age')\n",
    "wearable_frailty_gender = gender_breakdown(df_wearable_frailty, 'Gender')"
   ]
  },
  {
   "cell_type": "code",
   "execution_count": 23,
   "metadata": {},
   "outputs": [
    {
     "name": "stdout",
     "output_type": "stream",
     "text": [
      "(21799, 28)\n"
     ]
    }
   ],
   "source": [
    "# PTB XL - A large publicly available electrocardiography dataset 1.0.0\n",
    "\n",
    "file = 'ptbxl_database.csv'\n",
    "df_ptb_xl = read_data(file)\n",
    "print(df_ptb_xl.shape)\n",
    "df_ptb_xl.head()\n",
    "df_ptb_unique = df_ptb_xl.groupby(df_ptb_xl['patient_id'])\n",
    "# print(df_ptb_unique)\n",
    "# wearable_frailty_age = age_breakdown(df_wearable_frailty, 'Age')\n",
    "# wearable_frailty_gender = gender_breakdown(df_wearable_frailty, 'Gender')\n",
    "# print(df_ptb_unique[df_ptb_unique['age'] == 300])"
   ]
  }
 ],
 "metadata": {
  "kernelspec": {
   "display_name": "Python 3",
   "language": "python",
   "name": "python3"
  },
  "language_info": {
   "codemirror_mode": {
    "name": "ipython",
    "version": 3
   },
   "file_extension": ".py",
   "mimetype": "text/x-python",
   "name": "python",
   "nbconvert_exporter": "python",
   "pygments_lexer": "ipython3",
   "version": "3.11.4"
  },
  "orig_nbformat": 4
 },
 "nbformat": 4,
 "nbformat_minor": 2
}
