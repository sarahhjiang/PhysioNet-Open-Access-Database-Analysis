{
 "cells": [
  {
   "cell_type": "code",
   "execution_count": 43,
   "metadata": {},
   "outputs": [],
   "source": [
    "import seaborn as sns\n",
    "import pandas as pd\n",
    "import matplotlib.pyplot as plt\n",
    "import numpy as np"
   ]
  },
  {
   "cell_type": "code",
   "execution_count": 44,
   "metadata": {},
   "outputs": [
    {
     "name": "stdout",
     "output_type": "stream",
     "text": [
      "(175, 22)\n"
     ]
    },
    {
     "data": {
      "text/html": [
       "<div>\n",
       "<style scoped>\n",
       "    .dataframe tbody tr th:only-of-type {\n",
       "        vertical-align: middle;\n",
       "    }\n",
       "\n",
       "    .dataframe tbody tr th {\n",
       "        vertical-align: top;\n",
       "    }\n",
       "\n",
       "    .dataframe thead th {\n",
       "        text-align: right;\n",
       "    }\n",
       "</style>\n",
       "<table border=\"1\" class=\"dataframe\">\n",
       "  <thead>\n",
       "    <tr style=\"text-align: right;\">\n",
       "      <th></th>\n",
       "      <th>Study Name/Number</th>\n",
       "      <th>Race</th>\n",
       "      <th>Present</th>\n",
       "      <th>Ethnicity</th>\n",
       "      <th>Present.1</th>\n",
       "      <th>Study sample size</th>\n",
       "      <th>Male</th>\n",
       "      <th>Female</th>\n",
       "      <th>Total N</th>\n",
       "      <th>Gender/Sex</th>\n",
       "      <th>...</th>\n",
       "      <th>Present.3</th>\n",
       "      <th>Country/Region</th>\n",
       "      <th>Location</th>\n",
       "      <th>Pre-existing conditions and/or Symptoms</th>\n",
       "      <th>Instruments used</th>\n",
       "      <th>Socioeconomic Status</th>\n",
       "      <th>Data Collected (differnent levels of)</th>\n",
       "      <th>Date of Study was Conducted/Published</th>\n",
       "      <th>Date of Study Posted on PhysioNet</th>\n",
       "      <th>Unnamed: 21</th>\n",
       "    </tr>\n",
       "  </thead>\n",
       "  <tbody>\n",
       "    <tr>\n",
       "      <th>0</th>\n",
       "      <td>Abdominal and Direct Fetal ECG Database: Multi...</td>\n",
       "      <td>X</td>\n",
       "      <td>0</td>\n",
       "      <td>X</td>\n",
       "      <td>0</td>\n",
       "      <td>5 women in labor were analyzed</td>\n",
       "      <td>X</td>\n",
       "      <td>X</td>\n",
       "      <td>X</td>\n",
       "      <td>Unknown (collected from fetal heartbeats of pr...</td>\n",
       "      <td>...</td>\n",
       "      <td>1</td>\n",
       "      <td>Poland</td>\n",
       "      <td>Department of Obstetrics at the Medical Univer...</td>\n",
       "      <td>Women in labor</td>\n",
       "      <td>KOMPOREL System (ITAM Institute, Zabrze, Polan...</td>\n",
       "      <td>X</td>\n",
       "      <td>NaN</td>\n",
       "      <td>NaN</td>\n",
       "      <td>NaN</td>\n",
       "      <td>NaN</td>\n",
       "    </tr>\n",
       "    <tr>\n",
       "      <th>1</th>\n",
       "      <td>AF Termination Challenge Database: ECG recordi...</td>\n",
       "      <td>X</td>\n",
       "      <td>0</td>\n",
       "      <td>X</td>\n",
       "      <td>0</td>\n",
       "      <td>Three groups in Learning Set: 1.  Group N (non...</td>\n",
       "      <td>X</td>\n",
       "      <td>X</td>\n",
       "      <td>X</td>\n",
       "      <td>X</td>\n",
       "      <td>...</td>\n",
       "      <td>0</td>\n",
       "      <td>USA</td>\n",
       "      <td>X</td>\n",
       "      <td>X</td>\n",
       "      <td>Not listed; two ECG signals used</td>\n",
       "      <td>X</td>\n",
       "      <td>NaN</td>\n",
       "      <td>NaN</td>\n",
       "      <td>NaN</td>\n",
       "      <td>NaN</td>\n",
       "    </tr>\n",
       "    <tr>\n",
       "      <th>2</th>\n",
       "      <td>AHA Database Sample Excluded Record: Two ECG s...</td>\n",
       "      <td>X</td>\n",
       "      <td>0</td>\n",
       "      <td>X</td>\n",
       "      <td>0</td>\n",
       "      <td>80 recordings (10 for each existing condition)...</td>\n",
       "      <td>X</td>\n",
       "      <td>X</td>\n",
       "      <td>X</td>\n",
       "      <td>X</td>\n",
       "      <td>...</td>\n",
       "      <td>0</td>\n",
       "      <td>USA</td>\n",
       "      <td>Washington University (St. Louis)</td>\n",
       "      <td>No ventricular ectopy, isolated unifocal PVCs,...</td>\n",
       "      <td>Not listed; two ECG signals used</td>\n",
       "      <td>X</td>\n",
       "      <td>NaN</td>\n",
       "      <td>NaN</td>\n",
       "      <td>NaN</td>\n",
       "      <td>NaN</td>\n",
       "    </tr>\n",
       "    <tr>\n",
       "      <th>3</th>\n",
       "      <td>A large scale 12-lead electrocardiogram databa...</td>\n",
       "      <td>X</td>\n",
       "      <td>0</td>\n",
       "      <td>X</td>\n",
       "      <td>0</td>\n",
       "      <td>45, 152 patients</td>\n",
       "      <td>X</td>\n",
       "      <td>X</td>\n",
       "      <td>X</td>\n",
       "      <td>Male and Female</td>\n",
       "      <td>...</td>\n",
       "      <td>1</td>\n",
       "      <td>China</td>\n",
       "      <td>Chapman University, Shaoxing People's Hospital...</td>\n",
       "      <td>Includes information about pre-existing condit...</td>\n",
       "      <td>GE MUSE ECG System</td>\n",
       "      <td>X</td>\n",
       "      <td>NaN</td>\n",
       "      <td>NaN</td>\n",
       "      <td>NaN</td>\n",
       "      <td>NaN</td>\n",
       "    </tr>\n",
       "    <tr>\n",
       "      <th>4</th>\n",
       "      <td>A multi-camera and multimodal dataset for post...</td>\n",
       "      <td>X</td>\n",
       "      <td>0</td>\n",
       "      <td>X</td>\n",
       "      <td>0</td>\n",
       "      <td>14</td>\n",
       "      <td>10</td>\n",
       "      <td>4</td>\n",
       "      <td>14</td>\n",
       "      <td>10 males; 4 females</td>\n",
       "      <td>...</td>\n",
       "      <td>1</td>\n",
       "      <td>Portugal</td>\n",
       "      <td>Portugal (University of Minho)</td>\n",
       "      <td>No clinical history of any abnormalities</td>\n",
       "      <td>MVN BIOMECH</td>\n",
       "      <td>X</td>\n",
       "      <td>walking straight in a corridor, turning right ...</td>\n",
       "      <td>NaN</td>\n",
       "      <td>NaN</td>\n",
       "      <td>NaN</td>\n",
       "    </tr>\n",
       "  </tbody>\n",
       "</table>\n",
       "<p>5 rows × 22 columns</p>\n",
       "</div>"
      ],
      "text/plain": [
       "                                   Study Name/Number Race  Present Ethnicity  \\\n",
       "0  Abdominal and Direct Fetal ECG Database: Multi...    X        0         X   \n",
       "1  AF Termination Challenge Database: ECG recordi...    X        0         X   \n",
       "2  AHA Database Sample Excluded Record: Two ECG s...    X        0         X   \n",
       "3  A large scale 12-lead electrocardiogram databa...    X        0         X   \n",
       "4  A multi-camera and multimodal dataset for post...    X        0         X   \n",
       "\n",
       "   Present.1                                  Study sample size Male Female  \\\n",
       "0          0                     5 women in labor were analyzed    X      X   \n",
       "1          0  Three groups in Learning Set: 1.  Group N (non...    X      X   \n",
       "2          0  80 recordings (10 for each existing condition)...    X      X   \n",
       "3          0                                   45, 152 patients    X      X   \n",
       "4          0                                                 14   10      4   \n",
       "\n",
       "  Total N                                         Gender/Sex  ...  Present.3  \\\n",
       "0       X  Unknown (collected from fetal heartbeats of pr...  ...          1   \n",
       "1       X                                                  X  ...          0   \n",
       "2       X                                                  X  ...          0   \n",
       "3       X                                    Male and Female  ...          1   \n",
       "4      14                                10 males; 4 females  ...          1   \n",
       "\n",
       "  Country/Region                                          Location   \\\n",
       "0         Poland  Department of Obstetrics at the Medical Univer...   \n",
       "1            USA                                                  X   \n",
       "2            USA                  Washington University (St. Louis)   \n",
       "3          China  Chapman University, Shaoxing People's Hospital...   \n",
       "4       Portugal                     Portugal (University of Minho)   \n",
       "\n",
       "             Pre-existing conditions and/or Symptoms  \\\n",
       "0                                     Women in labor   \n",
       "1                                                  X   \n",
       "2  No ventricular ectopy, isolated unifocal PVCs,...   \n",
       "3  Includes information about pre-existing condit...   \n",
       "4           No clinical history of any abnormalities   \n",
       "\n",
       "                                    Instruments used Socioeconomic Status  \\\n",
       "0  KOMPOREL System (ITAM Institute, Zabrze, Polan...                    X   \n",
       "1                   Not listed; two ECG signals used                    X   \n",
       "2                   Not listed; two ECG signals used                    X   \n",
       "3                                 GE MUSE ECG System                    X   \n",
       "4                                        MVN BIOMECH                    X   \n",
       "\n",
       "               Data Collected (differnent levels of)  \\\n",
       "0                                                NaN   \n",
       "1                                                NaN   \n",
       "2                                                NaN   \n",
       "3                                                NaN   \n",
       "4  walking straight in a corridor, turning right ...   \n",
       "\n",
       "  Date of Study was Conducted/Published Date of Study Posted on PhysioNet  \\\n",
       "0                                   NaN                               NaN   \n",
       "1                                   NaN                               NaN   \n",
       "2                                   NaN                               NaN   \n",
       "3                                   NaN                               NaN   \n",
       "4                                   NaN                               NaN   \n",
       "\n",
       "   Unnamed: 21  \n",
       "0          NaN  \n",
       "1          NaN  \n",
       "2          NaN  \n",
       "3          NaN  \n",
       "4          NaN  \n",
       "\n",
       "[5 rows x 22 columns]"
      ]
     },
     "execution_count": 44,
     "metadata": {},
     "output_type": "execute_result"
    }
   ],
   "source": [
    "participant_data = pd.read_csv(\"Demographics Information - Human Participants.csv\")\n",
    "print(participant_data.shape)\n",
    "participant_data.head()"
   ]
  },
  {
   "cell_type": "code",
   "execution_count": 45,
   "metadata": {},
   "outputs": [
    {
     "data": {
      "text/html": [
       "<div>\n",
       "<style scoped>\n",
       "    .dataframe tbody tr th:only-of-type {\n",
       "        vertical-align: middle;\n",
       "    }\n",
       "\n",
       "    .dataframe tbody tr th {\n",
       "        vertical-align: top;\n",
       "    }\n",
       "\n",
       "    .dataframe thead th {\n",
       "        text-align: right;\n",
       "    }\n",
       "</style>\n",
       "<table border=\"1\" class=\"dataframe\">\n",
       "  <thead>\n",
       "    <tr style=\"text-align: right;\">\n",
       "      <th></th>\n",
       "      <th>Study Name/Number</th>\n",
       "      <th>Race</th>\n",
       "      <th>Ethnicity</th>\n",
       "      <th>Present.1</th>\n",
       "      <th>Study sample size</th>\n",
       "      <th>Male</th>\n",
       "      <th>Female</th>\n",
       "      <th>Total N</th>\n",
       "      <th>Gender/Sex</th>\n",
       "      <th>Present.2</th>\n",
       "      <th>...</th>\n",
       "      <th>Present.3</th>\n",
       "      <th>Country/Region</th>\n",
       "      <th>Location</th>\n",
       "      <th>Pre-existing conditions and/or Symptoms</th>\n",
       "      <th>Instruments used</th>\n",
       "      <th>Socioeconomic Status</th>\n",
       "      <th>Data Collected (differnent levels of)</th>\n",
       "      <th>Date of Study was Conducted/Published</th>\n",
       "      <th>Date of Study Posted on PhysioNet</th>\n",
       "      <th>Unnamed: 21</th>\n",
       "    </tr>\n",
       "    <tr>\n",
       "      <th>Present</th>\n",
       "      <th></th>\n",
       "      <th></th>\n",
       "      <th></th>\n",
       "      <th></th>\n",
       "      <th></th>\n",
       "      <th></th>\n",
       "      <th></th>\n",
       "      <th></th>\n",
       "      <th></th>\n",
       "      <th></th>\n",
       "      <th></th>\n",
       "      <th></th>\n",
       "      <th></th>\n",
       "      <th></th>\n",
       "      <th></th>\n",
       "      <th></th>\n",
       "      <th></th>\n",
       "      <th></th>\n",
       "      <th></th>\n",
       "      <th></th>\n",
       "      <th></th>\n",
       "    </tr>\n",
       "  </thead>\n",
       "  <tbody>\n",
       "    <tr>\n",
       "      <th>0</th>\n",
       "      <td>165</td>\n",
       "      <td>165</td>\n",
       "      <td>165</td>\n",
       "      <td>165</td>\n",
       "      <td>165</td>\n",
       "      <td>165</td>\n",
       "      <td>165</td>\n",
       "      <td>165</td>\n",
       "      <td>165</td>\n",
       "      <td>165</td>\n",
       "      <td>...</td>\n",
       "      <td>165</td>\n",
       "      <td>165</td>\n",
       "      <td>153</td>\n",
       "      <td>139</td>\n",
       "      <td>135</td>\n",
       "      <td>148</td>\n",
       "      <td>127</td>\n",
       "      <td>0</td>\n",
       "      <td>23</td>\n",
       "      <td>1</td>\n",
       "    </tr>\n",
       "    <tr>\n",
       "      <th>1</th>\n",
       "      <td>10</td>\n",
       "      <td>10</td>\n",
       "      <td>10</td>\n",
       "      <td>10</td>\n",
       "      <td>10</td>\n",
       "      <td>10</td>\n",
       "      <td>10</td>\n",
       "      <td>10</td>\n",
       "      <td>10</td>\n",
       "      <td>10</td>\n",
       "      <td>...</td>\n",
       "      <td>10</td>\n",
       "      <td>10</td>\n",
       "      <td>10</td>\n",
       "      <td>6</td>\n",
       "      <td>7</td>\n",
       "      <td>8</td>\n",
       "      <td>9</td>\n",
       "      <td>0</td>\n",
       "      <td>0</td>\n",
       "      <td>0</td>\n",
       "    </tr>\n",
       "  </tbody>\n",
       "</table>\n",
       "<p>2 rows × 21 columns</p>\n",
       "</div>"
      ],
      "text/plain": [
       "         Study Name/Number  Race  Ethnicity  Present.1  Study sample size  \\\n",
       "Present                                                                     \n",
       "0                      165   165        165        165                165   \n",
       "1                       10    10         10         10                 10   \n",
       "\n",
       "         Male  Female  Total N  Gender/Sex  Present.2  ...  Present.3  \\\n",
       "Present                                                ...              \n",
       "0         165     165      165         165        165  ...        165   \n",
       "1          10      10       10          10         10  ...         10   \n",
       "\n",
       "         Country/Region  Location   Pre-existing conditions and/or Symptoms  \\\n",
       "Present                                                                       \n",
       "0                   165        153                                      139   \n",
       "1                    10         10                                        6   \n",
       "\n",
       "         Instruments used  Socioeconomic Status  \\\n",
       "Present                                           \n",
       "0                     135                   148   \n",
       "1                       7                     8   \n",
       "\n",
       "         Data Collected (differnent levels of)  \\\n",
       "Present                                          \n",
       "0                                          127   \n",
       "1                                            9   \n",
       "\n",
       "         Date of Study was Conducted/Published  \\\n",
       "Present                                          \n",
       "0                                            0   \n",
       "1                                            0   \n",
       "\n",
       "         Date of Study Posted on PhysioNet  Unnamed: 21  \n",
       "Present                                                  \n",
       "0                                       23            1  \n",
       "1                                        0            0  \n",
       "\n",
       "[2 rows x 21 columns]"
      ]
     },
     "execution_count": 45,
     "metadata": {},
     "output_type": "execute_result"
    }
   ],
   "source": [
    "participant_data.groupby(\"Present\").count() # counts for race reporting"
   ]
  },
  {
   "cell_type": "code",
   "execution_count": 46,
   "metadata": {},
   "outputs": [
    {
     "data": {
      "text/html": [
       "<div>\n",
       "<style scoped>\n",
       "    .dataframe tbody tr th:only-of-type {\n",
       "        vertical-align: middle;\n",
       "    }\n",
       "\n",
       "    .dataframe tbody tr th {\n",
       "        vertical-align: top;\n",
       "    }\n",
       "\n",
       "    .dataframe thead th {\n",
       "        text-align: right;\n",
       "    }\n",
       "</style>\n",
       "<table border=\"1\" class=\"dataframe\">\n",
       "  <thead>\n",
       "    <tr style=\"text-align: right;\">\n",
       "      <th></th>\n",
       "      <th>Study Name/Number</th>\n",
       "      <th>Race</th>\n",
       "      <th>Present</th>\n",
       "      <th>Ethnicity</th>\n",
       "      <th>Study sample size</th>\n",
       "      <th>Male</th>\n",
       "      <th>Female</th>\n",
       "      <th>Total N</th>\n",
       "      <th>Gender/Sex</th>\n",
       "      <th>Present.2</th>\n",
       "      <th>...</th>\n",
       "      <th>Present.3</th>\n",
       "      <th>Country/Region</th>\n",
       "      <th>Location</th>\n",
       "      <th>Pre-existing conditions and/or Symptoms</th>\n",
       "      <th>Instruments used</th>\n",
       "      <th>Socioeconomic Status</th>\n",
       "      <th>Data Collected (differnent levels of)</th>\n",
       "      <th>Date of Study was Conducted/Published</th>\n",
       "      <th>Date of Study Posted on PhysioNet</th>\n",
       "      <th>Unnamed: 21</th>\n",
       "    </tr>\n",
       "    <tr>\n",
       "      <th>Present.1</th>\n",
       "      <th></th>\n",
       "      <th></th>\n",
       "      <th></th>\n",
       "      <th></th>\n",
       "      <th></th>\n",
       "      <th></th>\n",
       "      <th></th>\n",
       "      <th></th>\n",
       "      <th></th>\n",
       "      <th></th>\n",
       "      <th></th>\n",
       "      <th></th>\n",
       "      <th></th>\n",
       "      <th></th>\n",
       "      <th></th>\n",
       "      <th></th>\n",
       "      <th></th>\n",
       "      <th></th>\n",
       "      <th></th>\n",
       "      <th></th>\n",
       "      <th></th>\n",
       "    </tr>\n",
       "  </thead>\n",
       "  <tbody>\n",
       "    <tr>\n",
       "      <th>0</th>\n",
       "      <td>169</td>\n",
       "      <td>169</td>\n",
       "      <td>169</td>\n",
       "      <td>169</td>\n",
       "      <td>169</td>\n",
       "      <td>169</td>\n",
       "      <td>169</td>\n",
       "      <td>169</td>\n",
       "      <td>169</td>\n",
       "      <td>169</td>\n",
       "      <td>...</td>\n",
       "      <td>169</td>\n",
       "      <td>169</td>\n",
       "      <td>157</td>\n",
       "      <td>140</td>\n",
       "      <td>137</td>\n",
       "      <td>150</td>\n",
       "      <td>131</td>\n",
       "      <td>0</td>\n",
       "      <td>23</td>\n",
       "      <td>1</td>\n",
       "    </tr>\n",
       "    <tr>\n",
       "      <th>1</th>\n",
       "      <td>6</td>\n",
       "      <td>6</td>\n",
       "      <td>6</td>\n",
       "      <td>6</td>\n",
       "      <td>6</td>\n",
       "      <td>6</td>\n",
       "      <td>6</td>\n",
       "      <td>6</td>\n",
       "      <td>6</td>\n",
       "      <td>6</td>\n",
       "      <td>...</td>\n",
       "      <td>6</td>\n",
       "      <td>6</td>\n",
       "      <td>6</td>\n",
       "      <td>5</td>\n",
       "      <td>5</td>\n",
       "      <td>6</td>\n",
       "      <td>5</td>\n",
       "      <td>0</td>\n",
       "      <td>0</td>\n",
       "      <td>0</td>\n",
       "    </tr>\n",
       "  </tbody>\n",
       "</table>\n",
       "<p>2 rows × 21 columns</p>\n",
       "</div>"
      ],
      "text/plain": [
       "           Study Name/Number  Race  Present  Ethnicity  Study sample size  \\\n",
       "Present.1                                                                   \n",
       "0                        169   169      169        169                169   \n",
       "1                          6     6        6          6                  6   \n",
       "\n",
       "           Male  Female  Total N  Gender/Sex  Present.2  ...  Present.3  \\\n",
       "Present.1                                                ...              \n",
       "0           169     169      169         169        169  ...        169   \n",
       "1             6       6        6           6          6  ...          6   \n",
       "\n",
       "           Country/Region  Location   Pre-existing conditions and/or Symptoms  \\\n",
       "Present.1                                                                       \n",
       "0                     169        157                                      140   \n",
       "1                       6          6                                        5   \n",
       "\n",
       "           Instruments used  Socioeconomic Status  \\\n",
       "Present.1                                           \n",
       "0                       137                   150   \n",
       "1                         5                     6   \n",
       "\n",
       "           Data Collected (differnent levels of)  \\\n",
       "Present.1                                          \n",
       "0                                            131   \n",
       "1                                              5   \n",
       "\n",
       "           Date of Study was Conducted/Published  \\\n",
       "Present.1                                          \n",
       "0                                              0   \n",
       "1                                              0   \n",
       "\n",
       "           Date of Study Posted on PhysioNet  Unnamed: 21  \n",
       "Present.1                                                  \n",
       "0                                         23            1  \n",
       "1                                          0            0  \n",
       "\n",
       "[2 rows x 21 columns]"
      ]
     },
     "execution_count": 46,
     "metadata": {},
     "output_type": "execute_result"
    }
   ],
   "source": [
    "participant_data.groupby(\"Present.1\").count() # counts for ethnicity reporting"
   ]
  },
  {
   "cell_type": "code",
   "execution_count": 47,
   "metadata": {},
   "outputs": [
    {
     "data": {
      "text/html": [
       "<div>\n",
       "<style scoped>\n",
       "    .dataframe tbody tr th:only-of-type {\n",
       "        vertical-align: middle;\n",
       "    }\n",
       "\n",
       "    .dataframe tbody tr th {\n",
       "        vertical-align: top;\n",
       "    }\n",
       "\n",
       "    .dataframe thead th {\n",
       "        text-align: right;\n",
       "    }\n",
       "</style>\n",
       "<table border=\"1\" class=\"dataframe\">\n",
       "  <thead>\n",
       "    <tr style=\"text-align: right;\">\n",
       "      <th></th>\n",
       "      <th>Study Name/Number</th>\n",
       "      <th>Race</th>\n",
       "      <th>Present</th>\n",
       "      <th>Ethnicity</th>\n",
       "      <th>Present.1</th>\n",
       "      <th>Study sample size</th>\n",
       "      <th>Male</th>\n",
       "      <th>Female</th>\n",
       "      <th>Total N</th>\n",
       "      <th>Gender/Sex</th>\n",
       "      <th>...</th>\n",
       "      <th>Present.3</th>\n",
       "      <th>Country/Region</th>\n",
       "      <th>Location</th>\n",
       "      <th>Pre-existing conditions and/or Symptoms</th>\n",
       "      <th>Instruments used</th>\n",
       "      <th>Socioeconomic Status</th>\n",
       "      <th>Data Collected (differnent levels of)</th>\n",
       "      <th>Date of Study was Conducted/Published</th>\n",
       "      <th>Date of Study Posted on PhysioNet</th>\n",
       "      <th>Unnamed: 21</th>\n",
       "    </tr>\n",
       "    <tr>\n",
       "      <th>Present.2</th>\n",
       "      <th></th>\n",
       "      <th></th>\n",
       "      <th></th>\n",
       "      <th></th>\n",
       "      <th></th>\n",
       "      <th></th>\n",
       "      <th></th>\n",
       "      <th></th>\n",
       "      <th></th>\n",
       "      <th></th>\n",
       "      <th></th>\n",
       "      <th></th>\n",
       "      <th></th>\n",
       "      <th></th>\n",
       "      <th></th>\n",
       "      <th></th>\n",
       "      <th></th>\n",
       "      <th></th>\n",
       "      <th></th>\n",
       "      <th></th>\n",
       "      <th></th>\n",
       "    </tr>\n",
       "  </thead>\n",
       "  <tbody>\n",
       "    <tr>\n",
       "      <th>0</th>\n",
       "      <td>54</td>\n",
       "      <td>54</td>\n",
       "      <td>54</td>\n",
       "      <td>54</td>\n",
       "      <td>54</td>\n",
       "      <td>54</td>\n",
       "      <td>54</td>\n",
       "      <td>54</td>\n",
       "      <td>54</td>\n",
       "      <td>54</td>\n",
       "      <td>...</td>\n",
       "      <td>54</td>\n",
       "      <td>54</td>\n",
       "      <td>45</td>\n",
       "      <td>38</td>\n",
       "      <td>36</td>\n",
       "      <td>42</td>\n",
       "      <td>36</td>\n",
       "      <td>0</td>\n",
       "      <td>3</td>\n",
       "      <td>1</td>\n",
       "    </tr>\n",
       "    <tr>\n",
       "      <th>1</th>\n",
       "      <td>121</td>\n",
       "      <td>121</td>\n",
       "      <td>121</td>\n",
       "      <td>121</td>\n",
       "      <td>121</td>\n",
       "      <td>121</td>\n",
       "      <td>121</td>\n",
       "      <td>121</td>\n",
       "      <td>121</td>\n",
       "      <td>121</td>\n",
       "      <td>...</td>\n",
       "      <td>121</td>\n",
       "      <td>121</td>\n",
       "      <td>118</td>\n",
       "      <td>107</td>\n",
       "      <td>106</td>\n",
       "      <td>114</td>\n",
       "      <td>100</td>\n",
       "      <td>0</td>\n",
       "      <td>20</td>\n",
       "      <td>0</td>\n",
       "    </tr>\n",
       "  </tbody>\n",
       "</table>\n",
       "<p>2 rows × 21 columns</p>\n",
       "</div>"
      ],
      "text/plain": [
       "           Study Name/Number  Race  Present  Ethnicity  Present.1  \\\n",
       "Present.2                                                           \n",
       "0                         54    54       54         54         54   \n",
       "1                        121   121      121        121        121   \n",
       "\n",
       "           Study sample size  Male  Female  Total N  Gender/Sex  ...  \\\n",
       "Present.2                                                        ...   \n",
       "0                         54    54      54       54          54  ...   \n",
       "1                        121   121     121      121         121  ...   \n",
       "\n",
       "           Present.3  Country/Region  Location   \\\n",
       "Present.2                                         \n",
       "0                 54              54         45   \n",
       "1                121             121        118   \n",
       "\n",
       "           Pre-existing conditions and/or Symptoms  Instruments used  \\\n",
       "Present.2                                                              \n",
       "0                                               38                36   \n",
       "1                                              107               106   \n",
       "\n",
       "           Socioeconomic Status  Data Collected (differnent levels of)  \\\n",
       "Present.2                                                                \n",
       "0                            42                                     36   \n",
       "1                           114                                    100   \n",
       "\n",
       "           Date of Study was Conducted/Published  \\\n",
       "Present.2                                          \n",
       "0                                              0   \n",
       "1                                              0   \n",
       "\n",
       "           Date of Study Posted on PhysioNet  Unnamed: 21  \n",
       "Present.2                                                  \n",
       "0                                          3            1  \n",
       "1                                         20            0  \n",
       "\n",
       "[2 rows x 21 columns]"
      ]
     },
     "execution_count": 47,
     "metadata": {},
     "output_type": "execute_result"
    }
   ],
   "source": [
    "participant_data.groupby(\"Present.2\").count() # counts for sex reporting"
   ]
  },
  {
   "cell_type": "code",
   "execution_count": 48,
   "metadata": {},
   "outputs": [
    {
     "data": {
      "text/html": [
       "<div>\n",
       "<style scoped>\n",
       "    .dataframe tbody tr th:only-of-type {\n",
       "        vertical-align: middle;\n",
       "    }\n",
       "\n",
       "    .dataframe tbody tr th {\n",
       "        vertical-align: top;\n",
       "    }\n",
       "\n",
       "    .dataframe thead th {\n",
       "        text-align: right;\n",
       "    }\n",
       "</style>\n",
       "<table border=\"1\" class=\"dataframe\">\n",
       "  <thead>\n",
       "    <tr style=\"text-align: right;\">\n",
       "      <th></th>\n",
       "      <th>Study Name/Number</th>\n",
       "      <th>Race</th>\n",
       "      <th>Present</th>\n",
       "      <th>Ethnicity</th>\n",
       "      <th>Present.1</th>\n",
       "      <th>Study sample size</th>\n",
       "      <th>Male</th>\n",
       "      <th>Female</th>\n",
       "      <th>Total N</th>\n",
       "      <th>Gender/Sex</th>\n",
       "      <th>...</th>\n",
       "      <th>Age</th>\n",
       "      <th>Country/Region</th>\n",
       "      <th>Location</th>\n",
       "      <th>Pre-existing conditions and/or Symptoms</th>\n",
       "      <th>Instruments used</th>\n",
       "      <th>Socioeconomic Status</th>\n",
       "      <th>Data Collected (differnent levels of)</th>\n",
       "      <th>Date of Study was Conducted/Published</th>\n",
       "      <th>Date of Study Posted on PhysioNet</th>\n",
       "      <th>Unnamed: 21</th>\n",
       "    </tr>\n",
       "    <tr>\n",
       "      <th>Present.3</th>\n",
       "      <th></th>\n",
       "      <th></th>\n",
       "      <th></th>\n",
       "      <th></th>\n",
       "      <th></th>\n",
       "      <th></th>\n",
       "      <th></th>\n",
       "      <th></th>\n",
       "      <th></th>\n",
       "      <th></th>\n",
       "      <th></th>\n",
       "      <th></th>\n",
       "      <th></th>\n",
       "      <th></th>\n",
       "      <th></th>\n",
       "      <th></th>\n",
       "      <th></th>\n",
       "      <th></th>\n",
       "      <th></th>\n",
       "      <th></th>\n",
       "      <th></th>\n",
       "    </tr>\n",
       "  </thead>\n",
       "  <tbody>\n",
       "    <tr>\n",
       "      <th>0</th>\n",
       "      <td>50</td>\n",
       "      <td>50</td>\n",
       "      <td>50</td>\n",
       "      <td>50</td>\n",
       "      <td>50</td>\n",
       "      <td>50</td>\n",
       "      <td>50</td>\n",
       "      <td>50</td>\n",
       "      <td>50</td>\n",
       "      <td>50</td>\n",
       "      <td>...</td>\n",
       "      <td>50</td>\n",
       "      <td>50</td>\n",
       "      <td>41</td>\n",
       "      <td>33</td>\n",
       "      <td>31</td>\n",
       "      <td>38</td>\n",
       "      <td>29</td>\n",
       "      <td>0</td>\n",
       "      <td>3</td>\n",
       "      <td>1</td>\n",
       "    </tr>\n",
       "    <tr>\n",
       "      <th>1</th>\n",
       "      <td>125</td>\n",
       "      <td>125</td>\n",
       "      <td>125</td>\n",
       "      <td>125</td>\n",
       "      <td>125</td>\n",
       "      <td>125</td>\n",
       "      <td>125</td>\n",
       "      <td>125</td>\n",
       "      <td>125</td>\n",
       "      <td>125</td>\n",
       "      <td>...</td>\n",
       "      <td>125</td>\n",
       "      <td>125</td>\n",
       "      <td>122</td>\n",
       "      <td>112</td>\n",
       "      <td>111</td>\n",
       "      <td>118</td>\n",
       "      <td>107</td>\n",
       "      <td>0</td>\n",
       "      <td>20</td>\n",
       "      <td>0</td>\n",
       "    </tr>\n",
       "  </tbody>\n",
       "</table>\n",
       "<p>2 rows × 21 columns</p>\n",
       "</div>"
      ],
      "text/plain": [
       "           Study Name/Number  Race  Present  Ethnicity  Present.1  \\\n",
       "Present.3                                                           \n",
       "0                         50    50       50         50         50   \n",
       "1                        125   125      125        125        125   \n",
       "\n",
       "           Study sample size  Male  Female  Total N  Gender/Sex  ...  Age  \\\n",
       "Present.3                                                        ...        \n",
       "0                         50    50      50       50          50  ...   50   \n",
       "1                        125   125     125      125         125  ...  125   \n",
       "\n",
       "           Country/Region  Location   Pre-existing conditions and/or Symptoms  \\\n",
       "Present.3                                                                       \n",
       "0                      50         41                                       33   \n",
       "1                     125        122                                      112   \n",
       "\n",
       "           Instruments used  Socioeconomic Status  \\\n",
       "Present.3                                           \n",
       "0                        31                    38   \n",
       "1                       111                   118   \n",
       "\n",
       "           Data Collected (differnent levels of)  \\\n",
       "Present.3                                          \n",
       "0                                             29   \n",
       "1                                            107   \n",
       "\n",
       "           Date of Study was Conducted/Published  \\\n",
       "Present.3                                          \n",
       "0                                              0   \n",
       "1                                              0   \n",
       "\n",
       "           Date of Study Posted on PhysioNet  Unnamed: 21  \n",
       "Present.3                                                  \n",
       "0                                          3            1  \n",
       "1                                         20            0  \n",
       "\n",
       "[2 rows x 21 columns]"
      ]
     },
     "execution_count": 48,
     "metadata": {},
     "output_type": "execute_result"
    }
   ],
   "source": [
    "participant_data.groupby(\"Present.3\").count() # counts for age reporting"
   ]
  },
  {
   "cell_type": "code",
   "execution_count": 49,
   "metadata": {},
   "outputs": [],
   "source": [
    "data = [10, 6, 121, 125]\n",
    "labels = ['Race', 'Ethnicity', 'Sex', 'Age']\n",
    "colors = ['thistle', 'orchid', 'rebeccapurple', 'slateblue']"
   ]
  },
  {
   "cell_type": "code",
   "execution_count": 50,
   "metadata": {},
   "outputs": [
    {
     "data": {
      "image/png": "[encoded data removed]",
      "text/plain": [
       "<Figure size 600x900 with 1 Axes>"
      ]
     },
     "metadata": {},
     "output_type": "display_data"
    }
   ],
   "source": [
    "fig, ax = plt.subplots(figsize=(6,9))\n",
    "plt.pie(data, labels = labels, colors = colors, autopct='%.0f%%')\n",
    "plt.show()"
   ]
  },
  {
   "cell_type": "code",
   "execution_count": 51,
   "metadata": {},
   "outputs": [
    {
     "name": "stdout",
     "output_type": "stream",
     "text": [
      "(4, 3)\n"
     ]
    },
    {
     "data": {
      "text/html": [
       "<div>\n",
       "<style scoped>\n",
       "    .dataframe tbody tr th:only-of-type {\n",
       "        vertical-align: middle;\n",
       "    }\n",
       "\n",
       "    .dataframe tbody tr th {\n",
       "        vertical-align: top;\n",
       "    }\n",
       "\n",
       "    .dataframe thead th {\n",
       "        text-align: right;\n",
       "    }\n",
       "</style>\n",
       "<table border=\"1\" class=\"dataframe\">\n",
       "  <thead>\n",
       "    <tr style=\"text-align: right;\">\n",
       "      <th></th>\n",
       "      <th>Variable</th>\n",
       "      <th>Present</th>\n",
       "      <th>Absent</th>\n",
       "    </tr>\n",
       "  </thead>\n",
       "  <tbody>\n",
       "    <tr>\n",
       "      <th>0</th>\n",
       "      <td>Race</td>\n",
       "      <td>10</td>\n",
       "      <td>165</td>\n",
       "    </tr>\n",
       "    <tr>\n",
       "      <th>1</th>\n",
       "      <td>Ethnicity</td>\n",
       "      <td>6</td>\n",
       "      <td>169</td>\n",
       "    </tr>\n",
       "    <tr>\n",
       "      <th>2</th>\n",
       "      <td>Sex</td>\n",
       "      <td>121</td>\n",
       "      <td>54</td>\n",
       "    </tr>\n",
       "    <tr>\n",
       "      <th>3</th>\n",
       "      <td>Age</td>\n",
       "      <td>125</td>\n",
       "      <td>50</td>\n",
       "    </tr>\n",
       "  </tbody>\n",
       "</table>\n",
       "</div>"
      ],
      "text/plain": [
       "    Variable  Present  Absent\n",
       "0       Race       10     165\n",
       "1  Ethnicity        6     169\n",
       "2        Sex      121      54\n",
       "3        Age      125      50"
      ]
     },
     "execution_count": 51,
     "metadata": {},
     "output_type": "execute_result"
    }
   ],
   "source": [
    "count_data = pd.read_csv(\"Demographics Information - Summary Counts.csv\")\n",
    "print(count_data.shape)\n",
    "count_data.head()"
   ]
  },
  {
   "cell_type": "code",
   "execution_count": 52,
   "metadata": {},
   "outputs": [
    {
     "data": {
      "application/vnd.plotly.v1+json": {
       "config": {
        "plotlyServerURL": "https://plot.ly"
       },
       "data": [
        {
         "domain": {
          "x": [
           0,
           1
          ],
          "y": [
           0,
           1
          ]
         },
         "hovertemplate": "Variable=%{label}<br>Present=%{value}<extra></extra>",
         "labels": [
          "Race",
          "Ethnicity",
          "Sex",
          "Age"
         ],
         "legendgroup": "",
         "name": "",
         "showlegend": true,
         "type": "pie",
         "values": [
          10,
          6,
          121,
          125
         ]
        }
       ],
       "layout": {
        "height": 400,
        "legend": {
         "tracegroupgap": 0
        },
        "margin": {
         "t": 60
        },
        "template": {
         "data": {
          "bar": [
           {
            "error_x": {
             "color": "#2a3f5f"
            },
            "error_y": {
             "color": "#2a3f5f"
            },
            "marker": {
             "line": {
              "color": "#E5ECF6",
              "width": 0.5
             },
             "pattern": {
              "fillmode": "overlay",
              "size": 10,
              "solidity": 0.2
             }
            },
            "type": "bar"
           }
          ],
          "barpolar": [
           {
            "marker": {
             "line": {
              "color": "#E5ECF6",
              "width": 0.5
             },
             "pattern": {
              "fillmode": "overlay",
              "size": 10,
              "solidity": 0.2
             }
            },
            "type": "barpolar"
           }
          ],
          "carpet": [
           {
            "aaxis": {
             "endlinecolor": "#2a3f5f",
             "gridcolor": "white",
             "linecolor": "white",
             "minorgridcolor": "white",
             "startlinecolor": "#2a3f5f"
            },
            "baxis": {
             "endlinecolor": "#2a3f5f",
             "gridcolor": "white",
             "linecolor": "white",
             "minorgridcolor": "white",
             "startlinecolor": "#2a3f5f"
            },
            "type": "carpet"
           }
          ],
          "choropleth": [
           {
            "colorbar": {
             "outlinewidth": 0,
             "ticks": ""
            },
            "type": "choropleth"
           }
          ],
          "contour": [
           {
            "colorbar": {
             "outlinewidth": 0,
             "ticks": ""
            },
            "colorscale": [
             [
              0,
              "#0d0887"
             ],
             [
              0.1111111111111111,
              "#46039f"
             ],
             [
              0.2222222222222222,
              "#7201a8"
             ],
             [
              0.3333333333333333,
              "#9c179e"
             ],
             [
              0.4444444444444444,
              "#bd3786"
             ],
             [
              0.5555555555555556,
              "#d8576b"
             ],
             [
              0.6666666666666666,
              "#ed7953"
             ],
             [
              0.7777777777777778,
              "#fb9f3a"
             ],
             [
              0.8888888888888888,
              "#fdca26"
             ],
             [
              1,
              "#f0f921"
             ]
            ],
            "type": "contour"
           }
          ],
          "contourcarpet": [
           {
            "colorbar": {
             "outlinewidth": 0,
             "ticks": ""
            },
            "type": "contourcarpet"
           }
          ],
          "heatmap": [
           {
            "colorbar": {
             "outlinewidth": 0,
             "ticks": ""
            },
            "colorscale": [
             [
              0,
              "#0d0887"
             ],
             [
              0.1111111111111111,
              "#46039f"
             ],
             [
              0.2222222222222222,
              "#7201a8"
             ],
             [
              0.3333333333333333,
              "#9c179e"
             ],
             [
              0.4444444444444444,
              "#bd3786"
             ],
             [
              0.5555555555555556,
              "#d8576b"
             ],
             [
              0.6666666666666666,
              "#ed7953"
             ],
             [
              0.7777777777777778,
              "#fb9f3a"
             ],
             [
              0.8888888888888888,
              "#fdca26"
             ],
             [
              1,
              "#f0f921"
             ]
            ],
            "type": "heatmap"
           }
          ],
          "heatmapgl": [
           {
            "colorbar": {
             "outlinewidth": 0,
             "ticks": ""
            },
            "colorscale": [
             [
              0,
              "#0d0887"
             ],
             [
              0.1111111111111111,
              "#46039f"
             ],
             [
              0.2222222222222222,
              "#7201a8"
             ],
             [
              0.3333333333333333,
              "#9c179e"
             ],
             [
              0.4444444444444444,
              "#bd3786"
             ],
             [
              0.5555555555555556,
              "#d8576b"
             ],
             [
              0.6666666666666666,
              "#ed7953"
             ],
             [
              0.7777777777777778,
              "#fb9f3a"
             ],
             [
              0.8888888888888888,
              "#fdca26"
             ],
             [
              1,
              "#f0f921"
             ]
            ],
            "type": "heatmapgl"
           }
          ],
          "histogram": [
           {
            "marker": {
             "pattern": {
              "fillmode": "overlay",
              "size": 10,
              "solidity": 0.2
             }
            },
            "type": "histogram"
           }
          ],
          "histogram2d": [
           {
            "colorbar": {
             "outlinewidth": 0,
             "ticks": ""
            },
            "colorscale": [
             [
              0,
              "#0d0887"
             ],
             [
              0.1111111111111111,
              "#46039f"
             ],
             [
              0.2222222222222222,
              "#7201a8"
             ],
             [
              0.3333333333333333,
              "#9c179e"
             ],
             [
              0.4444444444444444,
              "#bd3786"
             ],
             [
              0.5555555555555556,
              "#d8576b"
             ],
             [
              0.6666666666666666,
              "#ed7953"
             ],
             [
              0.7777777777777778,
              "#fb9f3a"
             ],
             [
              0.8888888888888888,
              "#fdca26"
             ],
             [
              1,
              "#f0f921"
             ]
            ],
            "type": "histogram2d"
           }
          ],
          "histogram2dcontour": [
           {
            "colorbar": {
             "outlinewidth": 0,
             "ticks": ""
            },
            "colorscale": [
             [
              0,
              "#0d0887"
             ],
             [
              0.1111111111111111,
              "#46039f"
             ],
             [
              0.2222222222222222,
              "#7201a8"
             ],
             [
              0.3333333333333333,
              "#9c179e"
             ],
             [
              0.4444444444444444,
              "#bd3786"
             ],
             [
              0.5555555555555556,
              "#d8576b"
             ],
             [
              0.6666666666666666,
              "#ed7953"
             ],
             [
              0.7777777777777778,
              "#fb9f3a"
             ],
             [
              0.8888888888888888,
              "#fdca26"
             ],
             [
              1,
              "#f0f921"
             ]
            ],
            "type": "histogram2dcontour"
           }
          ],
          "mesh3d": [
           {
            "colorbar": {
             "outlinewidth": 0,
             "ticks": ""
            },
            "type": "mesh3d"
           }
          ],
          "parcoords": [
           {
            "line": {
             "colorbar": {
              "outlinewidth": 0,
              "ticks": ""
             }
            },
            "type": "parcoords"
           }
          ],
          "pie": [
           {
            "automargin": true,
            "type": "pie"
           }
          ],
          "scatter": [
           {
            "fillpattern": {
             "fillmode": "overlay",
             "size": 10,
             "solidity": 0.2
            },
            "type": "scatter"
           }
          ],
          "scatter3d": [
           {
            "line": {
             "colorbar": {
              "outlinewidth": 0,
              "ticks": ""
             }
            },
            "marker": {
             "colorbar": {
              "outlinewidth": 0,
              "ticks": ""
             }
            },
            "type": "scatter3d"
           }
          ],
          "scattercarpet": [
           {
            "marker": {
             "colorbar": {
              "outlinewidth": 0,
              "ticks": ""
             }
            },
            "type": "scattercarpet"
           }
          ],
          "scattergeo": [
           {
            "marker": {
             "colorbar": {
              "outlinewidth": 0,
              "ticks": ""
             }
            },
            "type": "scattergeo"
           }
          ],
          "scattergl": [
           {
            "marker": {
             "colorbar": {
              "outlinewidth": 0,
              "ticks": ""
             }
            },
            "type": "scattergl"
           }
          ],
          "scattermapbox": [
           {
            "marker": {
             "colorbar": {
              "outlinewidth": 0,
              "ticks": ""
             }
            },
            "type": "scattermapbox"
           }
          ],
          "scatterpolar": [
           {
            "marker": {
             "colorbar": {
              "outlinewidth": 0,
              "ticks": ""
             }
            },
            "type": "scatterpolar"
           }
          ],
          "scatterpolargl": [
           {
            "marker": {
             "colorbar": {
              "outlinewidth": 0,
              "ticks": ""
             }
            },
            "type": "scatterpolargl"
           }
          ],
          "scatterternary": [
           {
            "marker": {
             "colorbar": {
              "outlinewidth": 0,
              "ticks": ""
             }
            },
            "type": "scatterternary"
           }
          ],
          "surface": [
           {
            "colorbar": {
             "outlinewidth": 0,
             "ticks": ""
            },
            "colorscale": [
             [
              0,
              "#0d0887"
             ],
             [
              0.1111111111111111,
              "#46039f"
             ],
             [
              0.2222222222222222,
              "#7201a8"
             ],
             [
              0.3333333333333333,
              "#9c179e"
             ],
             [
              0.4444444444444444,
              "#bd3786"
             ],
             [
              0.5555555555555556,
              "#d8576b"
             ],
             [
              0.6666666666666666,
              "#ed7953"
             ],
             [
              0.7777777777777778,
              "#fb9f3a"
             ],
             [
              0.8888888888888888,
              "#fdca26"
             ],
             [
              1,
              "#f0f921"
             ]
            ],
            "type": "surface"
           }
          ],
          "table": [
           {
            "cells": {
             "fill": {
              "color": "#EBF0F8"
             },
             "line": {
              "color": "white"
             }
            },
            "header": {
             "fill": {
              "color": "#C8D4E3"
             },
             "line": {
              "color": "white"
             }
            },
            "type": "table"
           }
          ]
         },
         "layout": {
          "annotationdefaults": {
           "arrowcolor": "#2a3f5f",
           "arrowhead": 0,
           "arrowwidth": 1
          },
          "autotypenumbers": "strict",
          "coloraxis": {
           "colorbar": {
            "outlinewidth": 0,
            "ticks": ""
           }
          },
          "colorscale": {
           "diverging": [
            [
             0,
             "#8e0152"
            ],
            [
             0.1,
             "#c51b7d"
            ],
            [
             0.2,
             "#de77ae"
            ],
            [
             0.3,
             "#f1b6da"
            ],
            [
             0.4,
             "#fde0ef"
            ],
            [
             0.5,
             "#f7f7f7"
            ],
            [
             0.6,
             "#e6f5d0"
            ],
            [
             0.7,
             "#b8e186"
            ],
            [
             0.8,
             "#7fbc41"
            ],
            [
             0.9,
             "#4d9221"
            ],
            [
             1,
             "#276419"
            ]
           ],
           "sequential": [
            [
             0,
             "#0d0887"
            ],
            [
             0.1111111111111111,
             "#46039f"
            ],
            [
             0.2222222222222222,
             "#7201a8"
            ],
            [
             0.3333333333333333,
             "#9c179e"
            ],
            [
             0.4444444444444444,
             "#bd3786"
            ],
            [
             0.5555555555555556,
             "#d8576b"
            ],
            [
             0.6666666666666666,
             "#ed7953"
            ],
            [
             0.7777777777777778,
             "#fb9f3a"
            ],
            [
             0.8888888888888888,
             "#fdca26"
            ],
            [
             1,
             "#f0f921"
            ]
           ],
           "sequentialminus": [
            [
             0,
             "#0d0887"
            ],
            [
             0.1111111111111111,
             "#46039f"
            ],
            [
             0.2222222222222222,
             "#7201a8"
            ],
            [
             0.3333333333333333,
             "#9c179e"
            ],
            [
             0.4444444444444444,
             "#bd3786"
            ],
            [
             0.5555555555555556,
             "#d8576b"
            ],
            [
             0.6666666666666666,
             "#ed7953"
            ],
            [
             0.7777777777777778,
             "#fb9f3a"
            ],
            [
             0.8888888888888888,
             "#fdca26"
            ],
            [
             1,
             "#f0f921"
            ]
           ]
          },
          "colorway": [
           "#636efa",
           "#EF553B",
           "#00cc96",
           "#ab63fa",
           "#FFA15A",
           "#19d3f3",
           "#FF6692",
           "#B6E880",
           "#FF97FF",
           "#FECB52"
          ],
          "font": {
           "color": "#2a3f5f"
          },
          "geo": {
           "bgcolor": "white",
           "lakecolor": "white",
           "landcolor": "#E5ECF6",
           "showlakes": true,
           "showland": true,
           "subunitcolor": "white"
          },
          "hoverlabel": {
           "align": "left"
          },
          "hovermode": "closest",
          "mapbox": {
           "style": "light"
          },
          "paper_bgcolor": "white",
          "plot_bgcolor": "#E5ECF6",
          "polar": {
           "angularaxis": {
            "gridcolor": "white",
            "linecolor": "white",
            "ticks": ""
           },
           "bgcolor": "#E5ECF6",
           "radialaxis": {
            "gridcolor": "white",
            "linecolor": "white",
            "ticks": ""
           }
          },
          "scene": {
           "xaxis": {
            "backgroundcolor": "#E5ECF6",
            "gridcolor": "white",
            "gridwidth": 2,
            "linecolor": "white",
            "showbackground": true,
            "ticks": "",
            "zerolinecolor": "white"
           },
           "yaxis": {
            "backgroundcolor": "#E5ECF6",
            "gridcolor": "white",
            "gridwidth": 2,
            "linecolor": "white",
            "showbackground": true,
            "ticks": "",
            "zerolinecolor": "white"
           },
           "zaxis": {
            "backgroundcolor": "#E5ECF6",
            "gridcolor": "white",
            "gridwidth": 2,
            "linecolor": "white",
            "showbackground": true,
            "ticks": "",
            "zerolinecolor": "white"
           }
          },
          "shapedefaults": {
           "line": {
            "color": "#2a3f5f"
           }
          },
          "ternary": {
           "aaxis": {
            "gridcolor": "white",
            "linecolor": "white",
            "ticks": ""
           },
           "baxis": {
            "gridcolor": "white",
            "linecolor": "white",
            "ticks": ""
           },
           "bgcolor": "#E5ECF6",
           "caxis": {
            "gridcolor": "white",
            "linecolor": "white",
            "ticks": ""
           }
          },
          "title": {
           "x": 0.05
          },
          "xaxis": {
           "automargin": true,
           "gridcolor": "white",
           "linecolor": "white",
           "ticks": "",
           "title": {
            "standoff": 15
           },
           "zerolinecolor": "white",
           "zerolinewidth": 2
          },
          "yaxis": {
           "automargin": true,
           "gridcolor": "white",
           "linecolor": "white",
           "ticks": "",
           "title": {
            "standoff": 15
           },
           "zerolinecolor": "white",
           "zerolinewidth": 2
          }
         }
        },
        "width": 400
       }
      }
     },
     "metadata": {},
     "output_type": "display_data"
    }
   ],
   "source": [
    "import plotly.express as px\n",
    "\n",
    "fig = px.pie(count_data, values='Present', names='Variable', width=400, height=400)\n",
    "fig.show()"
   ]
  },
  {
   "cell_type": "markdown",
   "metadata": {},
   "source": [
    "Above pie charts present the same data, plotly just has nicer looking pie charts -- one concern is that this displays the data deceivingly, since it totals the number of observations of reported data, including any studies that report multiple demographic variables."
   ]
  },
  {
   "cell_type": "code",
   "execution_count": 53,
   "metadata": {},
   "outputs": [
    {
     "data": {
      "image/png": "[encoded data removed]",
      "text/plain": [
       "<Figure size 640x480 with 1 Axes>"
      ]
     },
     "metadata": {},
     "output_type": "display_data"
    }
   ],
   "source": [
    "race = [165, 10]\n",
    "ethnicity = [169, 6]\n",
    "gender = [54, 121]\n",
    "age = [50, 125]\n",
    "total = [175, 175]\n",
    "x = [0, 1]\n",
    "\n",
    "x_axis = np.arange(len(x))\n",
    "\n",
    "plt.bar(x_axis - 0.2, race, 0.1, label = 'Race', color = 'darkorchid')\n",
    "plt.bar(x_axis - 0.1, ethnicity, 0.1, label = 'Ethnicity', color = 'thistle')\n",
    "plt.bar(x_axis, gender, 0.1, label = 'Sex', color = 'palevioletred')\n",
    "plt.bar(x_axis + 0.1, age, 0.1, label = 'Age', color = 'orchid')\n",
    "plt.bar(x_axis + 0.2, total, 0.1, label = 'Total', color = 'indigo')\n",
    "\n",
    "plt.xticks(x_axis, x_axis)\n",
    "plt.xlabel(\"Variable Present/Absent\")\n",
    "plt.grid(axis='y')\n",
    "plt.ylabel(\"Count\")\n",
    "plt.title('Demographic Variable Reporting Frequency')\n",
    "plt.legend()\n",
    "plt.show()"
   ]
  },
  {
   "cell_type": "code",
   "execution_count": 54,
   "metadata": {},
   "outputs": [
    {
     "data": {
      "image/png": "[encoded data removed]",
      "text/plain": [
       "<Figure size 640x480 with 1 Axes>"
      ]
     },
     "metadata": {},
     "output_type": "display_data"
    }
   ],
   "source": [
    "\n",
    "race = [94.29, 5.71]\n",
    "ethnicity = [96.57, 3.43]\n",
    "gender = [30.86, 69.14]\n",
    "age = [28.57, 71.43]\n",
    "x = [0, 1]\n",
    "\n",
    "x_axis = np.arange(len(x))\n",
    "\n",
    "rplot = plt.bar(x_axis - 0.3, race, 0.2, label = 'Race', color = 'lightsteelblue')\n",
    "eplot = plt.bar(x_axis - 0.1, ethnicity, 0.2, label = 'Ethnicity', color = 'cornflowerblue')\n",
    "gplot = plt.bar(x_axis + .1, gender, 0.2, label = 'Sex', color = 'navy')\n",
    "aplot = plt.bar(x_axis + 0.3, age, 0.2, label = 'Age', color = 'steelblue')\n",
    "# plt.bar(x_axis + 0.2, total, 0.1, label = 'Total', color = 'indigo')\n",
    "\n",
    "plt.ylim(0, 110)\n",
    "plt.xticks(x_axis, x_axis)\n",
    "plt.xlabel(\"Variable Present/Absent\")\n",
    "# plt.grid(axis='y')\n",
    "plt.ylabel(\"Percentage\")\n",
    "plt.title('Demographic Variable Reporting')\n",
    "plt.legend()\n",
    "\n",
    "for rect in rplot + eplot + gplot + aplot:\n",
    "    height = rect.get_height()\n",
    "    plt.text(rect.get_x() + rect.get_width() / 2.0, height, f'{height:.0f}', ha='center', va='bottom')\n",
    "    # add actual count number on top of bar, not percentage\n",
    "    # change x axis to absent (0) and present (1) -- could also just visualize just one absent/present\n",
    "    # show p value with a bar & *\n",
    "plt.show()"
   ]
  },
  {
   "cell_type": "code",
   "execution_count": 55,
   "metadata": {},
   "outputs": [
    {
     "data": {
      "image/png": "[encoded data removed]",
      "text/plain": [
       "<Figure size 640x480 with 1 Axes>"
      ]
     },
     "metadata": {},
     "output_type": "display_data"
    }
   ],
   "source": [
    "def addlabels(x,y,c):\n",
    "    for i in range(len(x)):\n",
    "        plt.text(i, y[i], c[i], ha = 'center', color = 'firebrick') # choose a color so the number above the bar is not confused witht he y axis labels\n",
    "\n",
    "race = [5.71]\n",
    "ethnicity = [3.43]\n",
    "gender = [69.14]\n",
    "age = [71.43]\n",
    "\n",
    "data = {'Race': 5.71, 'Ethn.': 3.43, 'Gender': 69.14, 'Age': 71.43}\n",
    "vars = list(data.keys())\n",
    "values = list(data.values())\n",
    "\n",
    "plt.bar(vars, values, color = {'navy', 'cornflowerblue', 'lightsteelblue', 'skyblue'})\n",
    "plt.title('Demographic Variable Presence in Physionet Datasets\\n(n = 175)')\n",
    "plt.ylabel(\"Percentage of Studies Reporting\")\n",
    "plt.xlabel(\"Variable\")\n",
    "plt.ylim(0, 100)\n",
    "\n",
    "vars1 = [\"Race\", \"Ethn.\", \"Gender\", \"Age\"]\n",
    "vals = [8, 6, 72, 75]\n",
    "counts = [10, 6, 121, 125]\n",
    "addlabels(vars1, vals, counts)"
   ]
  },
  {
   "cell_type": "code",
   "execution_count": 56,
   "metadata": {},
   "outputs": [],
   "source": [
    "age_data = pd.read_csv(\"Demographics Information - Age.csv\")"
   ]
  },
  {
   "cell_type": "code",
   "execution_count": 57,
   "metadata": {},
   "outputs": [
    {
     "data": {
      "text/html": [
       "<div>\n",
       "<style scoped>\n",
       "    .dataframe tbody tr th:only-of-type {\n",
       "        vertical-align: middle;\n",
       "    }\n",
       "\n",
       "    .dataframe tbody tr th {\n",
       "        vertical-align: top;\n",
       "    }\n",
       "\n",
       "    .dataframe thead th {\n",
       "        text-align: right;\n",
       "    }\n",
       "</style>\n",
       "<table border=\"1\" class=\"dataframe\">\n",
       "  <thead>\n",
       "    <tr style=\"text-align: right;\">\n",
       "      <th></th>\n",
       "      <th>Age</th>\n",
       "      <th>Average Age</th>\n",
       "      <th>Min Age</th>\n",
       "      <th>Ma Age</th>\n",
       "      <th>Total N</th>\n",
       "      <th>Ages reported in groups/not in groups</th>\n",
       "      <th>or take bottom value/upper value of the total</th>\n",
       "    </tr>\n",
       "  </thead>\n",
       "  <tbody>\n",
       "    <tr>\n",
       "      <th>0</th>\n",
       "      <td>NaN</td>\n",
       "      <td>NaN</td>\n",
       "      <td>NaN</td>\n",
       "      <td>NaN</td>\n",
       "      <td>NaN</td>\n",
       "      <td>NaN</td>\n",
       "      <td>NaN</td>\n",
       "    </tr>\n",
       "    <tr>\n",
       "      <th>1</th>\n",
       "      <td>NaN</td>\n",
       "      <td>NaN</td>\n",
       "      <td>NaN</td>\n",
       "      <td>NaN</td>\n",
       "      <td>NaN</td>\n",
       "      <td>NaN</td>\n",
       "      <td>NaN</td>\n",
       "    </tr>\n",
       "    <tr>\n",
       "      <th>2</th>\n",
       "      <td>NaN</td>\n",
       "      <td>NaN</td>\n",
       "      <td>NaN</td>\n",
       "      <td>NaN</td>\n",
       "      <td>NaN</td>\n",
       "      <td>NaN</td>\n",
       "      <td>NaN</td>\n",
       "    </tr>\n",
       "    <tr>\n",
       "      <th>3</th>\n",
       "      <td>NaN</td>\n",
       "      <td>NaN</td>\n",
       "      <td>NaN</td>\n",
       "      <td>NaN</td>\n",
       "      <td>NaN</td>\n",
       "      <td>NaN</td>\n",
       "      <td>NaN</td>\n",
       "    </tr>\n",
       "    <tr>\n",
       "      <th>4</th>\n",
       "      <td>NaN</td>\n",
       "      <td>NaN</td>\n",
       "      <td>18.0</td>\n",
       "      <td>NaN</td>\n",
       "      <td>14.0</td>\n",
       "      <td>NaN</td>\n",
       "      <td>NaN</td>\n",
       "    </tr>\n",
       "    <tr>\n",
       "      <th>...</th>\n",
       "      <td>...</td>\n",
       "      <td>...</td>\n",
       "      <td>...</td>\n",
       "      <td>...</td>\n",
       "      <td>...</td>\n",
       "      <td>...</td>\n",
       "      <td>...</td>\n",
       "    </tr>\n",
       "    <tr>\n",
       "      <th>170</th>\n",
       "      <td>NaN</td>\n",
       "      <td>NaN</td>\n",
       "      <td>55.0</td>\n",
       "      <td>75.0</td>\n",
       "      <td>51.0</td>\n",
       "      <td>NaN</td>\n",
       "      <td>NaN</td>\n",
       "    </tr>\n",
       "    <tr>\n",
       "      <th>171</th>\n",
       "      <td>NaN</td>\n",
       "      <td>NaN</td>\n",
       "      <td>NaN</td>\n",
       "      <td>NaN</td>\n",
       "      <td>90.0</td>\n",
       "      <td>NaN</td>\n",
       "      <td>NaN</td>\n",
       "    </tr>\n",
       "    <tr>\n",
       "      <th>172</th>\n",
       "      <td>NaN</td>\n",
       "      <td>26.47</td>\n",
       "      <td>NaN</td>\n",
       "      <td>NaN</td>\n",
       "      <td>4210.0</td>\n",
       "      <td>NaN</td>\n",
       "      <td>NaN</td>\n",
       "    </tr>\n",
       "    <tr>\n",
       "      <th>173</th>\n",
       "      <td>NaN</td>\n",
       "      <td>26.97</td>\n",
       "      <td>NaN</td>\n",
       "      <td>NaN</td>\n",
       "      <td>5232.0</td>\n",
       "      <td>NaN</td>\n",
       "      <td>NaN</td>\n",
       "    </tr>\n",
       "    <tr>\n",
       "      <th>174</th>\n",
       "      <td>NaN</td>\n",
       "      <td>NaN</td>\n",
       "      <td>15.0</td>\n",
       "      <td>89.0</td>\n",
       "      <td>2203.0</td>\n",
       "      <td>NaN</td>\n",
       "      <td>NaN</td>\n",
       "    </tr>\n",
       "  </tbody>\n",
       "</table>\n",
       "<p>175 rows × 7 columns</p>\n",
       "</div>"
      ],
      "text/plain": [
       "     Age  Average Age  Min Age  Ma Age  Total N  \\\n",
       "0    NaN          NaN      NaN     NaN      NaN   \n",
       "1    NaN          NaN      NaN     NaN      NaN   \n",
       "2    NaN          NaN      NaN     NaN      NaN   \n",
       "3    NaN          NaN      NaN     NaN      NaN   \n",
       "4    NaN          NaN     18.0     NaN     14.0   \n",
       "..   ...          ...      ...     ...      ...   \n",
       "170  NaN          NaN     55.0    75.0     51.0   \n",
       "171  NaN          NaN      NaN     NaN     90.0   \n",
       "172  NaN        26.47      NaN     NaN   4210.0   \n",
       "173  NaN        26.97      NaN     NaN   5232.0   \n",
       "174  NaN          NaN     15.0    89.0   2203.0   \n",
       "\n",
       "     Ages reported in groups/not in groups  \\\n",
       "0                                      NaN   \n",
       "1                                      NaN   \n",
       "2                                      NaN   \n",
       "3                                      NaN   \n",
       "4                                      NaN   \n",
       "..                                     ...   \n",
       "170                                    NaN   \n",
       "171                                    NaN   \n",
       "172                                    NaN   \n",
       "173                                    NaN   \n",
       "174                                    NaN   \n",
       "\n",
       "     or take bottom value/upper value of the total  \n",
       "0                                              NaN  \n",
       "1                                              NaN  \n",
       "2                                              NaN  \n",
       "3                                              NaN  \n",
       "4                                              NaN  \n",
       "..                                             ...  \n",
       "170                                            NaN  \n",
       "171                                            NaN  \n",
       "172                                            NaN  \n",
       "173                                            NaN  \n",
       "174                                            NaN  \n",
       "\n",
       "[175 rows x 7 columns]"
      ]
     },
     "execution_count": 57,
     "metadata": {},
     "output_type": "execute_result"
    }
   ],
   "source": [
    "def clean(df):\n",
    "    df = df.copy()\n",
    "    for c in df.columns:\n",
    "        df[c] = pd.to_numeric(df[c], errors='coerce')\n",
    "    # df['Total N'] = pd.to_numeric(df['Total N'], errors='coerce')\n",
    "\n",
    "    return df\n",
    "\n",
    "clean(age_data)"
   ]
  },
  {
   "cell_type": "code",
   "execution_count": 58,
   "metadata": {},
   "outputs": [
    {
     "name": "stdout",
     "output_type": "stream",
     "text": [
      "(175, 7)\n"
     ]
    },
    {
     "data": {
      "text/html": [
       "<div>\n",
       "<style scoped>\n",
       "    .dataframe tbody tr th:only-of-type {\n",
       "        vertical-align: middle;\n",
       "    }\n",
       "\n",
       "    .dataframe tbody tr th {\n",
       "        vertical-align: top;\n",
       "    }\n",
       "\n",
       "    .dataframe thead th {\n",
       "        text-align: right;\n",
       "    }\n",
       "</style>\n",
       "<table border=\"1\" class=\"dataframe\">\n",
       "  <thead>\n",
       "    <tr style=\"text-align: right;\">\n",
       "      <th></th>\n",
       "      <th>Age</th>\n",
       "      <th>Average Age</th>\n",
       "      <th>Min Age</th>\n",
       "      <th>Ma Age</th>\n",
       "      <th>Total N</th>\n",
       "      <th>Ages reported in groups/not in groups</th>\n",
       "      <th>or take bottom value/upper value of the total</th>\n",
       "    </tr>\n",
       "  </thead>\n",
       "  <tbody>\n",
       "    <tr>\n",
       "      <th>0</th>\n",
       "      <td>38-41 weeks in gestation</td>\n",
       "      <td>NaN</td>\n",
       "      <td>NaN</td>\n",
       "      <td>NaN</td>\n",
       "      <td>NaN</td>\n",
       "      <td>NaN</td>\n",
       "      <td>NaN</td>\n",
       "    </tr>\n",
       "    <tr>\n",
       "      <th>1</th>\n",
       "      <td>X</td>\n",
       "      <td>NaN</td>\n",
       "      <td>NaN</td>\n",
       "      <td>NaN</td>\n",
       "      <td>NaN</td>\n",
       "      <td>NaN</td>\n",
       "      <td>NaN</td>\n",
       "    </tr>\n",
       "    <tr>\n",
       "      <th>2</th>\n",
       "      <td>X</td>\n",
       "      <td>NaN</td>\n",
       "      <td>NaN</td>\n",
       "      <td>NaN</td>\n",
       "      <td>NaN</td>\n",
       "      <td>NaN</td>\n",
       "      <td>NaN</td>\n",
       "    </tr>\n",
       "    <tr>\n",
       "      <th>3</th>\n",
       "      <td>Includes age</td>\n",
       "      <td>NaN</td>\n",
       "      <td>NaN</td>\n",
       "      <td>NaN</td>\n",
       "      <td>NaN</td>\n",
       "      <td>NaN</td>\n",
       "      <td>NaN</td>\n",
       "    </tr>\n",
       "    <tr>\n",
       "      <th>4</th>\n",
       "      <td>&gt; 18 years old</td>\n",
       "      <td>NaN</td>\n",
       "      <td>18.0</td>\n",
       "      <td>NaN</td>\n",
       "      <td>14.0</td>\n",
       "      <td>NaN</td>\n",
       "      <td>NaN</td>\n",
       "    </tr>\n",
       "  </tbody>\n",
       "</table>\n",
       "</div>"
      ],
      "text/plain": [
       "                        Age  Average Age  Min Age  Ma Age  Total N  \\\n",
       "0  38-41 weeks in gestation          NaN      NaN     NaN      NaN   \n",
       "1                         X          NaN      NaN     NaN      NaN   \n",
       "2                         X          NaN      NaN     NaN      NaN   \n",
       "3             Includes age           NaN      NaN     NaN      NaN   \n",
       "4            > 18 years old          NaN     18.0     NaN     14.0   \n",
       "\n",
       "   Ages reported in groups/not in groups  \\\n",
       "0                                    NaN   \n",
       "1                                    NaN   \n",
       "2                                    NaN   \n",
       "3                                    NaN   \n",
       "4                                    NaN   \n",
       "\n",
       "   or take bottom value/upper value of the total  \n",
       "0                                            NaN  \n",
       "1                                            NaN  \n",
       "2                                            NaN  \n",
       "3                                            NaN  \n",
       "4                                            NaN  "
      ]
     },
     "execution_count": 58,
     "metadata": {},
     "output_type": "execute_result"
    }
   ],
   "source": [
    "print(age_data.shape)\n",
    "age_data.head()"
   ]
  },
  {
   "cell_type": "code",
   "execution_count": 59,
   "metadata": {},
   "outputs": [
    {
     "name": "stdout",
     "output_type": "stream",
     "text": [
      "36.816057692307695\n"
     ]
    }
   ],
   "source": [
    "no_outlier = age_data.drop(age_data.index[123])\n",
    "avg_age = age_data[\"Average Age\"].dropna()\n",
    "avg_age.head()\n",
    "# print(avg_age.size)\n",
    "print(avg_age.mean())"
   ]
  },
  {
   "cell_type": "code",
   "execution_count": 60,
   "metadata": {},
   "outputs": [
    {
     "name": "stdout",
     "output_type": "stream",
     "text": [
      "24.441358024685186\n"
     ]
    }
   ],
   "source": [
    "cleaned = age_data\n",
    "## .dropna(subset=['Ma Age', 'Total N'])\n",
    "min_age = cleaned[\"Min Age\"].dropna()\n",
    "min_age.head()\n",
    "# print(min_age.size)\n",
    "print(min_age.mean())"
   ]
  },
  {
   "cell_type": "code",
   "execution_count": 61,
   "metadata": {},
   "outputs": [
    {
     "name": "stdout",
     "output_type": "stream",
     "text": [
      "56.08814102557692\n"
     ]
    }
   ],
   "source": [
    "max_age = cleaned[\"Ma Age\"].dropna()\n",
    "max_age.head()\n",
    "# print(max_age.size)\n",
    "print(max_age.mean())"
   ]
  },
  {
   "cell_type": "code",
   "execution_count": 62,
   "metadata": {},
   "outputs": [
    {
     "name": "stdout",
     "output_type": "stream",
     "text": [
      "110\n"
     ]
    }
   ],
   "source": [
    "n = cleaned[\"Total N\"].dropna()\n",
    "n.head()\n",
    "print(n.size)"
   ]
  },
  {
   "cell_type": "code",
   "execution_count": 63,
   "metadata": {},
   "outputs": [],
   "source": [
    "age2 = age_data[age_data.columns[:-2]].dropna(axis=0)"
   ]
  },
  {
   "cell_type": "code",
   "execution_count": 64,
   "metadata": {},
   "outputs": [
    {
     "data": {
      "text/html": [
       "<div>\n",
       "<style scoped>\n",
       "    .dataframe tbody tr th:only-of-type {\n",
       "        vertical-align: middle;\n",
       "    }\n",
       "\n",
       "    .dataframe tbody tr th {\n",
       "        vertical-align: top;\n",
       "    }\n",
       "\n",
       "    .dataframe thead th {\n",
       "        text-align: right;\n",
       "    }\n",
       "</style>\n",
       "<table border=\"1\" class=\"dataframe\">\n",
       "  <thead>\n",
       "    <tr style=\"text-align: right;\">\n",
       "      <th></th>\n",
       "      <th>Age</th>\n",
       "      <th>Average Age</th>\n",
       "      <th>Min Age</th>\n",
       "      <th>Ma Age</th>\n",
       "      <th>Total N</th>\n",
       "    </tr>\n",
       "  </thead>\n",
       "  <tbody>\n",
       "    <tr>\n",
       "      <th>13</th>\n",
       "      <td>-Median Age: 64.81               -Age Range: 1...</td>\n",
       "      <td>64.81</td>\n",
       "      <td>19.0</td>\n",
       "      <td>90.0</td>\n",
       "      <td>53.0</td>\n",
       "    </tr>\n",
       "    <tr>\n",
       "      <th>17</th>\n",
       "      <td>21 to 83 years; 41 years, median 37 years</td>\n",
       "      <td>41.00</td>\n",
       "      <td>21.0</td>\n",
       "      <td>83.0</td>\n",
       "      <td>15.0</td>\n",
       "    </tr>\n",
       "    <tr>\n",
       "      <th>20</th>\n",
       "      <td>14-82 (age range); 45.2 (average)</td>\n",
       "      <td>45.20</td>\n",
       "      <td>14.0</td>\n",
       "      <td>82.0</td>\n",
       "      <td>108.0</td>\n",
       "    </tr>\n",
       "    <tr>\n",
       "      <th>32</th>\n",
       "      <td>29.8 (18-46)</td>\n",
       "      <td>29.80</td>\n",
       "      <td>18.0</td>\n",
       "      <td>46.0</td>\n",
       "      <td>552.0</td>\n",
       "    </tr>\n",
       "    <tr>\n",
       "      <th>39</th>\n",
       "      <td>24.3 ± 3.7 (range of 19-33)</td>\n",
       "      <td>24.30</td>\n",
       "      <td>19.0</td>\n",
       "      <td>33.0</td>\n",
       "      <td>11.0</td>\n",
       "    </tr>\n",
       "  </tbody>\n",
       "</table>\n",
       "</div>"
      ],
      "text/plain": [
       "                                                  Age  Average Age  Min Age  \\\n",
       "13  -Median Age: 64.81               -Age Range: 1...        64.81     19.0   \n",
       "17          21 to 83 years; 41 years, median 37 years        41.00     21.0   \n",
       "20                  14-82 (age range); 45.2 (average)        45.20     14.0   \n",
       "32                                       29.8 (18-46)        29.80     18.0   \n",
       "39                        24.3 ± 3.7 (range of 19-33)        24.30     19.0   \n",
       "\n",
       "    Ma Age  Total N  \n",
       "13    90.0     53.0  \n",
       "17    83.0     15.0  \n",
       "20    82.0    108.0  \n",
       "32    46.0    552.0  \n",
       "39    33.0     11.0  "
      ]
     },
     "execution_count": 64,
     "metadata": {},
     "output_type": "execute_result"
    }
   ],
   "source": [
    "age2[:5]"
   ]
  },
  {
   "cell_type": "code",
   "execution_count": 65,
   "metadata": {},
   "outputs": [
    {
     "data": {
      "text/plain": [
       "Age             object\n",
       "Average Age    float64\n",
       "Min Age        float64\n",
       "Ma Age         float64\n",
       "Total N        float64\n",
       "dtype: object"
      ]
     },
     "execution_count": 65,
     "metadata": {},
     "output_type": "execute_result"
    }
   ],
   "source": [
    "age2.dtypes"
   ]
  },
  {
   "cell_type": "code",
   "execution_count": 66,
   "metadata": {},
   "outputs": [
    {
     "name": "stdout",
     "output_type": "stream",
     "text": [
      "78.36 6.1 72.26\n"
     ]
    },
    {
     "name": "stderr",
     "output_type": "stream",
     "text": [
      "/var/folders/fr/ll6js0lj7fn2yj36y64f4z4h0000gn/T/ipykernel_19772/2017134736.py:1: FutureWarning:\n",
      "\n",
      "Dropping of nuisance columns in DataFrame reductions (with 'numeric_only=None') is deprecated; in a future version this will raise TypeError.  Select only valid columns before calling the reduction.\n",
      "\n",
      "/var/folders/fr/ll6js0lj7fn2yj36y64f4z4h0000gn/T/ipykernel_19772/2017134736.py:2: FutureWarning:\n",
      "\n",
      "Dropping of nuisance columns in DataFrame reductions (with 'numeric_only=None') is deprecated; in a future version this will raise TypeError.  Select only valid columns before calling the reduction.\n",
      "\n"
     ]
    }
   ],
   "source": [
    "maxAvg = cleaned.max(axis=0)['Average Age']\n",
    "minAvg = cleaned.min(axis=0)['Average Age']\n",
    "avgBins = (maxAvg-minAvg)\n",
    "print(maxAvg, minAvg, avgBins)"
   ]
  },
  {
   "cell_type": "code",
   "execution_count": 67,
   "metadata": {},
   "outputs": [
    {
     "data": {
      "image/png": "[encoded data removed]",
      "text/plain": [
       "<Figure size 640x480 with 1 Axes>"
      ]
     },
     "metadata": {},
     "output_type": "display_data"
    }
   ],
   "source": [
    "# plt.scatter(min_age, n, color = 'navy')\n",
    "# plt.xlabel(\"Minimum Age of Participants\")\n",
    "# plt.ylabel(\"Total N\")\n",
    "\n",
    "from matplotlib.ticker import PercentFormatter\n",
    "\n",
    "plt.hist(avg_age, weights=np.ones(len(avg_age))/len(avg_age), color = 'black', bins = 73)\n",
    "plt.gca().yaxis.set_major_formatter(PercentFormatter(1))\n",
    "plt.xlabel(\"Average Age of Participants\")\n",
    "plt.ylabel(\"Percentage of Studies\")\n",
    "plt.show()"
   ]
  },
  {
   "cell_type": "code",
   "execution_count": 68,
   "metadata": {},
   "outputs": [
    {
     "name": "stdout",
     "output_type": "stream",
     "text": [
      "36.816057692307695\n"
     ]
    }
   ],
   "source": [
    "print(cleaned['Average Age'].mean())\n"
   ]
  },
  {
   "cell_type": "code",
   "execution_count": 69,
   "metadata": {},
   "outputs": [
    {
     "name": "stdout",
     "output_type": "stream",
     "text": [
      "65.0 0.0 65.0\n"
     ]
    },
    {
     "name": "stderr",
     "output_type": "stream",
     "text": [
      "/var/folders/fr/ll6js0lj7fn2yj36y64f4z4h0000gn/T/ipykernel_19772/3469288051.py:4: FutureWarning:\n",
      "\n",
      "Dropping of nuisance columns in DataFrame reductions (with 'numeric_only=None') is deprecated; in a future version this will raise TypeError.  Select only valid columns before calling the reduction.\n",
      "\n",
      "/var/folders/fr/ll6js0lj7fn2yj36y64f4z4h0000gn/T/ipykernel_19772/3469288051.py:5: FutureWarning:\n",
      "\n",
      "Dropping of nuisance columns in DataFrame reductions (with 'numeric_only=None') is deprecated; in a future version this will raise TypeError.  Select only valid columns before calling the reduction.\n",
      "\n"
     ]
    }
   ],
   "source": [
    "# print(cleaned[cleaned['Min Age'] == cleaned['Min Age'].max()])\n",
    "# print(cleaned[cleaned['Min Age'] == cleaned['Min Age'].min()])\n",
    "\n",
    "maxMin = cleaned.max(axis=0)['Min Age']\n",
    "minMin = cleaned.min(axis=0)['Min Age']\n",
    "minBins = (maxMin-minMin)\n",
    "print(maxMin, minMin, minBins)"
   ]
  },
  {
   "cell_type": "code",
   "execution_count": null,
   "metadata": {},
   "outputs": [],
   "source": []
  },
  {
   "cell_type": "code",
   "execution_count": 70,
   "metadata": {},
   "outputs": [
    {
     "data": {
      "image/png": "[encoded data removed]",
      "text/plain": [
       "<Figure size 640x480 with 1 Axes>"
      ]
     },
     "metadata": {},
     "output_type": "display_data"
    }
   ],
   "source": [
    "plt.hist(min_age, weights=np.ones(len(min_age))/len(min_age), color = 'black', bins = 65)\n",
    "plt.gca().yaxis.set_major_formatter(PercentFormatter(1))\n",
    "plt.xlabel(\"Minimum Age of Participants\")\n",
    "plt.ylabel(\"Percentage of Studies\")\n",
    "plt.show()"
   ]
  },
  {
   "cell_type": "code",
   "execution_count": 71,
   "metadata": {},
   "outputs": [
    {
     "name": "stdout",
     "output_type": "stream",
     "text": [
      "95.0 13.58333333 81.41666667\n"
     ]
    },
    {
     "name": "stderr",
     "output_type": "stream",
     "text": [
      "/var/folders/fr/ll6js0lj7fn2yj36y64f4z4h0000gn/T/ipykernel_19772/1535142572.py:4: FutureWarning:\n",
      "\n",
      "Dropping of nuisance columns in DataFrame reductions (with 'numeric_only=None') is deprecated; in a future version this will raise TypeError.  Select only valid columns before calling the reduction.\n",
      "\n",
      "/var/folders/fr/ll6js0lj7fn2yj36y64f4z4h0000gn/T/ipykernel_19772/1535142572.py:5: FutureWarning:\n",
      "\n",
      "Dropping of nuisance columns in DataFrame reductions (with 'numeric_only=None') is deprecated; in a future version this will raise TypeError.  Select only valid columns before calling the reduction.\n",
      "\n"
     ]
    }
   ],
   "source": [
    "# print(cleaned[cleaned['Ma Age'] == cleaned['Ma Age'].max()])\n",
    "# print(cleaned[cleaned['Ma Age'] == cleaned['Ma Age'].min()])\n",
    "\n",
    "maxMax = cleaned.max(axis=0)['Ma Age']\n",
    "minMax = cleaned.min(axis=0)['Ma Age']\n",
    "maxBins = (maxMax-minMax)\n",
    "print(maxMax, minMax, maxBins)"
   ]
  },
  {
   "cell_type": "code",
   "execution_count": 72,
   "metadata": {},
   "outputs": [
    {
     "data": {
      "image/png": "[encoded data removed]",
      "text/plain": [
       "<Figure size 640x480 with 1 Axes>"
      ]
     },
     "metadata": {},
     "output_type": "display_data"
    }
   ],
   "source": [
    "plt.hist(max_age, weights=np.ones(len(max_age))/len(max_age), color = 'black', bins = 81)\n",
    "plt.gca().yaxis.set_major_formatter(PercentFormatter(1))\n",
    "plt.xlabel(\"Maximum Age of Participants\")\n",
    "plt.ylabel(\"Percentage of Studies\")\n",
    "plt.show()"
   ]
  }
 ],
 "metadata": {
  "kernelspec": {
   "display_name": "Python 3.9.12 ('base')",
   "language": "python",
   "name": "python3"
  },
  "language_info": {
   "codemirror_mode": {
    "name": "ipython",
    "version": 3
   },
   "file_extension": ".py",
   "mimetype": "text/x-python",
   "name": "python",
   "nbconvert_exporter": "python",
   "pygments_lexer": "ipython3",
   "version": "3.9.12"
  },
  "orig_nbformat": 4,
  "vscode": {
   "interpreter": {
    "hash": "f18071a42d92fbc88da9d46af891f6e9c0bbd8c91192c840e7f2450baaf7f4b6"
   }
  }
 },
 "nbformat": 4,
 "nbformat_minor": 2
}
