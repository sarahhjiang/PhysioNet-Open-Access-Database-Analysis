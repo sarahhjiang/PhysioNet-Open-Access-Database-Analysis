{
 "cells": [
  {
   "cell_type": "code",
   "execution_count": 1,
   "metadata": {},
   "outputs": [],
   "source": [
    "## prepare necessary packages\n",
    "import seaborn as sns\n",
    "import pandas as pd\n",
    "import matplotlib.pyplot as plt\n",
    "import numpy as np\n",
    "from matplotlib.ticker import PercentFormatter\n",
    "import scipy.stats\n",
    "from scipy import stats\n",
    "from scipy.stats import chi2, chi2_contingency"
   ]
  },
  {
   "cell_type": "markdown",
   "metadata": {},
   "source": [
    "###  Data Preparation"
   ]
  },
  {
   "cell_type": "code",
   "execution_count": 2,
   "metadata": {},
   "outputs": [
    {
     "name": "stdout",
     "output_type": "stream",
     "text": [
      "(175, 25)\n"
     ]
    },
    {
     "data": {
      "text/html": [
       "<div>\n",
       "<style scoped>\n",
       "    .dataframe tbody tr th:only-of-type {\n",
       "        vertical-align: middle;\n",
       "    }\n",
       "\n",
       "    .dataframe tbody tr th {\n",
       "        vertical-align: top;\n",
       "    }\n",
       "\n",
       "    .dataframe thead th {\n",
       "        text-align: right;\n",
       "    }\n",
       "</style>\n",
       "<table border=\"1\" class=\"dataframe\">\n",
       "  <thead>\n",
       "    <tr style=\"text-align: right;\">\n",
       "      <th></th>\n",
       "      <th>Study Name</th>\n",
       "      <th>Year Posted (most recent, Physionet)</th>\n",
       "      <th>Year Published (Paper)</th>\n",
       "      <th>Race</th>\n",
       "      <th>Race Present</th>\n",
       "      <th>Ethnicity</th>\n",
       "      <th>Ethnicity Present</th>\n",
       "      <th>Study sample size</th>\n",
       "      <th>Sex Present</th>\n",
       "      <th>Male</th>\n",
       "      <th>...</th>\n",
       "      <th>Age Present</th>\n",
       "      <th>Average Age (years)</th>\n",
       "      <th>Min Age (years)</th>\n",
       "      <th>Max Age (years)</th>\n",
       "      <th>Country/Region</th>\n",
       "      <th>Location</th>\n",
       "      <th>Pre-existing conditions and/or Symptoms</th>\n",
       "      <th>Instruments used</th>\n",
       "      <th>Data Collected (differnent levels of)</th>\n",
       "      <th>Field</th>\n",
       "    </tr>\n",
       "  </thead>\n",
       "  <tbody>\n",
       "    <tr>\n",
       "      <th>0</th>\n",
       "      <td>A large scale 12-lead electrocardiogram databa...</td>\n",
       "      <td>Aug 2022</td>\n",
       "      <td>February 2020</td>\n",
       "      <td>X</td>\n",
       "      <td>0</td>\n",
       "      <td>X</td>\n",
       "      <td>0</td>\n",
       "      <td>45,152 patients</td>\n",
       "      <td>1</td>\n",
       "      <td>25454</td>\n",
       "      <td>...</td>\n",
       "      <td>1</td>\n",
       "      <td>58.2</td>\n",
       "      <td>0</td>\n",
       "      <td>89</td>\n",
       "      <td>China</td>\n",
       "      <td>Chapman University, Shaoxing People's Hospital...</td>\n",
       "      <td>Includes information about pre-existing condit...</td>\n",
       "      <td>GE MUSE ECG System</td>\n",
       "      <td>NaN</td>\n",
       "      <td>cardiac_electrophysiology</td>\n",
       "    </tr>\n",
       "    <tr>\n",
       "      <th>1</th>\n",
       "      <td>A multi-camera and multimodal dataset for post...</td>\n",
       "      <td>Nov 2021</td>\n",
       "      <td>X</td>\n",
       "      <td>X</td>\n",
       "      <td>0</td>\n",
       "      <td>X</td>\n",
       "      <td>0</td>\n",
       "      <td>14</td>\n",
       "      <td>1</td>\n",
       "      <td>10</td>\n",
       "      <td>...</td>\n",
       "      <td>1</td>\n",
       "      <td>25.4</td>\n",
       "      <td>18</td>\n",
       "      <td>30</td>\n",
       "      <td>Portugal</td>\n",
       "      <td>Portugal (University of Minho)</td>\n",
       "      <td>No clinical history of any abnormalities</td>\n",
       "      <td>MVN BIOMECH</td>\n",
       "      <td>walking straight in a corridor, turning right ...</td>\n",
       "      <td>gait/balance/motion</td>\n",
       "    </tr>\n",
       "    <tr>\n",
       "      <th>2</th>\n",
       "      <td>A Pressure Map Dataset for In-bed Posture Clas...</td>\n",
       "      <td>Sep 2017</td>\n",
       "      <td>Apr 2017</td>\n",
       "      <td>X</td>\n",
       "      <td>0</td>\n",
       "      <td>X</td>\n",
       "      <td>0</td>\n",
       "      <td>Experiment 1: 13 participants               Ex...</td>\n",
       "      <td>0</td>\n",
       "      <td>X</td>\n",
       "      <td>...</td>\n",
       "      <td>1</td>\n",
       "      <td>26.9</td>\n",
       "      <td>19</td>\n",
       "      <td>34</td>\n",
       "      <td>USA</td>\n",
       "      <td>Texas (University of Texas at Dallas)</td>\n",
       "      <td>X</td>\n",
       "      <td>Experiment 1: Vista Medical FSA SoftFlex 2048 ...</td>\n",
       "      <td>in-bed posture pressure data</td>\n",
       "      <td>other</td>\n",
       "    </tr>\n",
       "    <tr>\n",
       "      <th>3</th>\n",
       "      <td>A Wearable Exam Stress Dataset for Predicting ...</td>\n",
       "      <td>May 2022</td>\n",
       "      <td>Mar 2022</td>\n",
       "      <td>X</td>\n",
       "      <td>0</td>\n",
       "      <td>X</td>\n",
       "      <td>0</td>\n",
       "      <td>10</td>\n",
       "      <td>1</td>\n",
       "      <td>8</td>\n",
       "      <td>...</td>\n",
       "      <td>0</td>\n",
       "      <td>X</td>\n",
       "      <td>X</td>\n",
       "      <td>X</td>\n",
       "      <td>USA</td>\n",
       "      <td>Texas (University of Houston</td>\n",
       "      <td>X</td>\n",
       "      <td>Empatica E4 wristband</td>\n",
       "      <td>electrodermal activity, heart rate, blood vol...</td>\n",
       "      <td>multi_parameter</td>\n",
       "    </tr>\n",
       "    <tr>\n",
       "      <th>4</th>\n",
       "      <td>Abdominal and Direct Fetal ECG Database</td>\n",
       "      <td>Aug 2012</td>\n",
       "      <td>2012</td>\n",
       "      <td>X</td>\n",
       "      <td>0</td>\n",
       "      <td>X</td>\n",
       "      <td>0</td>\n",
       "      <td>5 women in labor were analyzed</td>\n",
       "      <td>1</td>\n",
       "      <td>0</td>\n",
       "      <td>...</td>\n",
       "      <td>0</td>\n",
       "      <td>X</td>\n",
       "      <td>X</td>\n",
       "      <td>X</td>\n",
       "      <td>Poland</td>\n",
       "      <td>Department of Obstetrics at the Medical Univer...</td>\n",
       "      <td>Women in labor</td>\n",
       "      <td>KOMPOREL System (ITAM Institute, Zabrze, Polan...</td>\n",
       "      <td>NaN</td>\n",
       "      <td>cardiac_electrophysiology</td>\n",
       "    </tr>\n",
       "  </tbody>\n",
       "</table>\n",
       "<p>5 rows × 25 columns</p>\n",
       "</div>"
      ],
      "text/plain": [
       "                                          Study Name  \\\n",
       "0  A large scale 12-lead electrocardiogram databa...   \n",
       "1  A multi-camera and multimodal dataset for post...   \n",
       "2  A Pressure Map Dataset for In-bed Posture Clas...   \n",
       "3  A Wearable Exam Stress Dataset for Predicting ...   \n",
       "4            Abdominal and Direct Fetal ECG Database   \n",
       "\n",
       "  Year Posted (most recent, Physionet) Year Published (Paper) Race  \\\n",
       "0                             Aug 2022          February 2020    X   \n",
       "1                             Nov 2021                      X    X   \n",
       "2                             Sep 2017               Apr 2017    X   \n",
       "3                             May 2022               Mar 2022    X   \n",
       "4                             Aug 2012                   2012    X   \n",
       "\n",
       "   Race Present Ethnicity  Ethnicity Present  \\\n",
       "0             0         X                  0   \n",
       "1             0         X                  0   \n",
       "2             0         X                  0   \n",
       "3             0         X                  0   \n",
       "4             0         X                  0   \n",
       "\n",
       "                                   Study sample size  Sex Present   Male  ...  \\\n",
       "0                                    45,152 patients            1  25454  ...   \n",
       "1                                                 14            1     10  ...   \n",
       "2  Experiment 1: 13 participants               Ex...            0      X  ...   \n",
       "3                                                 10            1      8  ...   \n",
       "4                     5 women in labor were analyzed            1      0  ...   \n",
       "\n",
       "  Age Present Average Age (years) Min Age (years) Max Age (years)  \\\n",
       "0           1                58.2               0              89   \n",
       "1           1                25.4              18              30   \n",
       "2           1                26.9              19              34   \n",
       "3           0                   X               X               X   \n",
       "4           0                   X               X               X   \n",
       "\n",
       "  Country/Region                                          Location   \\\n",
       "0          China  Chapman University, Shaoxing People's Hospital...   \n",
       "1       Portugal                     Portugal (University of Minho)   \n",
       "2            USA            Texas (University of Texas at Dallas)     \n",
       "3            USA                       Texas (University of Houston   \n",
       "4         Poland  Department of Obstetrics at the Medical Univer...   \n",
       "\n",
       "             Pre-existing conditions and/or Symptoms  \\\n",
       "0  Includes information about pre-existing condit...   \n",
       "1           No clinical history of any abnormalities   \n",
       "2                                                  X   \n",
       "3                                                  X   \n",
       "4                                     Women in labor   \n",
       "\n",
       "                                    Instruments used  \\\n",
       "0                                 GE MUSE ECG System   \n",
       "1                                        MVN BIOMECH   \n",
       "2  Experiment 1: Vista Medical FSA SoftFlex 2048 ...   \n",
       "3                              Empatica E4 wristband   \n",
       "4  KOMPOREL System (ITAM Institute, Zabrze, Polan...   \n",
       "\n",
       "               Data Collected (differnent levels of)  \\\n",
       "0                                                NaN   \n",
       "1  walking straight in a corridor, turning right ...   \n",
       "2                       in-bed posture pressure data   \n",
       "3   electrodermal activity, heart rate, blood vol...   \n",
       "4                                                NaN   \n",
       "\n",
       "                       Field  \n",
       "0  cardiac_electrophysiology  \n",
       "1        gait/balance/motion  \n",
       "2                      other  \n",
       "3            multi_parameter  \n",
       "4  cardiac_electrophysiology  \n",
       "\n",
       "[5 rows x 25 columns]"
      ]
     },
     "execution_count": 2,
     "metadata": {},
     "output_type": "execute_result"
    }
   ],
   "source": [
    "## read in csv as pandas dataframe\n",
    "\n",
    "participant_data = pd.read_csv(\"final_data.csv\")\n",
    "print(participant_data.shape)\n",
    "participant_data.head()"
   ]
  },
  {
   "cell_type": "code",
   "execution_count": 3,
   "metadata": {},
   "outputs": [
    {
     "name": "stdout",
     "output_type": "stream",
     "text": [
      "Race       23\n",
      "Ethn.      14\n",
      "Gender    142\n",
      "Age       139\n",
      "dtype: int64\n"
     ]
    }
   ],
   "source": [
    "## assign column names, read in data, and print out the first 5 rows\n",
    "\n",
    "data = participant_data[['Race Present', 'Ethnicity Present', 'Sex Present', 'Age Present']]\n",
    "data = data.rename(columns={\"Race Present\": \"Race\", \"Ethnicity Present\": \"Ethn.\", \"Age Present\": \"Age\", \"Sex Present\": \"Gender\"})\n",
    "data.head()\n",
    "sums = data.sum()\n",
    "print(sums)\n",
    "data = data.astype(float)\n"
   ]
  },
  {
   "cell_type": "markdown",
   "metadata": {},
   "source": [
    "### Summary Analysis\n",
    "\n",
    "Includes: summary statistics, reporting frequencies, age distributions"
   ]
  },
  {
   "cell_type": "code",
   "execution_count": 4,
   "metadata": {},
   "outputs": [
    {
     "name": "stdout",
     "output_type": "stream",
     "text": [
      "Count of rows where all columns are 1: 12\n",
      "Count of rows where all columns are 0: 25\n",
      "Count of rows where at least one column is 1: 150\n",
      "Count of rows where at least two columns are 1: 110\n",
      "Count of age and gender reported:  131\n",
      "Count of race and ethnicity:  14\n"
     ]
    }
   ],
   "source": [
    "# Count rows where all four columns are 1\n",
    "count_all_ones = data[(data['Race'] == 1) &\n",
    "                      (data['Ethn.'] == 1) &\n",
    "                      (data['Gender'] == 1) &\n",
    "                      (data['Age'] == 1)].shape[0]\n",
    "\n",
    "# Count rows where all four columns are 0\n",
    "count_all_zeros = data[(data['Race'] == 0) &\n",
    "                       (data['Ethn.'] == 0) &\n",
    "                       (data['Gender'] == 0) &\n",
    "                       (data['Age'] == 0)].shape[0]\n",
    "\n",
    "# Count rows where at least one column is 1\n",
    "count_at_least_one = data[(data['Race'] == 1) |\n",
    "                       (data['Ethn.'] == 1) |\n",
    "                       (data['Gender'] == 1) |\n",
    "                       (data['Age'] == 1)].shape[0]\n",
    "\n",
    "# Count rows where at least 2 columns are 1\n",
    "count_twos = data[data.sum(axis=1) == 2].shape[0]\n",
    "\n",
    "age_and_gender = data[\n",
    "                       (data['Gender'] == 1) &\n",
    "                       (data['Age'] == 1)].shape[0]\n",
    "\n",
    "race_and_ethn = data[(data['Race'] == 1) &\n",
    "                       (data['Ethn.'] == 1)].shape[0]\n",
    "\n",
    "print(\"Count of rows where all columns are 1:\", count_all_ones)\n",
    "print(\"Count of rows where all columns are 0:\", count_all_zeros)\n",
    "print(\"Count of rows where at least one column is 1:\", count_at_least_one)\n",
    "print(\"Count of rows where at least two columns are 1:\", count_twos)\n",
    "print(\"Count of age and gender reported: \", age_and_gender)\n",
    "print(\"Count of race and ethnicity: \", race_and_ethn)\n"
   ]
  },
  {
   "cell_type": "code",
   "execution_count": 5,
   "metadata": {},
   "outputs": [
    {
     "data": {
      "image/png": "[encoded data removed]",
      "text/plain": [
       "<Figure size 640x480 with 1 Axes>"
      ]
     },
     "metadata": {},
     "output_type": "display_data"
    }
   ],
   "source": [
    "## Bar graph of demographics reporting frequency\n",
    "\n",
    "def addlabels(x, y, c):\n",
    "    for i in range(len(x)):\n",
    "        plt.text(i, y[i]+2, c[i], ha='center', color='darkred')  # choose a color so the number above the bar is not confused with the y-axis labels\n",
    "\n",
    "simple = {'Gender': sums[2] / 1.75, 'Age': sums[3] / 1.75, 'Race': sums[0] / 1.75, 'Ethn.': sums[1] / 1.75}\n",
    "\n",
    "vars = list(simple.keys())\n",
    "values = list(simple.values())\n",
    "\n",
    "fig, ax = plt.subplots()\n",
    "plt.bar(vars, values, color='grey', edgecolor='black')\n",
    "plt.title('Demographic Variable Presence in PhysioNet Datasets\\n(n = 175)')\n",
    "plt.ylabel(\"Percentage of Studies Reporting\")\n",
    "plt.xlabel(\"Variable\")\n",
    "plt.ylim(0, 100)\n",
    "# fig.set_size_inches(3, 3)\n",
    "counts = [sums[2], sums[3], sums[0], sums[1]]\n",
    "addlabels(vars, values, counts)\n",
    "\n",
    "plt.annotate('*', xy=(.5, 90), ha='center', color='black', fontsize=12, weight='bold')\n",
    "plt.annotate(\"\", xy=(0, 90), xytext=(1, 90), arrowprops=dict(arrowstyle='|-|, widthB=1.0', lw=1.0, color='black'))\n",
    "\n",
    "plt.annotate('*', xy=(2.5, 19), ha='center', color='black', fontsize=12, weight='bold')\n",
    "plt.annotate(\"\", xy=(2, 19), xytext=(3, 19), arrowprops=dict(arrowstyle='|-|, widthB=1.0', lw=1.0, color='black'))\n",
    "# save as svg\n",
    "plt.savefig(\"dembar.svg\", format=\"svg\", bbox_inches=\"tight\")\n",
    "plt.show()\n"
   ]
  },
  {
   "cell_type": "code",
   "execution_count": 6,
   "metadata": {},
   "outputs": [
    {
     "name": "stdout",
     "output_type": "stream",
     "text": [
      "(175, 4)\n"
     ]
    },
    {
     "data": {
      "text/html": [
       "<div>\n",
       "<style scoped>\n",
       "    .dataframe tbody tr th:only-of-type {\n",
       "        vertical-align: middle;\n",
       "    }\n",
       "\n",
       "    .dataframe tbody tr th {\n",
       "        vertical-align: top;\n",
       "    }\n",
       "\n",
       "    .dataframe thead th {\n",
       "        text-align: right;\n",
       "    }\n",
       "</style>\n",
       "<table border=\"1\" class=\"dataframe\">\n",
       "  <thead>\n",
       "    <tr style=\"text-align: right;\">\n",
       "      <th></th>\n",
       "      <th>Age Present</th>\n",
       "      <th>Average Age (years)</th>\n",
       "      <th>Min Age (years)</th>\n",
       "      <th>Max Age (years)</th>\n",
       "    </tr>\n",
       "  </thead>\n",
       "  <tbody>\n",
       "    <tr>\n",
       "      <th>0</th>\n",
       "      <td>1</td>\n",
       "      <td>58.2</td>\n",
       "      <td>0</td>\n",
       "      <td>89</td>\n",
       "    </tr>\n",
       "    <tr>\n",
       "      <th>1</th>\n",
       "      <td>1</td>\n",
       "      <td>25.4</td>\n",
       "      <td>18</td>\n",
       "      <td>30</td>\n",
       "    </tr>\n",
       "    <tr>\n",
       "      <th>2</th>\n",
       "      <td>1</td>\n",
       "      <td>26.9</td>\n",
       "      <td>19</td>\n",
       "      <td>34</td>\n",
       "    </tr>\n",
       "    <tr>\n",
       "      <th>3</th>\n",
       "      <td>0</td>\n",
       "      <td>X</td>\n",
       "      <td>X</td>\n",
       "      <td>X</td>\n",
       "    </tr>\n",
       "    <tr>\n",
       "      <th>4</th>\n",
       "      <td>0</td>\n",
       "      <td>X</td>\n",
       "      <td>X</td>\n",
       "      <td>X</td>\n",
       "    </tr>\n",
       "  </tbody>\n",
       "</table>\n",
       "</div>"
      ],
      "text/plain": [
       "   Age Present Average Age (years) Min Age (years) Max Age (years)\n",
       "0            1                58.2               0              89\n",
       "1            1                25.4              18              30\n",
       "2            1                26.9              19              34\n",
       "3            0                   X               X               X\n",
       "4            0                   X               X               X"
      ]
     },
     "execution_count": 6,
     "metadata": {},
     "output_type": "execute_result"
    }
   ],
   "source": [
    "## isolate age data from total participants data\n",
    "\n",
    "age_data = participant_data[['Age Present', 'Average Age (years)', 'Min Age (years)', 'Max Age (years)']]\n",
    "print(age_data.shape)\n",
    "age_data.head()"
   ]
  },
  {
   "cell_type": "code",
   "execution_count": 7,
   "metadata": {},
   "outputs": [
    {
     "name": "stdout",
     "output_type": "stream",
     "text": [
      "(114,)\n",
      "count    114.000000\n",
      "mean      42.018561\n",
      "std       18.410324\n",
      "min        0.597000\n",
      "25%       26.400000\n",
      "50%       39.900000\n",
      "75%       59.375000\n",
      "max       78.360000\n",
      "Name: Average Age (years), dtype: float64\n"
     ]
    },
    {
     "name": "stderr",
     "output_type": "stream",
     "text": [
      "/var/folders/9t/bfky7rw11ddg09p6d0lb88jc0000gn/T/ipykernel_93232/2928666612.py:1: SettingWithCopyWarning: \n",
      "A value is trying to be set on a copy of a slice from a DataFrame\n",
      "\n",
      "See the caveats in the documentation: https://pandas.pydata.org/pandas-docs/stable/user_guide/indexing.html#returning-a-view-versus-a-copy\n",
      "  age_data.replace(\"X\", np.nan, inplace=True)\n",
      "/var/folders/9t/bfky7rw11ddg09p6d0lb88jc0000gn/T/ipykernel_93232/2928666612.py:2: SettingWithCopyWarning: \n",
      "A value is trying to be set on a copy of a slice from a DataFrame\n",
      "\n",
      "See the caveats in the documentation: https://pandas.pydata.org/pandas-docs/stable/user_guide/indexing.html#returning-a-view-versus-a-copy\n",
      "  avg_age = age_data.dropna(subset=['Average Age (years)'], inplace=True)\n"
     ]
    }
   ],
   "source": [
    "age_data.replace(\"X\", np.nan, inplace=True)\n",
    "avg_age = age_data.dropna(subset=['Average Age (years)'], inplace=True)\n",
    "avg_age = age_data['Average Age (years)'].astype(float)\n",
    "print(avg_age.shape)\n",
    "avg_age.head()\n",
    "print(avg_age.describe())"
   ]
  },
  {
   "cell_type": "code",
   "execution_count": 8,
   "metadata": {},
   "outputs": [
    {
     "name": "stdout",
     "output_type": "stream",
     "text": [
      "78.36 0.597 77.763\n",
      "42.01856140350877\n",
      "39.9\n"
     ]
    }
   ],
   "source": [
    "## change 'Average Age' to 'Min Age' or 'Max Age' for min/max age histograms and density plots\n",
    "\n",
    "maxAvg = avg_age.max()\n",
    "minAvg = avg_age.min()\n",
    "avgBins = (maxAvg-minAvg)\n",
    "print(maxAvg, minAvg, avgBins)\n",
    "print(avg_age.mean())\n",
    "print(avg_age.median())"
   ]
  },
  {
   "cell_type": "code",
   "execution_count": 9,
   "metadata": {},
   "outputs": [
    {
     "data": {
      "image/png": "[encoded data removed]",
      "text/plain": [
       "<Figure size 600x300 with 2 Axes>"
      ]
     },
     "metadata": {},
     "output_type": "display_data"
    }
   ],
   "source": [
    "## age distribution histogram and density plots\n",
    "\n",
    "fig, ax = plt.subplots()\n",
    "plt.xlabel(\"Average Age of Participants \\n (Total N = 95)\")\n",
    "plt.ylabel(\"Density\")\n",
    "ax2 = ax.twinx()\n",
    "# set size 6x3\n",
    "fig.set_size_inches(6, 3)\n",
    "sns.histplot(avg_age, kde=True, ax=ax2, bins = 73, color = 'navy')\n",
    "plt.hist(avg_age, color = 'grey', bins = 73, edgecolor = 'black', linewidth = .4)\n",
    "plt.ylabel(\"Number of Studies\")\n",
    "plt.tight_layout()\n",
    "\n",
    "plt.savefig(\"agehist.svg\", format=\"svg\", bbox_inches=\"tight\")\n",
    "\n",
    "plt.show()\n"
   ]
  },
  {
   "cell_type": "code",
   "execution_count": 10,
   "metadata": {},
   "outputs": [
    {
     "name": "stdout",
     "output_type": "stream",
     "text": [
      "Bootstrap 95% CI for the mean: (38.707731578947374, 45.46206293859649)\n",
      "Bootstrap 95% CI for the median: (30.1, 49.05)\n"
     ]
    }
   ],
   "source": [
    "## bootstrap confidence interval for the mean and median ages\n",
    "\n",
    "## mean\n",
    "\n",
    "samples = 10000  \n",
    "\n",
    "def bootstrap_mean(data):\n",
    "    resample = np.random.choice(data, size=len(data), replace=True)\n",
    "    return np.mean(resample)\n",
    "\n",
    "bootstrap_means = [bootstrap_mean(avg_age) for _ in range(samples)]\n",
    "\n",
    "lower_percentile = .025\n",
    "upper_percentile = 1 - lower_percentile\n",
    "\n",
    "mean_lci = np.percentile(bootstrap_means, lower_percentile * 100)\n",
    "mean_uci = np.percentile(bootstrap_means, upper_percentile * 100)\n",
    "\n",
    "print(\"Bootstrap 95% CI for the mean:\", (mean_lci, mean_uci))\n",
    "\n",
    "## median \n",
    "\n",
    "def bootstrap_median(data):\n",
    "    resample = np.random.choice(data, size=len(data), replace=True)\n",
    "    return np.median(resample)\n",
    "\n",
    "bootstrap_medians = [bootstrap_median(avg_age) for _ in range(samples)]\n",
    "\n",
    "lower_percentile = (1 - 0.95) / 2\n",
    "upper_percentile = 1 - lower_percentile\n",
    "\n",
    "med_lci = np.percentile(bootstrap_medians, lower_percentile * 100)\n",
    "med_uci = np.percentile(bootstrap_medians, upper_percentile * 100)\n",
    "\n",
    "print(\"Bootstrap 95% CI for the median:\", (med_lci, med_uci))"
   ]
  },
  {
   "cell_type": "markdown",
   "metadata": {},
   "source": [
    "### Reporting Dependencies\n",
    "\n",
    "Includes: chi-squared tests, visualizations"
   ]
  },
  {
   "cell_type": "code",
   "execution_count": 11,
   "metadata": {},
   "outputs": [
    {
     "name": "stdout",
     "output_type": "stream",
     "text": [
      "(166, 25)\n"
     ]
    },
    {
     "data": {
      "text/html": [
       "<div>\n",
       "<style scoped>\n",
       "    .dataframe tbody tr th:only-of-type {\n",
       "        vertical-align: middle;\n",
       "    }\n",
       "\n",
       "    .dataframe tbody tr th {\n",
       "        vertical-align: top;\n",
       "    }\n",
       "\n",
       "    .dataframe thead th {\n",
       "        text-align: right;\n",
       "    }\n",
       "</style>\n",
       "<table border=\"1\" class=\"dataframe\">\n",
       "  <thead>\n",
       "    <tr style=\"text-align: right;\">\n",
       "      <th></th>\n",
       "      <th>Study Name</th>\n",
       "      <th>Year Posted (most recent, Physionet)</th>\n",
       "      <th>Year Published (Paper)</th>\n",
       "      <th>Race</th>\n",
       "      <th>Race Present</th>\n",
       "      <th>Ethnicity</th>\n",
       "      <th>Ethnicity Present</th>\n",
       "      <th>Study sample size</th>\n",
       "      <th>Sex Present</th>\n",
       "      <th>Male</th>\n",
       "      <th>...</th>\n",
       "      <th>Age Present</th>\n",
       "      <th>Average Age (years)</th>\n",
       "      <th>Min Age (years)</th>\n",
       "      <th>Max Age (years)</th>\n",
       "      <th>Country/Region</th>\n",
       "      <th>Location</th>\n",
       "      <th>Pre-existing conditions and/or Symptoms</th>\n",
       "      <th>Instruments used</th>\n",
       "      <th>Data Collected (differnent levels of)</th>\n",
       "      <th>Field</th>\n",
       "    </tr>\n",
       "  </thead>\n",
       "  <tbody>\n",
       "    <tr>\n",
       "      <th>0</th>\n",
       "      <td>A large scale 12-lead electrocardiogram databa...</td>\n",
       "      <td>Aug 2022</td>\n",
       "      <td>February 2020</td>\n",
       "      <td>X</td>\n",
       "      <td>0</td>\n",
       "      <td>X</td>\n",
       "      <td>0</td>\n",
       "      <td>45,152 patients</td>\n",
       "      <td>1</td>\n",
       "      <td>25454</td>\n",
       "      <td>...</td>\n",
       "      <td>1</td>\n",
       "      <td>58.2</td>\n",
       "      <td>0</td>\n",
       "      <td>89</td>\n",
       "      <td>China</td>\n",
       "      <td>Chapman University, Shaoxing People's Hospital...</td>\n",
       "      <td>Includes information about pre-existing condit...</td>\n",
       "      <td>GE MUSE ECG System</td>\n",
       "      <td>NaN</td>\n",
       "      <td>cardiac_electrophysiology</td>\n",
       "    </tr>\n",
       "    <tr>\n",
       "      <th>1</th>\n",
       "      <td>A multi-camera and multimodal dataset for post...</td>\n",
       "      <td>Nov 2021</td>\n",
       "      <td>X</td>\n",
       "      <td>X</td>\n",
       "      <td>0</td>\n",
       "      <td>X</td>\n",
       "      <td>0</td>\n",
       "      <td>14</td>\n",
       "      <td>1</td>\n",
       "      <td>10</td>\n",
       "      <td>...</td>\n",
       "      <td>1</td>\n",
       "      <td>25.4</td>\n",
       "      <td>18</td>\n",
       "      <td>30</td>\n",
       "      <td>Portugal</td>\n",
       "      <td>Portugal (University of Minho)</td>\n",
       "      <td>No clinical history of any abnormalities</td>\n",
       "      <td>MVN BIOMECH</td>\n",
       "      <td>walking straight in a corridor, turning right ...</td>\n",
       "      <td>gait/balance/motion</td>\n",
       "    </tr>\n",
       "    <tr>\n",
       "      <th>2</th>\n",
       "      <td>A Pressure Map Dataset for In-bed Posture Clas...</td>\n",
       "      <td>Sep 2017</td>\n",
       "      <td>Apr 2017</td>\n",
       "      <td>X</td>\n",
       "      <td>0</td>\n",
       "      <td>X</td>\n",
       "      <td>0</td>\n",
       "      <td>Experiment 1: 13 participants               Ex...</td>\n",
       "      <td>0</td>\n",
       "      <td>X</td>\n",
       "      <td>...</td>\n",
       "      <td>1</td>\n",
       "      <td>26.9</td>\n",
       "      <td>19</td>\n",
       "      <td>34</td>\n",
       "      <td>USA</td>\n",
       "      <td>Texas (University of Texas at Dallas)</td>\n",
       "      <td>X</td>\n",
       "      <td>Experiment 1: Vista Medical FSA SoftFlex 2048 ...</td>\n",
       "      <td>in-bed posture pressure data</td>\n",
       "      <td>other</td>\n",
       "    </tr>\n",
       "    <tr>\n",
       "      <th>3</th>\n",
       "      <td>A Wearable Exam Stress Dataset for Predicting ...</td>\n",
       "      <td>May 2022</td>\n",
       "      <td>Mar 2022</td>\n",
       "      <td>X</td>\n",
       "      <td>0</td>\n",
       "      <td>X</td>\n",
       "      <td>0</td>\n",
       "      <td>10</td>\n",
       "      <td>1</td>\n",
       "      <td>8</td>\n",
       "      <td>...</td>\n",
       "      <td>0</td>\n",
       "      <td>X</td>\n",
       "      <td>X</td>\n",
       "      <td>X</td>\n",
       "      <td>USA</td>\n",
       "      <td>Texas (University of Houston</td>\n",
       "      <td>X</td>\n",
       "      <td>Empatica E4 wristband</td>\n",
       "      <td>electrodermal activity, heart rate, blood vol...</td>\n",
       "      <td>multi_parameter</td>\n",
       "    </tr>\n",
       "    <tr>\n",
       "      <th>4</th>\n",
       "      <td>Abdominal and Direct Fetal ECG Database</td>\n",
       "      <td>Aug 2012</td>\n",
       "      <td>2012</td>\n",
       "      <td>X</td>\n",
       "      <td>0</td>\n",
       "      <td>X</td>\n",
       "      <td>0</td>\n",
       "      <td>5 women in labor were analyzed</td>\n",
       "      <td>1</td>\n",
       "      <td>0</td>\n",
       "      <td>...</td>\n",
       "      <td>0</td>\n",
       "      <td>X</td>\n",
       "      <td>X</td>\n",
       "      <td>X</td>\n",
       "      <td>Poland</td>\n",
       "      <td>Department of Obstetrics at the Medical Univer...</td>\n",
       "      <td>Women in labor</td>\n",
       "      <td>KOMPOREL System (ITAM Institute, Zabrze, Polan...</td>\n",
       "      <td>NaN</td>\n",
       "      <td>cardiac_electrophysiology</td>\n",
       "    </tr>\n",
       "  </tbody>\n",
       "</table>\n",
       "<p>5 rows × 25 columns</p>\n",
       "</div>"
      ],
      "text/plain": [
       "                                          Study Name  \\\n",
       "0  A large scale 12-lead electrocardiogram databa...   \n",
       "1  A multi-camera and multimodal dataset for post...   \n",
       "2  A Pressure Map Dataset for In-bed Posture Clas...   \n",
       "3  A Wearable Exam Stress Dataset for Predicting ...   \n",
       "4            Abdominal and Direct Fetal ECG Database   \n",
       "\n",
       "  Year Posted (most recent, Physionet) Year Published (Paper) Race  \\\n",
       "0                             Aug 2022          February 2020    X   \n",
       "1                             Nov 2021                      X    X   \n",
       "2                             Sep 2017               Apr 2017    X   \n",
       "3                             May 2022               Mar 2022    X   \n",
       "4                             Aug 2012                   2012    X   \n",
       "\n",
       "   Race Present Ethnicity  Ethnicity Present  \\\n",
       "0             0         X                  0   \n",
       "1             0         X                  0   \n",
       "2             0         X                  0   \n",
       "3             0         X                  0   \n",
       "4             0         X                  0   \n",
       "\n",
       "                                   Study sample size  Sex Present   Male  ...  \\\n",
       "0                                    45,152 patients            1  25454  ...   \n",
       "1                                                 14            1     10  ...   \n",
       "2  Experiment 1: 13 participants               Ex...            0      X  ...   \n",
       "3                                                 10            1      8  ...   \n",
       "4                     5 women in labor were analyzed            1      0  ...   \n",
       "\n",
       "  Age Present Average Age (years) Min Age (years) Max Age (years)  \\\n",
       "0           1                58.2               0              89   \n",
       "1           1                25.4              18              30   \n",
       "2           1                26.9              19              34   \n",
       "3           0                   X               X               X   \n",
       "4           0                   X               X               X   \n",
       "\n",
       "  Country/Region                                          Location   \\\n",
       "0          China  Chapman University, Shaoxing People's Hospital...   \n",
       "1       Portugal                     Portugal (University of Minho)   \n",
       "2            USA            Texas (University of Texas at Dallas)     \n",
       "3            USA                       Texas (University of Houston   \n",
       "4         Poland  Department of Obstetrics at the Medical Univer...   \n",
       "\n",
       "             Pre-existing conditions and/or Symptoms  \\\n",
       "0  Includes information about pre-existing condit...   \n",
       "1           No clinical history of any abnormalities   \n",
       "2                                                  X   \n",
       "3                                                  X   \n",
       "4                                     Women in labor   \n",
       "\n",
       "                                    Instruments used  \\\n",
       "0                                 GE MUSE ECG System   \n",
       "1                                        MVN BIOMECH   \n",
       "2  Experiment 1: Vista Medical FSA SoftFlex 2048 ...   \n",
       "3                              Empatica E4 wristband   \n",
       "4  KOMPOREL System (ITAM Institute, Zabrze, Polan...   \n",
       "\n",
       "               Data Collected (differnent levels of)  \\\n",
       "0                                                NaN   \n",
       "1  walking straight in a corridor, turning right ...   \n",
       "2                       in-bed posture pressure data   \n",
       "3   electrodermal activity, heart rate, blood vol...   \n",
       "4                                                NaN   \n",
       "\n",
       "                       Field  \n",
       "0  cardiac_electrophysiology  \n",
       "1        gait/balance/motion  \n",
       "2                      other  \n",
       "3            multi_parameter  \n",
       "4  cardiac_electrophysiology  \n",
       "\n",
       "[5 rows x 25 columns]"
      ]
     },
     "execution_count": 11,
     "metadata": {},
     "output_type": "execute_result"
    }
   ],
   "source": [
    "chi2_data = pd.read_csv(\"chi2_data.csv\")\n",
    "print(chi2_data.shape)\n",
    "chi2_data.head()"
   ]
  },
  {
   "cell_type": "code",
   "execution_count": 12,
   "metadata": {},
   "outputs": [
    {
     "name": "stdout",
     "output_type": "stream",
     "text": [
      "Race Age table :\n",
      " Age Present    0    1\n",
      "Race Present         \n",
      "0             31  117\n",
      "1              1   17\n"
     ]
    }
   ],
   "source": [
    "raceAgeInd=pd.crosstab(chi2_data[\"Race Present\"],chi2_data[\"Age Present\"])\n",
    "print('Race Age table :\\n',raceAgeInd)"
   ]
  },
  {
   "cell_type": "code",
   "execution_count": 13,
   "metadata": {},
   "outputs": [
    {
     "name": "stdout",
     "output_type": "stream",
     "text": [
      "chi2 statistic:     1.5539\n",
      "p-value:            0.21257\n",
      "degrees of freedom: 1\n",
      "expected frequencies:\n",
      " [[ 28.53012048 119.46987952]\n",
      " [  3.46987952  14.53012048]]\n"
     ]
    }
   ],
   "source": [
    "chi2_stat, ra_p, dof, expected = scipy.stats.chi2_contingency(raceAgeInd)\n",
    " \n",
    "print(f\"chi2 statistic:     {chi2_stat:.5g}\")\n",
    "print(f\"p-value:            {ra_p:.5g}\")\n",
    "print(f\"degrees of freedom: {dof}\")\n",
    "print(\"expected frequencies:\\n\",expected)\n"
   ]
  },
  {
   "cell_type": "code",
   "execution_count": 14,
   "metadata": {},
   "outputs": [
    {
     "name": "stdout",
     "output_type": "stream",
     "text": [
      "Race Gender table :\n",
      " Sex Present    0    1\n",
      "Race Present         \n",
      "0             31  117\n",
      "1              0   18\n"
     ]
    }
   ],
   "source": [
    "raceGenderInd=pd.crosstab(chi2_data[\"Race Present\"],chi2_data[\"Sex Present\"])\n",
    "print('Race Gender table :\\n',raceGenderInd)"
   ]
  },
  {
   "cell_type": "code",
   "execution_count": 15,
   "metadata": {},
   "outputs": [
    {
     "name": "stdout",
     "output_type": "stream",
     "text": [
      "chi2 statistic:     3.3594\n",
      "p-value:            0.066821\n",
      "degrees of freedom: 1\n",
      "expected frequencies:\n",
      " [[ 27.63855422 120.36144578]\n",
      " [  3.36144578  14.63855422]]\n"
     ]
    }
   ],
   "source": [
    "chi2_stat, rg_p, dof, expected = scipy.stats.chi2_contingency(raceGenderInd)\n",
    " \n",
    "print(f\"chi2 statistic:     {chi2_stat:.5g}\")\n",
    "print(f\"p-value:            {rg_p:.5g}\")\n",
    "print(f\"degrees of freedom: {dof}\")\n",
    "print(\"expected frequencies:\\n\",expected)"
   ]
  },
  {
   "cell_type": "code",
   "execution_count": 16,
   "metadata": {},
   "outputs": [
    {
     "name": "stdout",
     "output_type": "stream",
     "text": [
      "Ethnicity Gender table :\n",
      " Age Present         0    1\n",
      "Ethnicity Present         \n",
      "0                  31  125\n",
      "1                   1    9\n"
     ]
    }
   ],
   "source": [
    "ethnAgeInd=pd.crosstab(chi2_data[\"Ethnicity Present\"],chi2_data[\"Age Present\"])\n",
    "print('Ethnicity Gender table :\\n',ethnAgeInd)"
   ]
  },
  {
   "cell_type": "code",
   "execution_count": 17,
   "metadata": {},
   "outputs": [
    {
     "name": "stdout",
     "output_type": "stream",
     "text": [
      "chi2 statistic:     0.1251\n",
      "p-value:            0.72357\n",
      "degrees of freedom: 1\n",
      "expected frequencies:\n",
      " [[ 30.07228916 125.92771084]\n",
      " [  1.92771084   8.07228916]]\n"
     ]
    }
   ],
   "source": [
    "chi2_stat, ea_p, dof, expected = scipy.stats.chi2_contingency(ethnAgeInd)\n",
    " \n",
    "print(f\"chi2 statistic:     {chi2_stat:.5g}\")\n",
    "print(f\"p-value:            {ea_p:.5g}\")\n",
    "print(f\"degrees of freedom: {dof}\")\n",
    "print(\"expected frequencies:\\n\",expected)"
   ]
  },
  {
   "cell_type": "code",
   "execution_count": 18,
   "metadata": {},
   "outputs": [
    {
     "name": "stdout",
     "output_type": "stream",
     "text": [
      "Ethnicity Gender table :\n",
      " Sex Present         0    1\n",
      "Ethnicity Present         \n",
      "0                  31  125\n",
      "1                   0   10\n"
     ]
    }
   ],
   "source": [
    "ethnGenderInd=pd.crosstab(chi2_data[\"Ethnicity Present\"],chi2_data[\"Sex Present\"])\n",
    "print('Ethnicity Gender table :\\n',ethnGenderInd)"
   ]
  },
  {
   "cell_type": "code",
   "execution_count": 19,
   "metadata": {},
   "outputs": [
    {
     "name": "stdout",
     "output_type": "stream",
     "text": [
      "chi2 statistic:     1.3102\n",
      "p-value:            0.25236\n",
      "degrees of freedom: 1\n",
      "expected frequencies:\n",
      " [[ 29.13253012 126.86746988]\n",
      " [  1.86746988   8.13253012]]\n"
     ]
    }
   ],
   "source": [
    "chi2_stat, eg_p, dof, expected = scipy.stats.chi2_contingency(ethnGenderInd)\n",
    " \n",
    "print(f\"chi2 statistic:     {chi2_stat:.5g}\")\n",
    "print(f\"p-value:            {eg_p:.5g}\")\n",
    "print(f\"degrees of freedom: {dof}\")\n",
    "print(\"expected frequencies:\\n\",expected)"
   ]
  },
  {
   "cell_type": "code",
   "execution_count": 20,
   "metadata": {},
   "outputs": [
    {
     "name": "stdout",
     "output_type": "stream",
     "text": [
      "Gender Age table :\n",
      " Age Present   0    1\n",
      "Sex Present         \n",
      "0            23    8\n",
      "1             9  126\n"
     ]
    }
   ],
   "source": [
    "genderAgeInd=pd.crosstab(chi2_data[\"Sex Present\"],chi2_data[\"Age Present\"])\n",
    "print('Gender Age table :\\n',genderAgeInd)"
   ]
  },
  {
   "cell_type": "code",
   "execution_count": 21,
   "metadata": {},
   "outputs": [
    {
     "name": "stdout",
     "output_type": "stream",
     "text": [
      "chi2 statistic:     69.6\n",
      "p-value:            7.2636e-17\n",
      "degrees of freedom: 1\n",
      "expected frequencies:\n",
      " [[  5.97590361  25.02409639]\n",
      " [ 26.02409639 108.97590361]]\n"
     ]
    }
   ],
   "source": [
    "chi2_stat, ga_p, dof, expected = scipy.stats.chi2_contingency(genderAgeInd)\n",
    " \n",
    "print(f\"chi2 statistic:     {chi2_stat:.5g}\")\n",
    "print(f\"p-value:            {ga_p:.5g}\")\n",
    "print(f\"degrees of freedom: {dof}\")\n",
    "print(\"expected frequencies:\\n\",expected)"
   ]
  },
  {
   "cell_type": "code",
   "execution_count": 22,
   "metadata": {},
   "outputs": [
    {
     "name": "stdout",
     "output_type": "stream",
     "text": [
      "Race Ethn table :\n",
      " Ethnicity Present    0   1\n",
      "Race Present              \n",
      "0                  148   0\n",
      "1                    8  10\n"
     ]
    }
   ],
   "source": [
    "raceEthnInd=pd.crosstab(chi2_data[\"Race Present\"],chi2_data[\"Ethnicity Present\"])\n",
    "print('Race Ethn table :\\n',raceEthnInd)"
   ]
  },
  {
   "cell_type": "code",
   "execution_count": 23,
   "metadata": {},
   "outputs": [
    {
     "name": "stdout",
     "output_type": "stream",
     "text": [
      "chi2 statistic:     77.955\n",
      "p-value:            1.0543e-18\n",
      "degrees of freedom: 1\n",
      "expected frequencies:\n",
      " [[139.08433735   8.91566265]\n",
      " [ 16.91566265   1.08433735]]\n"
     ]
    }
   ],
   "source": [
    "chi2_stat, re_p, dof, expected = scipy.stats.chi2_contingency(raceEthnInd)\n",
    " \n",
    "print(f\"chi2 statistic:     {chi2_stat:.5g}\")\n",
    "print(f\"p-value:            {re_p:.5g}\")\n",
    "print(f\"degrees of freedom: {dof}\")\n",
    "print(\"expected frequencies:\\n\",expected)"
   ]
  },
  {
   "cell_type": "code",
   "execution_count": 24,
   "metadata": {},
   "outputs": [
    {
     "data": {
      "image/png": "[encoded data removed]",
      "text/plain": [
       "<Figure size 700x600 with 2 Axes>"
      ]
     },
     "metadata": {},
     "output_type": "display_data"
    }
   ],
   "source": [
    "p_values = [\n",
    "    [None, ga_p, rg_p, eg_p],\n",
    "    [ga_p, None, ra_p, ea_p],\n",
    "    [rg_p, ra_p, None, re_p],\n",
    "    [eg_p, ea_p, re_p, None]\n",
    "]\n",
    "variable_names = ['Gender', 'Age', 'Race', 'Ethnicity']\n",
    "\n",
    "p_values_df = pd.DataFrame(p_values, index=variable_names, columns=variable_names)\n",
    "\n",
    "with np.errstate(divide='ignore'):\n",
    "    log_p_values_df = -np.log10(p_values_df)\n",
    "log_p_values_df.replace(-np.inf, np.nan, inplace=True)  \n",
    "\n",
    "plt.figure(figsize=(7, 6))\n",
    "cmap = sns.color_palette(\"Blues\", as_cmap=True)\n",
    "\n",
    "def format_annotation(val):\n",
    "    if pd.isna(val):\n",
    "        return 'N/A'  \n",
    "    if val<.0083:\n",
    "        return f'{val:.2e}*'\n",
    "    else:\n",
    "        return f'{val:.3f}'\n",
    "\n",
    "annot_df = p_values_df.applymap(format_annotation)\n",
    "\n",
    "sns.heatmap(log_p_values_df, annot=annot_df, cmap=cmap, fmt='', cbar=True, annot_kws={'fontsize': 10})\n",
    "\n",
    "plt.title('Chi-Squared Test P-values')\n",
    "plt.savefig(\"chi2.svg\", format=\"svg\", bbox_inches=\"tight\")\n",
    "plt.show()\n"
   ]
  }
 ],
 "metadata": {
  "kernelspec": {
   "display_name": "Python 3",
   "language": "python",
   "name": "python3"
  },
  "language_info": {
   "codemirror_mode": {
    "name": "ipython",
    "version": 3
   },
   "file_extension": ".py",
   "mimetype": "text/x-python",
   "name": "python",
   "nbconvert_exporter": "python",
   "pygments_lexer": "ipython3",
   "version": "3.11.4"
  },
  "orig_nbformat": 4
 },
 "nbformat": 4,
 "nbformat_minor": 2
}
